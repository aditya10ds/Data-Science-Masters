{
 "cells": [
  {
   "cell_type": "markdown",
   "id": "7a35e822-fc55-47de-9748-072adb9f5e38",
   "metadata": {},
   "source": [
    "# Logical Operators\n",
    "1. And\n",
    "2. or\n",
    "3. not"
   ]
  },
  {
   "cell_type": "code",
   "execution_count": 2,
   "id": "5fb3572d-93ab-4e94-adc3-fec331c3de99",
   "metadata": {},
   "outputs": [
    {
     "name": "stdout",
     "output_type": "stream",
     "text": [
      "Defined value of START = True\n",
      "Defined value of STOP = False \n",
      "\n",
      "Defined value of START = True\n",
      "Value of STOP by negating START= False \n",
      "\n",
      "Value of START by negating STOP = True\n",
      "Defined value of STOP = False \n",
      "\n"
     ]
    }
   ],
   "source": [
    "# Lets define two variables having boolean values True and False-\n",
    "START = True\n",
    "STOP = False\n",
    "\n",
    "# Print the values as it is\n",
    "print(f\"Defined value of START = {START}\")\n",
    "print(f\"Defined value of STOP = {STOP} \\n\")\n",
    "\n",
    "# if can also be written as - \n",
    "print(f\"Defined value of START = {START}\")\n",
    "print(f\"Value of STOP by negating START= {not START} \\n\")\n",
    "\n",
    "# alternatively -\n",
    "print(f\"Value of START by negating STOP = {not STOP}\")\n",
    "print(f\"Defined value of STOP = {STOP} \\n\")"
   ]
  },
  {
   "cell_type": "code",
   "execution_count": 3,
   "id": "9ca71af9-60c2-4066-9dc6-bc4b649dfb26",
   "metadata": {},
   "outputs": [
    {
     "data": {
      "text/plain": [
       "False"
      ]
     },
     "execution_count": 3,
     "metadata": {},
     "output_type": "execute_result"
    }
   ],
   "source": [
    "not True"
   ]
  },
  {
   "cell_type": "code",
   "execution_count": 4,
   "id": "e26d8e23-d848-48ff-944c-442316d8f0e1",
   "metadata": {},
   "outputs": [
    {
     "data": {
      "text/plain": [
       "True"
      ]
     },
     "execution_count": 4,
     "metadata": {},
     "output_type": "execute_result"
    }
   ],
   "source": [
    "not int(bool(0))"
   ]
  },
  {
   "cell_type": "code",
   "execution_count": 8,
   "id": "e402c8f3-1dd2-43bd-bbff-659f1e9d42be",
   "metadata": {},
   "outputs": [
    {
     "data": {
      "text/plain": [
       "False"
      ]
     },
     "execution_count": 8,
     "metadata": {},
     "output_type": "execute_result"
    }
   ],
   "source": [
    "not int(bool(1))"
   ]
  },
  {
   "cell_type": "code",
   "execution_count": 9,
   "id": "6c7a036a-414b-4bec-9130-38029ffc5d99",
   "metadata": {},
   "outputs": [
    {
     "data": {
      "text/plain": [
       "False"
      ]
     },
     "execution_count": 9,
     "metadata": {},
     "output_type": "execute_result"
    }
   ],
   "source": [
    "not 1"
   ]
  },
  {
   "cell_type": "code",
   "execution_count": 10,
   "id": "c1992b7c-3819-43c9-b9cc-870793a4cd56",
   "metadata": {},
   "outputs": [
    {
     "data": {
      "text/plain": [
       "True"
      ]
     },
     "execution_count": 10,
     "metadata": {},
     "output_type": "execute_result"
    }
   ],
   "source": [
    "not 0"
   ]
  },
  {
   "cell_type": "code",
   "execution_count": 11,
   "id": "f7cd1f59-3441-42e9-9b11-0d8930765b21",
   "metadata": {},
   "outputs": [
    {
     "name": "stdout",
     "output_type": "stream",
     "text": [
      "Defined value of START = 1\n",
      "Defined value of STOP = 0 \n",
      "\n",
      "Defined value of START = 1\n",
      "Value of STOP by negating START= 0 \n",
      "\n",
      "Value of START by negating STOP = 1\n",
      "Defined value of STOP = 0 \n",
      "\n"
     ]
    }
   ],
   "source": [
    "START = 1\n",
    "STOP = 0\n",
    "\n",
    "# Print the values as it is\n",
    "print(f\"Defined value of START = {START}\")\n",
    "print(f\"Defined value of STOP = {STOP} \\n\")\n",
    "\n",
    "# if can also be written as - \n",
    "print(f\"Defined value of START = {START}\")\n",
    "print(f\"Value of STOP by negating START= {int(not START)} \\n\")\n",
    "\n",
    "# alternatively -\n",
    "print(f\"Value of START by negating STOP = {int(not STOP)}\")\n",
    "print(f\"Defined value of STOP = {STOP} \\n\")"
   ]
  },
  {
   "cell_type": "code",
   "execution_count": 12,
   "id": "86f1c3ca-9ae0-42ef-b3f8-74dfa66608d3",
   "metadata": {},
   "outputs": [
    {
     "name": "stdout",
     "output_type": "stream",
     "text": [
      "boolean value of no. 0 is False\n",
      "boolean value of no. 1 is True\n",
      "negation of 0 is True and negation of 1 is False\n",
      "\n",
      "#------------------------#\n",
      "\n"
     ]
    }
   ],
   "source": [
    "zero = 0\n",
    "one = 1\n",
    "\n",
    "print(f\"boolean value of no. {zero} is {bool(zero)}\")\n",
    "print(f\"boolean value of no. {one} is {bool(one)}\")\n",
    "print(f\"negation of {zero} is {not zero} and negation of {one} is {not one}\")\n",
    "print(\"\\n#------------------------#\\n\")"
   ]
  },
  {
   "cell_type": "code",
   "execution_count": 13,
   "id": "5cb66d39-ed68-48e6-a4fb-512072aeea24",
   "metadata": {},
   "outputs": [
    {
     "name": "stdout",
     "output_type": "stream",
     "text": [
      "boolean value of no. -5 is True\n",
      "boolean value of no. 5 is True\n",
      "negation of -5 is False and negation of 5 is False\n",
      "\n",
      "#------------------------#\n",
      "\n"
     ]
    }
   ],
   "source": [
    "Some_negative_integer = -5\n",
    "Some_positive_integer = 5\n",
    "\n",
    "print(f\"boolean value of no. {Some_negative_integer} is {bool(Some_negative_integer)}\")\n",
    "print(f\"boolean value of no. {Some_positive_integer} is {bool(Some_positive_integer)}\")\n",
    "print(f\"negation of {Some_negative_integer} is {not Some_negative_integer} \\\n",
    "and negation of {Some_positive_integer} is {not Some_positive_integer}\")\n",
    "\n",
    "print(\"\\n#------------------------#\\n\")"
   ]
  },
  {
   "cell_type": "code",
   "execution_count": 14,
   "id": "5d2228a0-cdf5-4fe4-8324-b1c049ff7a6d",
   "metadata": {},
   "outputs": [
    {
     "name": "stdout",
     "output_type": "stream",
     "text": [
      "boolean value of no. -5.99 is True\n",
      "boolean value of no. 5.6 is True\n",
      "negation of -5.99 is False and negation of 5.6 is False\n"
     ]
    }
   ],
   "source": [
    "Some_negative_float = -5.99\n",
    "Some_positive_float = 5.6\n",
    "\n",
    "print(f\"boolean value of no. {Some_negative_float} is {bool(Some_negative_float)}\")\n",
    "print(f\"boolean value of no. {Some_positive_float} is {bool(Some_positive_float)}\")\n",
    "print(f\"negation of {Some_negative_float} is {not Some_negative_float} \\\n",
    "and negation of {Some_positive_float} is {not Some_positive_float}\")"
   ]
  },
  {
   "cell_type": "markdown",
   "id": "31995920-b6d4-41ed-b36d-8e04c9790830",
   "metadata": {},
   "source": [
    "## Logical And"
   ]
  },
  {
   "cell_type": "code",
   "execution_count": 22,
   "id": "5877c1e5-d957-40fa-892e-9bd3b57dbdf3",
   "metadata": {},
   "outputs": [
    {
     "name": "stdout",
     "output_type": "stream",
     "text": [
      "Dish contains VEGETABLES: True\n",
      "Dish contains SALT: False\n",
      "Hence dish prepared was good: False\n",
      "\n"
     ]
    }
   ],
   "source": [
    "VEGETABLES = True\n",
    "SALT = False\n",
    "DISH = VEGETABLES and SALT\n",
    "\n",
    "print(f\"Dish contains VEGETABLES: {VEGETABLES}\")\n",
    "print(f\"Dish contains SALT: {SALT}\")\n",
    "print(f\"Hence dish prepared was good: {DISH}\\n\")"
   ]
  },
  {
   "cell_type": "code",
   "execution_count": 23,
   "id": "d81a1f71-1d74-4101-a937-ce3399c384a2",
   "metadata": {},
   "outputs": [
    {
     "data": {
      "text/plain": [
       "0"
      ]
     },
     "execution_count": 23,
     "metadata": {},
     "output_type": "execute_result"
    }
   ],
   "source": [
    "True * False"
   ]
  },
  {
   "cell_type": "code",
   "execution_count": 25,
   "id": "1c05b2c4-4802-403d-9794-3a9597ad0c3b",
   "metadata": {},
   "outputs": [
    {
     "data": {
      "text/plain": [
       "True"
      ]
     },
     "execution_count": 25,
     "metadata": {},
     "output_type": "execute_result"
    }
   ],
   "source": [
    "not(False) * True "
   ]
  },
  {
   "cell_type": "code",
   "execution_count": 27,
   "id": "84be6e4b-f35d-41c0-8149-e9c7edceb698",
   "metadata": {},
   "outputs": [
    {
     "data": {
      "text/plain": [
       "0"
      ]
     },
     "execution_count": 27,
     "metadata": {},
     "output_type": "execute_result"
    }
   ],
   "source": [
    "False * (not(False))\n"
   ]
  },
  {
   "cell_type": "code",
   "execution_count": 28,
   "id": "237a00d4-0553-4579-86b5-b3664d362e1b",
   "metadata": {},
   "outputs": [
    {
     "data": {
      "text/plain": [
       "True"
      ]
     },
     "execution_count": 28,
     "metadata": {},
     "output_type": "execute_result"
    }
   ],
   "source": [
    "not(True) * False "
   ]
  },
  {
   "cell_type": "code",
   "execution_count": 29,
   "id": "820dec3b-84ab-4f7f-b2e4-9c1a587eb14d",
   "metadata": {},
   "outputs": [
    {
     "data": {
      "text/plain": [
       "0"
      ]
     },
     "execution_count": 29,
     "metadata": {},
     "output_type": "execute_result"
    }
   ],
   "source": [
    "(not(True)) * False "
   ]
  },
  {
   "cell_type": "code",
   "execution_count": 30,
   "id": "709def5f-6cfe-4732-8ded-b2cf0813b3e0",
   "metadata": {},
   "outputs": [
    {
     "data": {
      "text/plain": [
       "True"
      ]
     },
     "execution_count": 30,
     "metadata": {},
     "output_type": "execute_result"
    }
   ],
   "source": [
    "not(False)*False == True"
   ]
  },
  {
   "cell_type": "code",
   "execution_count": 31,
   "id": "f13bc2e9-f7c5-4596-8d30-bbeffb2066e5",
   "metadata": {},
   "outputs": [
    {
     "name": "stdout",
     "output_type": "stream",
     "text": [
      "0\n"
     ]
    }
   ],
   "source": [
    "print((not(False)) * False)"
   ]
  },
  {
   "cell_type": "code",
   "execution_count": 32,
   "id": "61fa4d8a-04cd-4af7-9ec5-b4cad3b92e3b",
   "metadata": {},
   "outputs": [
    {
     "data": {
      "text/plain": [
       "True"
      ]
     },
     "execution_count": 32,
     "metadata": {},
     "output_type": "execute_result"
    }
   ],
   "source": [
    "not False"
   ]
  },
  {
   "cell_type": "code",
   "execution_count": 33,
   "id": "3d89a2bc-0f14-4ac9-983e-7148e05e914a",
   "metadata": {},
   "outputs": [
    {
     "data": {
      "text/plain": [
       "True"
      ]
     },
     "execution_count": 33,
     "metadata": {},
     "output_type": "execute_result"
    }
   ],
   "source": [
    "not(False*True)"
   ]
  },
  {
   "cell_type": "code",
   "execution_count": 34,
   "id": "8744ad58-74bd-4d12-9253-ceb851ce204c",
   "metadata": {},
   "outputs": [
    {
     "data": {
      "text/plain": [
       "False"
      ]
     },
     "execution_count": 34,
     "metadata": {},
     "output_type": "execute_result"
    }
   ],
   "source": [
    "not(1)"
   ]
  },
  {
   "cell_type": "markdown",
   "id": "0037a4e0-2201-4930-bb12-337e15e0d085",
   "metadata": {},
   "source": [
    "###  Equality Operators\n",
    "\n",
    "Following operations are present in python for equlity check operation-\n",
    "\n",
    "|Operators|Meaning|\n",
    "|-|-|\n",
    "|**is**|***a is b*** returns true if variable/identifiers a and b *points* to the *same object*|\n",
    "|**is not**|***a is not b*** returns true if variable/identifiers a and b *points* to the *different object*|\n",
    "|**==**|***a == b*** returns true if variable/identifiers a and b has same value|\n",
    "|**!=**|***a != b*** returns true if variable/identifiers a and b has different value|"
   ]
  },
  {
   "cell_type": "code",
   "execution_count": 80,
   "id": "54fb1353-86ed-4cfe-a864-1c1d0d471e66",
   "metadata": {},
   "outputs": [],
   "source": [
    "lst_a=[1,2,3,4]\n",
    "lst_b=[1,2,3,4]"
   ]
  },
  {
   "cell_type": "code",
   "execution_count": 44,
   "id": "a71280df-ffe1-4328-9793-4407e5f17ad6",
   "metadata": {},
   "outputs": [
    {
     "name": "stdout",
     "output_type": "stream",
     "text": [
      "140347175123072\n",
      "140347119092160\n"
     ]
    }
   ],
   "source": [
    "print(id(lst_a))\n",
    "print(id(lst_b))"
   ]
  },
  {
   "cell_type": "code",
   "execution_count": 38,
   "id": "b1e8c909-0c47-4430-9a0b-f5cf6088bc62",
   "metadata": {},
   "outputs": [
    {
     "data": {
      "text/plain": [
       "False"
      ]
     },
     "execution_count": 38,
     "metadata": {},
     "output_type": "execute_result"
    }
   ],
   "source": [
    "lst_a is lst_b"
   ]
  },
  {
   "cell_type": "code",
   "execution_count": 79,
   "id": "6f16cc80-40e8-499c-a3be-83051649f7fa",
   "metadata": {},
   "outputs": [],
   "source": [
    "lst_a=[1,2,3,4]\n",
    "lst_b= lst_a"
   ]
  },
  {
   "cell_type": "code",
   "execution_count": 46,
   "id": "2bbffa83-9621-4131-9da1-33f42b352c0b",
   "metadata": {},
   "outputs": [
    {
     "name": "stdout",
     "output_type": "stream",
     "text": [
      "140347119179520\n",
      "140347119179520\n"
     ]
    }
   ],
   "source": [
    "print(id(lst_a))\n",
    "print(id(lst_b))"
   ]
  },
  {
   "cell_type": "code",
   "execution_count": 47,
   "id": "44ef76ca-ec17-4bc9-9073-95ce4b2b19be",
   "metadata": {},
   "outputs": [
    {
     "data": {
      "text/plain": [
       "True"
      ]
     },
     "execution_count": 47,
     "metadata": {},
     "output_type": "execute_result"
    }
   ],
   "source": [
    "lst_a is lst_b"
   ]
  },
  {
   "cell_type": "code",
   "execution_count": 6,
   "id": "230d1398-6c30-4d36-9106-8d9d92455ae5",
   "metadata": {},
   "outputs": [
    {
     "data": {
      "text/plain": [
       "True"
      ]
     },
     "execution_count": 6,
     "metadata": {},
     "output_type": "execute_result"
    }
   ],
   "source": [
    "lst_a=[1,2,3,4]\n",
    "lst_b=[1,2,3,4]\n",
    "\n",
    "lst_a is not lst_b"
   ]
  },
  {
   "cell_type": "code",
   "execution_count": 156,
   "id": "30d00a38-08c1-4cc6-917a-62ed75071fe7",
   "metadata": {},
   "outputs": [
    {
     "data": {
      "text/plain": [
       "False"
      ]
     },
     "execution_count": 156,
     "metadata": {},
     "output_type": "execute_result"
    }
   ],
   "source": [
    "lst_a == lst_b  #Here now its focusing on element in list not on id (addres)"
   ]
  },
  {
   "cell_type": "code",
   "execution_count": 157,
   "id": "50301dd3-4c8b-4e0d-b99a-c03c58055bb4",
   "metadata": {},
   "outputs": [],
   "source": [
    "a=2\n",
    "b=2"
   ]
  },
  {
   "cell_type": "code",
   "execution_count": 158,
   "id": "0f065488-2fe8-4495-a24d-847cc4177146",
   "metadata": {},
   "outputs": [
    {
     "name": "stdout",
     "output_type": "stream",
     "text": [
      "139807326961936\n",
      "139807326961936\n"
     ]
    }
   ],
   "source": [
    "print(id(a))\n",
    "print(id(b))"
   ]
  },
  {
   "cell_type": "code",
   "execution_count": 159,
   "id": "5bfe2a9e-4770-4bd7-818d-b7eb380f3959",
   "metadata": {},
   "outputs": [],
   "source": [
    "str1=\"krish\"\n",
    "str2=\"krish\""
   ]
  },
  {
   "cell_type": "code",
   "execution_count": 160,
   "id": "07e98df1-bc50-4c42-9dba-788e6447a1f6",
   "metadata": {},
   "outputs": [
    {
     "name": "stdout",
     "output_type": "stream",
     "text": [
      "139807226151472\n",
      "139807226151472\n"
     ]
    }
   ],
   "source": [
    "print(id(str1))\n",
    "print(id(str2))"
   ]
  },
  {
   "cell_type": "code",
   "execution_count": 161,
   "id": "ab6da25b-8cf3-48d3-be5a-204fafa3c0cd",
   "metadata": {},
   "outputs": [],
   "source": [
    "str1=\"krish\"\n",
    "str2=\"krish1\""
   ]
  },
  {
   "cell_type": "code",
   "execution_count": 162,
   "id": "d23889cb-16d2-49a9-b15d-d4b6052dee28",
   "metadata": {},
   "outputs": [
    {
     "name": "stdout",
     "output_type": "stream",
     "text": [
      "139807226151472\n",
      "139807226165040\n"
     ]
    }
   ],
   "source": [
    "print(id(str1))\n",
    "print(id(str2))"
   ]
  },
  {
   "cell_type": "code",
   "execution_count": 163,
   "id": "8e5386b3-80f1-4876-8314-1fb86b23643f",
   "metadata": {},
   "outputs": [
    {
     "data": {
      "text/plain": [
       "[10, 2, 3, 4]"
      ]
     },
     "execution_count": 163,
     "metadata": {},
     "output_type": "execute_result"
    }
   ],
   "source": [
    "lst_a"
   ]
  },
  {
   "cell_type": "code",
   "execution_count": 164,
   "id": "efbac80b-c6a9-4cf8-b963-a92f56850656",
   "metadata": {},
   "outputs": [
    {
     "data": {
      "text/plain": [
       "10"
      ]
     },
     "execution_count": 164,
     "metadata": {},
     "output_type": "execute_result"
    }
   ],
   "source": [
    "lst_a[0]"
   ]
  },
  {
   "cell_type": "code",
   "execution_count": 165,
   "id": "035f283a-fed5-454f-9702-0660c3375c66",
   "metadata": {},
   "outputs": [],
   "source": [
    "lst_a[0]=10"
   ]
  },
  {
   "cell_type": "code",
   "execution_count": 166,
   "id": "79d9f65c-d510-4356-a69d-4e1d9ecf7be6",
   "metadata": {},
   "outputs": [
    {
     "data": {
      "text/plain": [
       "[10, 2, 3, 4]"
      ]
     },
     "execution_count": 166,
     "metadata": {},
     "output_type": "execute_result"
    }
   ],
   "source": [
    "lst_a"
   ]
  },
  {
   "cell_type": "code",
   "execution_count": 167,
   "id": "6d189acf-0efd-4f00-81d3-fcc68c09ef11",
   "metadata": {},
   "outputs": [
    {
     "data": {
      "text/plain": [
       "'krish'"
      ]
     },
     "execution_count": 167,
     "metadata": {},
     "output_type": "execute_result"
    }
   ],
   "source": [
    "str1"
   ]
  },
  {
   "cell_type": "code",
   "execution_count": 168,
   "id": "0566835b-b970-472d-a897-d755cefb2f38",
   "metadata": {},
   "outputs": [
    {
     "ename": "SyntaxError",
     "evalue": "unterminated string literal (detected at line 1) (2563988755.py, line 1)",
     "output_type": "error",
     "traceback": [
      "\u001b[0;36m  Cell \u001b[0;32mIn[168], line 1\u001b[0;36m\u001b[0m\n\u001b[0;31m    str1[0]='N\"  ##string is immutable\u001b[0m\n\u001b[0m            ^\u001b[0m\n\u001b[0;31mSyntaxError\u001b[0m\u001b[0;31m:\u001b[0m unterminated string literal (detected at line 1)\n"
     ]
    }
   ],
   "source": [
    "str1[0]='N\"  ##string is immutable"
   ]
  },
  {
   "cell_type": "markdown",
   "id": "a1359874-4f83-445e-8445-1dbeed4b981c",
   "metadata": {},
   "source": [
    "## Comprasion Operation\n",
    "\n",
    "|Operation|Meaning|\n",
    "|:-:|:-:|\n",
    "| **<** |less than|\n",
    "| **<=** |less than or equal to|\n",
    "| **>** |greater than|\n",
    "| **>=** |greater than or equal to|"
   ]
  },
  {
   "cell_type": "code",
   "execution_count": 169,
   "id": "48cd34cf-d01c-4308-9fe0-e80c38939b2a",
   "metadata": {},
   "outputs": [
    {
     "name": "stdout",
     "output_type": "stream",
     "text": [
      "bike is faster than car: False\n"
     ]
    }
   ],
   "source": [
    "maxium_speed_of_bike = 150\n",
    "max_speed_of_car = 200\n",
    "\n",
    "print(f\"bike is faster than car: {maxium_speed_of_bike > max_speed_of_car}\")"
   ]
  },
  {
   "cell_type": "code",
   "execution_count": 170,
   "id": "100ec5bc-a7c3-4090-9c55-e4ce70a28098",
   "metadata": {},
   "outputs": [
    {
     "name": "stdout",
     "output_type": "stream",
     "text": [
      "bike is faster than car: True\n"
     ]
    }
   ],
   "source": [
    "maxium_speed_of_bike = 200\n",
    "max_speed_of_car = 200\n",
    "\n",
    "print(f\"bike is faster than car: {maxium_speed_of_bike <= max_speed_of_car}\")"
   ]
  },
  {
   "cell_type": "markdown",
   "id": "422aab0b-356a-4f43-b521-697124d36724",
   "metadata": {},
   "source": [
    "## Arthematic Operation\n",
    "|Operation|Meaning|\n",
    "|:-:|:-:|\n",
    "| **+** |addition|\n",
    "| **-** |subtraction|\n",
    "| **\\*** |multiplication|\n",
    "| **/** |true division|\n",
    "| **//** |integer division|\n",
    "| **%** |the modulo operator|"
   ]
  },
  {
   "cell_type": "code",
   "execution_count": 171,
   "id": "5ab66611-92be-45b9-a173-3f043653b73f",
   "metadata": {},
   "outputs": [],
   "source": [
    "a=25\n",
    "b=101"
   ]
  },
  {
   "cell_type": "code",
   "execution_count": 172,
   "id": "0bf524c9-724d-48dc-8c04-b45a974aace1",
   "metadata": {},
   "outputs": [
    {
     "data": {
      "text/plain": [
       "2525"
      ]
     },
     "execution_count": 172,
     "metadata": {},
     "output_type": "execute_result"
    }
   ],
   "source": [
    "b*a"
   ]
  },
  {
   "cell_type": "code",
   "execution_count": 173,
   "id": "594a71d7-f655-49b0-a6bf-5991308bba39",
   "metadata": {},
   "outputs": [
    {
     "data": {
      "text/plain": [
       "126"
      ]
     },
     "execution_count": 173,
     "metadata": {},
     "output_type": "execute_result"
    }
   ],
   "source": [
    "b+a"
   ]
  },
  {
   "cell_type": "code",
   "execution_count": 174,
   "id": "4e9bdd0f-731a-4415-bde7-e203ddc3c951",
   "metadata": {},
   "outputs": [
    {
     "data": {
      "text/plain": [
       "0.24752475247524752"
      ]
     },
     "execution_count": 174,
     "metadata": {},
     "output_type": "execute_result"
    }
   ],
   "source": [
    "a/b"
   ]
  },
  {
   "cell_type": "code",
   "execution_count": 175,
   "id": "7b5d89a5-bb19-4d71-8d45-a96c3d589f3d",
   "metadata": {},
   "outputs": [
    {
     "data": {
      "text/plain": [
       "0"
      ]
     },
     "execution_count": 175,
     "metadata": {},
     "output_type": "execute_result"
    }
   ],
   "source": [
    "a//b"
   ]
  },
  {
   "cell_type": "code",
   "execution_count": 176,
   "id": "e9219980-75cd-45c6-b639-26dc608fe0c2",
   "metadata": {},
   "outputs": [
    {
     "data": {
      "text/plain": [
       "4"
      ]
     },
     "execution_count": 176,
     "metadata": {},
     "output_type": "execute_result"
    }
   ],
   "source": [
    "b//a"
   ]
  },
  {
   "cell_type": "code",
   "execution_count": 177,
   "id": "26c570e1-5db6-4213-9ba2-9c6886caf5fd",
   "metadata": {},
   "outputs": [
    {
     "data": {
      "text/plain": [
       "1"
      ]
     },
     "execution_count": 177,
     "metadata": {},
     "output_type": "execute_result"
    }
   ],
   "source": [
    "b%a"
   ]
  },
  {
   "cell_type": "code",
   "execution_count": 178,
   "id": "7266f852-b162-43ac-914e-7a46cefb789a",
   "metadata": {},
   "outputs": [
    {
     "data": {
      "text/plain": [
       "25"
      ]
     },
     "execution_count": 178,
     "metadata": {},
     "output_type": "execute_result"
    }
   ],
   "source": [
    "##Display the remainder \n",
    "a%b"
   ]
  },
  {
   "cell_type": "markdown",
   "id": "05303c04-5641-408c-8275-6a7e9d7e4d7b",
   "metadata": {},
   "source": [
    "### Bitwise Operators\n",
    "|Operation|Meaning|\n",
    "|:-:|:-:|\n",
    "| **∼** |bitwise complement (prefix unary operator)|\n",
    "| **&** |bitwise and|\n",
    "| **\\|** |bitwise or|\n",
    "| **^** |bitwise exclusive-or|\n",
    "| **<<** |shift bits left, filling in with zeros|\n",
    "| **>>** |shift bits right, filling in with sign bit|"
   ]
  },
  {
   "cell_type": "code",
   "execution_count": 179,
   "id": "2b550a18-783e-4ee2-bdab-3988132b71b0",
   "metadata": {},
   "outputs": [
    {
     "data": {
      "text/plain": [
       "'0b1010'"
      ]
     },
     "execution_count": 179,
     "metadata": {},
     "output_type": "execute_result"
    }
   ],
   "source": [
    "var=10\n",
    "bin(var)"
   ]
  },
  {
   "cell_type": "code",
   "execution_count": 180,
   "id": "d4c95dff-c771-4c8e-8fae-9c88164a25bb",
   "metadata": {},
   "outputs": [
    {
     "data": {
      "text/plain": [
       "-11"
      ]
     },
     "execution_count": 180,
     "metadata": {},
     "output_type": "execute_result"
    }
   ],
   "source": [
    "~var"
   ]
  },
  {
   "cell_type": "code",
   "execution_count": 181,
   "id": "915b4fec-d212-4e2f-acec-ec6e50902337",
   "metadata": {},
   "outputs": [
    {
     "data": {
      "text/plain": [
       "False"
      ]
     },
     "execution_count": 181,
     "metadata": {},
     "output_type": "execute_result"
    }
   ],
   "source": [
    "True & False"
   ]
  },
  {
   "cell_type": "code",
   "execution_count": 182,
   "id": "6025536d-18a2-470f-9345-ee90057fd51a",
   "metadata": {},
   "outputs": [
    {
     "data": {
      "text/plain": [
       "False"
      ]
     },
     "execution_count": 182,
     "metadata": {},
     "output_type": "execute_result"
    }
   ],
   "source": [
    "False&False"
   ]
  },
  {
   "cell_type": "code",
   "execution_count": 183,
   "id": "959ae7a5-4d3a-40f8-81ea-b755f23b1b91",
   "metadata": {},
   "outputs": [
    {
     "data": {
      "text/plain": [
       "5"
      ]
     },
     "execution_count": 183,
     "metadata": {},
     "output_type": "execute_result"
    }
   ],
   "source": [
    "var >>1"
   ]
  },
  {
   "cell_type": "code",
   "execution_count": 184,
   "id": "c103576f-de8c-4b0a-875e-9aea874e718a",
   "metadata": {},
   "outputs": [
    {
     "data": {
      "text/plain": [
       "20"
      ]
     },
     "execution_count": 184,
     "metadata": {},
     "output_type": "execute_result"
    }
   ],
   "source": [
    "var<<1"
   ]
  },
  {
   "cell_type": "markdown",
   "id": "0f415d74-02a2-47b7-9748-09c2c8371539",
   "metadata": {},
   "source": [
    "### String"
   ]
  },
  {
   "cell_type": "code",
   "execution_count": 185,
   "id": "050578de-8f74-4065-b674-4320c3c73d5d",
   "metadata": {},
   "outputs": [
    {
     "data": {
      "text/plain": [
       "'Welcome to Data Science Masters'"
      ]
     },
     "execution_count": 185,
     "metadata": {},
     "output_type": "execute_result"
    }
   ],
   "source": [
    "\"Welcome to Data Science Masters\""
   ]
  },
  {
   "cell_type": "code",
   "execution_count": 186,
   "id": "97a8f163-5a43-4fb2-bcd8-b4788980ef3a",
   "metadata": {},
   "outputs": [],
   "source": [
    "str1 = \"Welcome to Data Science Masters\""
   ]
  },
  {
   "cell_type": "code",
   "execution_count": 187,
   "id": "678dc6ec-3ec8-4aee-84c6-1adeb8c4965c",
   "metadata": {},
   "outputs": [
    {
     "data": {
      "text/plain": [
       "str"
      ]
     },
     "execution_count": 187,
     "metadata": {},
     "output_type": "execute_result"
    }
   ],
   "source": [
    "type(str1)"
   ]
  },
  {
   "cell_type": "code",
   "execution_count": 188,
   "id": "770201b2-a03c-49d5-b41c-cf38ffe04c92",
   "metadata": {},
   "outputs": [
    {
     "ename": "TypeError",
     "evalue": "'str' object does not support item assignment",
     "output_type": "error",
     "traceback": [
      "\u001b[0;31m---------------------------------------------------------------------------\u001b[0m",
      "\u001b[0;31mTypeError\u001b[0m                                 Traceback (most recent call last)",
      "Cell \u001b[0;32mIn[188], line 2\u001b[0m\n\u001b[1;32m      1\u001b[0m \u001b[38;5;66;03m## immutable \u001b[39;00m\n\u001b[0;32m----> 2\u001b[0m \u001b[43mstr1\u001b[49m\u001b[43m[\u001b[49m\u001b[38;5;241;43m0\u001b[39;49m\u001b[43m]\u001b[49m\u001b[38;5;241m=\u001b[39m\u001b[38;5;241m12\u001b[39m\n",
      "\u001b[0;31mTypeError\u001b[0m: 'str' object does not support item assignment"
     ]
    }
   ],
   "source": [
    "## immutable \n",
    "str1[0]=12"
   ]
  },
  {
   "cell_type": "code",
   "execution_count": 189,
   "id": "a2e854ad-f3ce-4584-aa1b-f00eadee62ad",
   "metadata": {},
   "outputs": [],
   "source": [
    "str1=\"Aditya\""
   ]
  },
  {
   "cell_type": "code",
   "execution_count": 190,
   "id": "123b994b-89fa-46ed-95eb-cf6111864d99",
   "metadata": {},
   "outputs": [
    {
     "data": {
      "text/plain": [
       "'Aditya'"
      ]
     },
     "execution_count": 190,
     "metadata": {},
     "output_type": "execute_result"
    }
   ],
   "source": [
    "str1"
   ]
  },
  {
   "cell_type": "code",
   "execution_count": 191,
   "id": "24d4824f-420e-4682-aeb8-9c859a4b14e7",
   "metadata": {},
   "outputs": [],
   "source": [
    "string =\"Pw Skills Data Science\""
   ]
  },
  {
   "cell_type": "code",
   "execution_count": 192,
   "id": "deaa81dc-983e-4272-823c-621acf3ba58f",
   "metadata": {},
   "outputs": [
    {
     "data": {
      "text/plain": [
       "'i'"
      ]
     },
     "execution_count": 192,
     "metadata": {},
     "output_type": "execute_result"
    }
   ],
   "source": [
    "string[5]"
   ]
  },
  {
   "cell_type": "code",
   "execution_count": 193,
   "id": "e547d169-aff7-4f64-ae4d-6de492317cfb",
   "metadata": {},
   "outputs": [
    {
     "data": {
      "text/plain": [
       "'ills D'"
      ]
     },
     "execution_count": 193,
     "metadata": {},
     "output_type": "execute_result"
    }
   ],
   "source": [
    "## sclice operation \n",
    "string[5:11]"
   ]
  },
  {
   "cell_type": "code",
   "execution_count": 194,
   "id": "92fec159-13e9-4fd7-a98e-a7ca296cb5b9",
   "metadata": {},
   "outputs": [
    {
     "data": {
      "text/plain": [
       "'e'"
      ]
     },
     "execution_count": 194,
     "metadata": {},
     "output_type": "execute_result"
    }
   ],
   "source": [
    "string[-1]"
   ]
  },
  {
   "cell_type": "code",
   "execution_count": 195,
   "id": "f8070ff7-4c7e-4282-84a0-a9c0334bc933",
   "metadata": {},
   "outputs": [
    {
     "data": {
      "text/plain": [
       "'e'"
      ]
     },
     "execution_count": 195,
     "metadata": {},
     "output_type": "execute_result"
    }
   ],
   "source": [
    "string[-1]"
   ]
  },
  {
   "cell_type": "code",
   "execution_count": 196,
   "id": "b510f915-0eac-4a40-8193-b30566287bc4",
   "metadata": {},
   "outputs": [
    {
     "data": {
      "text/plain": [
       "'S'"
      ]
     },
     "execution_count": 196,
     "metadata": {},
     "output_type": "execute_result"
    }
   ],
   "source": [
    "string[-7]"
   ]
  },
  {
   "cell_type": "code",
   "execution_count": 197,
   "id": "499953d4-3cc6-442b-a68f-ad4cffcc5d13",
   "metadata": {},
   "outputs": [
    {
     "data": {
      "text/plain": [
       "'Scie'"
      ]
     },
     "execution_count": 197,
     "metadata": {},
     "output_type": "execute_result"
    }
   ],
   "source": [
    "string[-7 : -3]"
   ]
  },
  {
   "cell_type": "code",
   "execution_count": 198,
   "id": "3ac8d206-5cf0-4782-b973-702fbfecba07",
   "metadata": {},
   "outputs": [
    {
     "data": {
      "text/plain": [
       "''"
      ]
     },
     "execution_count": 198,
     "metadata": {},
     "output_type": "execute_result"
    }
   ],
   "source": [
    "string[-7 :5]"
   ]
  },
  {
   "cell_type": "code",
   "execution_count": 199,
   "id": "fbd9e0b6-a840-474b-b3dd-8942a7cc9725",
   "metadata": {},
   "outputs": [
    {
     "data": {
      "text/plain": [
       "''"
      ]
     },
     "execution_count": 199,
     "metadata": {},
     "output_type": "execute_result"
    }
   ],
   "source": [
    "string[7:5]"
   ]
  },
  {
   "cell_type": "code",
   "execution_count": 200,
   "id": "26b25498-91f1-4ed2-9921-294f3342132b",
   "metadata": {},
   "outputs": [
    {
     "data": {
      "text/plain": [
       "''"
      ]
     },
     "execution_count": 200,
     "metadata": {},
     "output_type": "execute_result"
    }
   ],
   "source": [
    "string[-10:10]"
   ]
  },
  {
   "cell_type": "code",
   "execution_count": 201,
   "id": "26ad9d0d-d161-4472-89c9-7d559f268000",
   "metadata": {},
   "outputs": [
    {
     "data": {
      "text/plain": [
       "'Pw Skills Data Scienc'"
      ]
     },
     "execution_count": 201,
     "metadata": {},
     "output_type": "execute_result"
    }
   ],
   "source": [
    "string[:-1]"
   ]
  },
  {
   "cell_type": "code",
   "execution_count": 202,
   "id": "c7e2c974-65cf-428d-9710-6694f53fd9d5",
   "metadata": {},
   "outputs": [
    {
     "data": {
      "text/plain": [
       "'Pw Skills Data Science'"
      ]
     },
     "execution_count": 202,
     "metadata": {},
     "output_type": "execute_result"
    }
   ],
   "source": [
    "string[:]"
   ]
  },
  {
   "cell_type": "code",
   "execution_count": 203,
   "id": "ebbf3d64-3753-4914-a4c3-0c78971e4b11",
   "metadata": {},
   "outputs": [
    {
     "data": {
      "text/plain": [
       "'rt'"
      ]
     },
     "execution_count": 203,
     "metadata": {},
     "output_type": "execute_result"
    }
   ],
   "source": [
    "name = \"Karthik\"\n",
    "name[-5:4]"
   ]
  },
  {
   "cell_type": "code",
   "execution_count": 204,
   "id": "cf87e704-7120-4dc0-a7d0-c6a60a530f2d",
   "metadata": {},
   "outputs": [
    {
     "data": {
      "text/plain": [
       "'Pw Skills Data Science'"
      ]
     },
     "execution_count": 204,
     "metadata": {},
     "output_type": "execute_result"
    }
   ],
   "source": [
    "string"
   ]
  },
  {
   "cell_type": "code",
   "execution_count": 205,
   "id": "0a0b72d5-1bb5-4f59-8e92-4199ec733723",
   "metadata": {},
   "outputs": [
    {
     "data": {
      "text/plain": [
       "'ecneicS ataD sllikS wP'"
      ]
     },
     "execution_count": 205,
     "metadata": {},
     "output_type": "execute_result"
    }
   ],
   "source": [
    "string[::-1]"
   ]
  },
  {
   "cell_type": "code",
   "execution_count": 206,
   "id": "524ce71a-8a9e-40c0-a18a-a6b646bb9b1b",
   "metadata": {},
   "outputs": [
    {
     "data": {
      "text/plain": [
       "'eniSaa liSw'"
      ]
     },
     "execution_count": 206,
     "metadata": {},
     "output_type": "execute_result"
    }
   ],
   "source": [
    "string[::-2] #step -2 from reverse"
   ]
  },
  {
   "cell_type": "code",
   "execution_count": 207,
   "id": "d38a4a4a-d999-421d-9af9-2dce308ad1cb",
   "metadata": {},
   "outputs": [
    {
     "data": {
      "text/plain": [
       "'lik'"
      ]
     },
     "execution_count": 207,
     "metadata": {},
     "output_type": "execute_result"
    }
   ],
   "source": [
    "string[6:3:-1]"
   ]
  },
  {
   "cell_type": "code",
   "execution_count": 208,
   "id": "1b3e6572-f15d-4b8a-a3f7-4934c7f2b7f2",
   "metadata": {},
   "outputs": [],
   "source": [
    "name=\"Krish\""
   ]
  },
  {
   "cell_type": "code",
   "execution_count": 209,
   "id": "5b006052-0d3d-401c-a413-82fae14b276c",
   "metadata": {},
   "outputs": [
    {
     "data": {
      "text/plain": [
       "'hiK'"
      ]
     },
     "execution_count": 209,
     "metadata": {},
     "output_type": "execute_result"
    }
   ],
   "source": [
    "name[::-2]"
   ]
  },
  {
   "cell_type": "code",
   "execution_count": 210,
   "id": "b181d621-e6bb-4531-9681-082b816796a6",
   "metadata": {},
   "outputs": [
    {
     "data": {
      "text/plain": [
       "'hsirK'"
      ]
     },
     "execution_count": 210,
     "metadata": {},
     "output_type": "execute_result"
    }
   ],
   "source": [
    "name[4::-1]"
   ]
  },
  {
   "cell_type": "code",
   "execution_count": 211,
   "id": "34e2619e-cbf4-48fc-94ce-72090c5fb2b1",
   "metadata": {},
   "outputs": [
    {
     "data": {
      "text/plain": [
       "'sirK'"
      ]
     },
     "execution_count": 211,
     "metadata": {},
     "output_type": "execute_result"
    }
   ],
   "source": [
    "name[3::-1]"
   ]
  },
  {
   "cell_type": "code",
   "execution_count": 212,
   "id": "b5276c3a-e899-4764-9ccd-e3e51c1d6573",
   "metadata": {},
   "outputs": [
    {
     "data": {
      "text/plain": [
       "'si'"
      ]
     },
     "execution_count": 212,
     "metadata": {},
     "output_type": "execute_result"
    }
   ],
   "source": [
    "name[3:1:-1]"
   ]
  },
  {
   "cell_type": "code",
   "execution_count": 213,
   "id": "4fd29877-6e79-4252-a13c-8219f3aa9f11",
   "metadata": {},
   "outputs": [],
   "source": [
    "course_name =\"Data Science Masters\""
   ]
  },
  {
   "cell_type": "code",
   "execution_count": 214,
   "id": "0e7d88f6-184a-464e-bd9b-d163adf703dd",
   "metadata": {},
   "outputs": [
    {
     "data": {
      "text/plain": [
       "'Science'"
      ]
     },
     "execution_count": 214,
     "metadata": {},
     "output_type": "execute_result"
    }
   ],
   "source": [
    "course_name[5:12]"
   ]
  },
  {
   "cell_type": "code",
   "execution_count": 215,
   "id": "c7337396-5a8c-4b16-ad39-47ca2d01cbf1",
   "metadata": {},
   "outputs": [
    {
     "data": {
      "text/plain": [
       "'ecneicS'"
      ]
     },
     "execution_count": 215,
     "metadata": {},
     "output_type": "execute_result"
    }
   ],
   "source": [
    "course_name[11:4:-1]"
   ]
  },
  {
   "cell_type": "code",
   "execution_count": 216,
   "id": "fcdc318d-1236-45e7-a149-fb2a799c368c",
   "metadata": {},
   "outputs": [
    {
     "data": {
      "text/plain": [
       "'ecneicS'"
      ]
     },
     "execution_count": 216,
     "metadata": {},
     "output_type": "execute_result"
    }
   ],
   "source": [
    "course_name[11:4:-1]"
   ]
  },
  {
   "cell_type": "code",
   "execution_count": 217,
   "id": "cedee2c3-f8e4-45c9-b6cc-cddd210369f7",
   "metadata": {},
   "outputs": [
    {
     "data": {
      "text/plain": [
       "'Data Science Masters Course'"
      ]
     },
     "execution_count": 217,
     "metadata": {},
     "output_type": "execute_result"
    }
   ],
   "source": [
    "course_name + \" Course\""
   ]
  },
  {
   "cell_type": "code",
   "execution_count": 218,
   "id": "eca4d0ea-c612-4814-b4c0-b2c02f974e95",
   "metadata": {},
   "outputs": [
    {
     "data": {
      "text/plain": [
       "'Data Science Masters Course'"
      ]
     },
     "execution_count": 218,
     "metadata": {},
     "output_type": "execute_result"
    }
   ],
   "source": [
    "## concation \n",
    "course_name + \" Course\""
   ]
  },
  {
   "cell_type": "code",
   "execution_count": 219,
   "id": "73e99918-d056-4d13-a603-622145d11429",
   "metadata": {},
   "outputs": [
    {
     "name": "stdout",
     "output_type": "stream",
     "text": [
      "Hello World\n"
     ]
    }
   ],
   "source": [
    "print(\"Hello\" + \" World\")"
   ]
  },
  {
   "cell_type": "code",
   "execution_count": 220,
   "id": "088c2df2-7ec1-4631-826a-f00c63c552dc",
   "metadata": {},
   "outputs": [
    {
     "data": {
      "text/plain": [
       "'Data Science MastersData Science MastersData Science MastersData Science MastersData Science Masters'"
      ]
     },
     "execution_count": 220,
     "metadata": {},
     "output_type": "execute_result"
    }
   ],
   "source": [
    "course_name *5"
   ]
  },
  {
   "cell_type": "code",
   "execution_count": 221,
   "id": "faf555d0-fafc-42d0-a6a5-614c7fa95fa9",
   "metadata": {},
   "outputs": [
    {
     "data": {
      "text/plain": [
       "20"
      ]
     },
     "execution_count": 221,
     "metadata": {},
     "output_type": "execute_result"
    }
   ],
   "source": [
    "len(course_name)"
   ]
  },
  {
   "cell_type": "code",
   "execution_count": 222,
   "id": "4ec64537-77be-4ec4-b86e-0afbebcdef5b",
   "metadata": {},
   "outputs": [
    {
     "data": {
      "text/plain": [
       "9"
      ]
     },
     "execution_count": 222,
     "metadata": {},
     "output_type": "execute_result"
    }
   ],
   "source": [
    "course_name.find(\"n\")"
   ]
  },
  {
   "cell_type": "code",
   "execution_count": 223,
   "id": "1f41a541-3a78-48bb-bcd9-f942fe059fe4",
   "metadata": {},
   "outputs": [
    {
     "data": {
      "text/plain": [
       "1"
      ]
     },
     "execution_count": 223,
     "metadata": {},
     "output_type": "execute_result"
    }
   ],
   "source": [
    "course_name.find(\"a\")"
   ]
  },
  {
   "cell_type": "code",
   "execution_count": 224,
   "id": "5df539d4-a19c-4ece-aa21-8953006dd79d",
   "metadata": {},
   "outputs": [
    {
     "data": {
      "text/plain": [
       "3"
      ]
     },
     "execution_count": 224,
     "metadata": {},
     "output_type": "execute_result"
    }
   ],
   "source": [
    "course_name.find(\"a\",2,10)"
   ]
  },
  {
   "cell_type": "code",
   "execution_count": 225,
   "id": "01382c50-d1aa-4372-9ef3-1da12d62a846",
   "metadata": {},
   "outputs": [
    {
     "data": {
      "text/plain": [
       "-1"
      ]
     },
     "execution_count": 225,
     "metadata": {},
     "output_type": "execute_result"
    }
   ],
   "source": [
    "course_name.find(\"-z\")"
   ]
  },
  {
   "cell_type": "code",
   "execution_count": 226,
   "id": "9a54862f-6c3a-4bea-a780-6eb9bc5bc8d7",
   "metadata": {},
   "outputs": [
    {
     "data": {
      "text/plain": [
       "3"
      ]
     },
     "execution_count": 226,
     "metadata": {},
     "output_type": "execute_result"
    }
   ],
   "source": [
    "course_name.count(\"a\")"
   ]
  },
  {
   "cell_type": "code",
   "execution_count": 227,
   "id": "58c4427d-7982-4e7f-8881-3eb712c68f1d",
   "metadata": {},
   "outputs": [
    {
     "data": {
      "text/plain": [
       "21"
      ]
     },
     "execution_count": 227,
     "metadata": {},
     "output_type": "execute_result"
    }
   ],
   "source": [
    "course_name.count('')"
   ]
  },
  {
   "cell_type": "code",
   "execution_count": 228,
   "id": "e3e6edb1-3357-42b6-85ee-0c478369f0f6",
   "metadata": {},
   "outputs": [
    {
     "data": {
      "text/plain": [
       "'Data Science Masters'"
      ]
     },
     "execution_count": 228,
     "metadata": {},
     "output_type": "execute_result"
    }
   ],
   "source": [
    "course_name"
   ]
  },
  {
   "cell_type": "code",
   "execution_count": 229,
   "id": "f2d676fb-b48c-466b-9afb-bfa7970b6b84",
   "metadata": {},
   "outputs": [
    {
     "data": {
      "text/plain": [
       "['Data', 'Science', 'Masters']"
      ]
     },
     "execution_count": 229,
     "metadata": {},
     "output_type": "execute_result"
    }
   ],
   "source": [
    "## String split function \n",
    "course_name.split(\" \")"
   ]
  },
  {
   "cell_type": "code",
   "execution_count": 230,
   "id": "6683cdfb-9665-4c8e-a03c-86951e6ba447",
   "metadata": {},
   "outputs": [
    {
     "data": {
      "text/plain": [
       "['Data ', 'cience Masters']"
      ]
     },
     "execution_count": 230,
     "metadata": {},
     "output_type": "execute_result"
    }
   ],
   "source": [
    "course_name.split(\"S\")"
   ]
  },
  {
   "cell_type": "code",
   "execution_count": 231,
   "id": "8168c7f9-1899-4ab5-b737-da9133abfa31",
   "metadata": {},
   "outputs": [
    {
     "data": {
      "text/plain": [
       "['Data Science Ma', 'ter', '']"
      ]
     },
     "execution_count": 231,
     "metadata": {},
     "output_type": "execute_result"
    }
   ],
   "source": [
    "course_name.split(\"s\")"
   ]
  },
  {
   "cell_type": "code",
   "execution_count": 232,
   "id": "1669b711-5d60-47aa-b426-7ac2d8f27fa9",
   "metadata": {},
   "outputs": [
    {
     "data": {
      "text/plain": [
       "('Data ', 'S', 'cience Masters')"
      ]
     },
     "execution_count": 232,
     "metadata": {},
     "output_type": "execute_result"
    }
   ],
   "source": [
    "course_name.partition(\"S\")"
   ]
  },
  {
   "cell_type": "code",
   "execution_count": 233,
   "id": "492b1aad-5c06-4c2e-aaba-45d9399d3269",
   "metadata": {},
   "outputs": [
    {
     "data": {
      "text/plain": [
       "'DATA SCIENCE MASTERS'"
      ]
     },
     "execution_count": 233,
     "metadata": {},
     "output_type": "execute_result"
    }
   ],
   "source": [
    "## String upper and lowercase\n",
    "course_name.upper()"
   ]
  },
  {
   "cell_type": "code",
   "execution_count": 234,
   "id": "03e45930-23d2-41b1-bc0a-16f388ef8d32",
   "metadata": {},
   "outputs": [
    {
     "data": {
      "text/plain": [
       "'data science masters'"
      ]
     },
     "execution_count": 234,
     "metadata": {},
     "output_type": "execute_result"
    }
   ],
   "source": [
    "course_name.lower()"
   ]
  },
  {
   "cell_type": "code",
   "execution_count": 235,
   "id": "a9068ec9-723d-4e1d-bcbd-84013fc89d3c",
   "metadata": {},
   "outputs": [
    {
     "data": {
      "text/plain": [
       "'dATA sCIENCE mASTERS'"
      ]
     },
     "execution_count": 235,
     "metadata": {},
     "output_type": "execute_result"
    }
   ],
   "source": [
    "course_name.swapcase()"
   ]
  },
  {
   "cell_type": "code",
   "execution_count": 236,
   "id": "f3897ce8-91ac-4a42-b82f-8f46c5d1f11d",
   "metadata": {},
   "outputs": [
    {
     "data": {
      "text/plain": [
       "'Data Science Masters'"
      ]
     },
     "execution_count": 236,
     "metadata": {},
     "output_type": "execute_result"
    }
   ],
   "source": [
    "course_name.title()"
   ]
  },
  {
   "cell_type": "code",
   "execution_count": 237,
   "id": "542ee8fe-c08e-4c19-9f57-1b2c8d3ef366",
   "metadata": {},
   "outputs": [],
   "source": [
    "name= \"krish naik\""
   ]
  },
  {
   "cell_type": "code",
   "execution_count": 238,
   "id": "d714b941-307f-40ed-ba00-5bf9b70cdcb5",
   "metadata": {},
   "outputs": [
    {
     "data": {
      "text/plain": [
       "'Krish Naik'"
      ]
     },
     "execution_count": 238,
     "metadata": {},
     "output_type": "execute_result"
    }
   ],
   "source": [
    "name.title()"
   ]
  },
  {
   "cell_type": "code",
   "execution_count": null,
   "id": "edf03ac7-0536-4b46-8d58-8c41a5309c30",
   "metadata": {},
   "outputs": [],
   "source": []
  },
  {
   "cell_type": "code",
   "execution_count": null,
   "id": "6a7e5560-dae8-4472-95e8-aec15aa16c5d",
   "metadata": {},
   "outputs": [],
   "source": []
  },
  {
   "cell_type": "code",
   "execution_count": null,
   "id": "a796731a-8ccb-4cd4-9c60-03a41d5b3a50",
   "metadata": {},
   "outputs": [],
   "source": []
  },
  {
   "cell_type": "code",
   "execution_count": null,
   "id": "1801020b-f660-40c2-8540-b7c7c6b58a9b",
   "metadata": {},
   "outputs": [],
   "source": []
  },
  {
   "cell_type": "code",
   "execution_count": null,
   "id": "cc0eb6f2-44a5-4a67-bc12-d661291d58a5",
   "metadata": {},
   "outputs": [],
   "source": []
  },
  {
   "cell_type": "code",
   "execution_count": null,
   "id": "a1bcd4b1-f529-468c-85bb-2f67785c3e33",
   "metadata": {},
   "outputs": [],
   "source": []
  }
 ],
 "metadata": {
  "kernelspec": {
   "display_name": "Python 3 (ipykernel)",
   "language": "python",
   "name": "python3"
  },
  "language_info": {
   "codemirror_mode": {
    "name": "ipython",
    "version": 3
   },
   "file_extension": ".py",
   "mimetype": "text/x-python",
   "name": "python",
   "nbconvert_exporter": "python",
   "pygments_lexer": "ipython3",
   "version": "3.10.8"
  }
 },
 "nbformat": 4,
 "nbformat_minor": 5
}
