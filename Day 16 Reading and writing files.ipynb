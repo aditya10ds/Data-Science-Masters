{
 "cells": [
  {
   "cell_type": "code",
   "execution_count": 3,
   "id": "2392235c-0df7-4deb-98a0-9be7007b0724",
   "metadata": {},
   "outputs": [],
   "source": [
    "data = {\n",
    "    \"name\" : \"sudh\",\n",
    "    \"mail_id\" : \"sudh@gmail.com\",\n",
    "    \"phone_number\" : 91345435,\n",
    "    \"subject\" :[\"data science\" , \"big data\" , \"data analytics\"]\n",
    "}"
   ]
  },
  {
   "cell_type": "code",
   "execution_count": 4,
   "id": "6d5e2ef2-cd46-4cb4-a0a6-e88b6d25e998",
   "metadata": {},
   "outputs": [],
   "source": [
    "import json "
   ]
  },
  {
   "cell_type": "code",
   "execution_count": 7,
   "id": "9820ca80-1719-4257-8cc5-40da2549e4e9",
   "metadata": {},
   "outputs": [],
   "source": [
    "with open (\"data.json\",\"w\") as f:\n",
    "    json.dump(data,f)"
   ]
  },
  {
   "cell_type": "code",
   "execution_count": 9,
   "id": "6cd48af3-463f-48a5-83a1-818dca799f1a",
   "metadata": {},
   "outputs": [],
   "source": [
    "with open (\"data.json\",\"r\") as f :\n",
    "    data1 = json.load(f)"
   ]
  },
  {
   "cell_type": "code",
   "execution_count": 10,
   "id": "ba18e780-fd53-49c1-a855-fd7f1112b72a",
   "metadata": {},
   "outputs": [
    {
     "data": {
      "text/plain": [
       "{'name': 'sudh',\n",
       " 'mail_id': 'sudh@gmail.com',\n",
       " 'phone_number': 91345435,\n",
       " 'subject': ['data science', 'big data', 'data analytics']}"
      ]
     },
     "execution_count": 10,
     "metadata": {},
     "output_type": "execute_result"
    }
   ],
   "source": [
    "data1"
   ]
  },
  {
   "cell_type": "code",
   "execution_count": 13,
   "id": "67685bc9-1d19-4e29-94f7-a71685174c09",
   "metadata": {},
   "outputs": [
    {
     "data": {
      "text/plain": [
       "'big data'"
      ]
     },
     "execution_count": 13,
     "metadata": {},
     "output_type": "execute_result"
    }
   ],
   "source": [
    "data1[\"subject\"][1]"
   ]
  },
  {
   "cell_type": "code",
   "execution_count": 14,
   "id": "5941644d-42b0-4fc3-a115-e65a7c9d9ead",
   "metadata": {},
   "outputs": [],
   "source": [
    "import csv "
   ]
  },
  {
   "cell_type": "code",
   "execution_count": 15,
   "id": "3fa63b40-e73d-4cde-af33-13c785547cab",
   "metadata": {},
   "outputs": [],
   "source": [
    "data = [[\"name\", \"email_id\", \"phone_number\"],\n",
    "        [\"sudh\", \"sudh@gmail.com\", 65431233], \n",
    "        [\"krish\", \"krish@gmail.com\", 987654321]]"
   ]
  },
  {
   "cell_type": "code",
   "execution_count": 17,
   "id": "8cb870ec-830b-4886-ae08-25cdb1bae292",
   "metadata": {},
   "outputs": [],
   "source": [
    "with open(\"data.csv\", \"w\") as f :\n",
    "    writer = csv.writer(f)\n",
    "    for i in data :\n",
    "        writer.writerow(i)\n",
    "    "
   ]
  },
  {
   "cell_type": "code",
   "execution_count": 18,
   "id": "745047d3-7ab2-45a4-b2f8-333e5c91720e",
   "metadata": {},
   "outputs": [
    {
     "name": "stdout",
     "output_type": "stream",
     "text": [
      "['name', 'email_id', 'phone_number']\n",
      "['sudh', 'sudh@gmail.com', '65431233']\n",
      "['krish', 'krish@gmail.com', '987654321']\n"
     ]
    }
   ],
   "source": [
    "with open (\"data.csv\" , \"r\")as f :\n",
    "    read_data = csv.reader(f)\n",
    "    \n",
    "    for i in read_data:\n",
    "        print(i)"
   ]
  },
  {
   "cell_type": "code",
   "execution_count": 20,
   "id": "57981496-8bbb-496b-8621-0dd414ca0961",
   "metadata": {},
   "outputs": [],
   "source": [
    "with open (\"test4.bin\",\"wb\") as f :\n",
    "    f.write (b\"\\x01\\x02\\x03\")"
   ]
  },
  {
   "cell_type": "code",
   "execution_count": null,
   "id": "a86ca32b-4b66-4e28-b67c-234d28171874",
   "metadata": {},
   "outputs": [],
   "source": [
    "with open (\"test4.bin\" , \"rb\") as f :\n",
    "    f)"
   ]
  }
 ],
 "metadata": {
  "kernelspec": {
   "display_name": "Python 3 (ipykernel)",
   "language": "python",
   "name": "python3"
  },
  "language_info": {
   "codemirror_mode": {
    "name": "ipython",
    "version": 3
   },
   "file_extension": ".py",
   "mimetype": "text/x-python",
   "name": "python",
   "nbconvert_exporter": "python",
   "pygments_lexer": "ipython3",
   "version": "3.10.8"
  }
 },
 "nbformat": 4,
 "nbformat_minor": 5
}
