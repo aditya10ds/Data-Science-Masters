{
 "cells": [
  {
   "cell_type": "code",
   "execution_count": 2,
   "id": "81bdd841-387a-4fbf-ba0c-68597e4369ce",
   "metadata": {},
   "outputs": [],
   "source": [
    "#Numpy - Array Manipulation "
   ]
  },
  {
   "cell_type": "code",
   "execution_count": 3,
   "id": "9249bc97-51a2-45ff-a045-89c5beefb01b",
   "metadata": {},
   "outputs": [],
   "source": [
    "import numpy as np "
   ]
  },
  {
   "cell_type": "code",
   "execution_count": 4,
   "id": "59732805-edb2-4d5b-ad88-fe4d431d1f6a",
   "metadata": {},
   "outputs": [],
   "source": [
    "arr = np.random.randint(1,10, (3,4))"
   ]
  },
  {
   "cell_type": "code",
   "execution_count": 5,
   "id": "0ec9ad23-8ad1-4937-a4dd-07e485654bac",
   "metadata": {},
   "outputs": [
    {
     "data": {
      "text/plain": [
       "array([[4, 3, 1, 2],\n",
       "       [4, 3, 7, 3],\n",
       "       [3, 7, 6, 4]])"
      ]
     },
     "execution_count": 5,
     "metadata": {},
     "output_type": "execute_result"
    }
   ],
   "source": [
    "arr"
   ]
  },
  {
   "cell_type": "code",
   "execution_count": 6,
   "id": "82629996-214b-4f99-ac17-5718663ec557",
   "metadata": {},
   "outputs": [
    {
     "data": {
      "text/plain": [
       "array([[4, 3],\n",
       "       [1, 2],\n",
       "       [4, 3],\n",
       "       [7, 3],\n",
       "       [3, 7],\n",
       "       [6, 4]])"
      ]
     },
     "execution_count": 6,
     "metadata": {},
     "output_type": "execute_result"
    }
   ],
   "source": [
    "arr.reshape(6,2)"
   ]
  },
  {
   "cell_type": "code",
   "execution_count": 7,
   "id": "368d1645-7cf7-4480-929e-10b60a59f671",
   "metadata": {},
   "outputs": [
    {
     "data": {
      "text/plain": [
       "array([[4, 3, 1, 2, 4, 3],\n",
       "       [7, 3, 3, 7, 6, 4]])"
      ]
     },
     "execution_count": 7,
     "metadata": {},
     "output_type": "execute_result"
    }
   ],
   "source": [
    "arr.reshape(2,6)"
   ]
  },
  {
   "cell_type": "code",
   "execution_count": 8,
   "id": "4a8dd4c0-b075-4613-b38b-66a5bd4533f9",
   "metadata": {},
   "outputs": [
    {
     "data": {
      "text/plain": [
       "array([[4, 3, 1, 2, 4, 3],\n",
       "       [7, 3, 3, 7, 6, 4]])"
      ]
     },
     "execution_count": 8,
     "metadata": {},
     "output_type": "execute_result"
    }
   ],
   "source": [
    "arr.reshape(2,-2442)"
   ]
  },
  {
   "cell_type": "code",
   "execution_count": 9,
   "id": "4d8e0771-e668-4764-867f-49c1cb18c924",
   "metadata": {},
   "outputs": [
    {
     "data": {
      "text/plain": [
       "array([[4, 4, 3],\n",
       "       [3, 3, 7],\n",
       "       [1, 7, 6],\n",
       "       [2, 3, 4]])"
      ]
     },
     "execution_count": 9,
     "metadata": {},
     "output_type": "execute_result"
    }
   ],
   "source": [
    "arr.T"
   ]
  },
  {
   "cell_type": "code",
   "execution_count": 10,
   "id": "f30f73cd-6528-496b-87b7-c23ca0310249",
   "metadata": {},
   "outputs": [
    {
     "data": {
      "text/plain": [
       "array([4, 3, 1, 2, 4, 3, 7, 3, 3, 7, 6, 4])"
      ]
     },
     "execution_count": 10,
     "metadata": {},
     "output_type": "execute_result"
    }
   ],
   "source": [
    "arr.flatten()"
   ]
  },
  {
   "cell_type": "code",
   "execution_count": 12,
   "id": "3b257535-4e1e-4ff8-b147-808a65023bfc",
   "metadata": {},
   "outputs": [],
   "source": [
    "arr1 = np.array([1,2,3,4])"
   ]
  },
  {
   "cell_type": "code",
   "execution_count": 13,
   "id": "990009fe-b854-45a3-82b4-da1b9e1f2152",
   "metadata": {},
   "outputs": [
    {
     "data": {
      "text/plain": [
       "1"
      ]
     },
     "execution_count": 13,
     "metadata": {},
     "output_type": "execute_result"
    }
   ],
   "source": [
    "arr1.ndim"
   ]
  },
  {
   "cell_type": "code",
   "execution_count": 16,
   "id": "297da4cd-1de7-43a0-af84-d57f945c9cff",
   "metadata": {},
   "outputs": [
    {
     "data": {
      "text/plain": [
       "array([[1],\n",
       "       [2],\n",
       "       [3],\n",
       "       [4]])"
      ]
     },
     "execution_count": 16,
     "metadata": {},
     "output_type": "execute_result"
    }
   ],
   "source": [
    "np.expand_dims(arr1, axis =1 )"
   ]
  },
  {
   "cell_type": "code",
   "execution_count": 17,
   "id": "41989ef9-c439-479c-acfa-515f7193c292",
   "metadata": {},
   "outputs": [
    {
     "data": {
      "text/plain": [
       "array([[1, 2, 3, 4]])"
      ]
     },
     "execution_count": 17,
     "metadata": {},
     "output_type": "execute_result"
    }
   ],
   "source": [
    "np.expand_dims(arr1, axis =0 )"
   ]
  },
  {
   "cell_type": "code",
   "execution_count": 18,
   "id": "a8251804-fe1b-49cc-9439-87e5110b2f45",
   "metadata": {},
   "outputs": [
    {
     "data": {
      "text/plain": [
       "array([[4, 3, 1, 2],\n",
       "       [4, 3, 7, 3],\n",
       "       [3, 7, 6, 4]])"
      ]
     },
     "execution_count": 18,
     "metadata": {},
     "output_type": "execute_result"
    }
   ],
   "source": [
    "arr"
   ]
  },
  {
   "cell_type": "code",
   "execution_count": 19,
   "id": "b639ce61-75c5-4167-af10-e25bdedec5f7",
   "metadata": {},
   "outputs": [
    {
     "ename": "TypeError",
     "evalue": "only integer scalar arrays can be converted to a scalar index",
     "output_type": "error",
     "traceback": [
      "\u001b[0;31m---------------------------------------------------------------------------\u001b[0m",
      "\u001b[0;31mTypeError\u001b[0m                                 Traceback (most recent call last)",
      "Cell \u001b[0;32mIn[19], line 1\u001b[0m\n\u001b[0;32m----> 1\u001b[0m \u001b[43marr\u001b[49m\u001b[38;5;241;43m.\u001b[39;49m\u001b[43msqueeze\u001b[49m\u001b[43m(\u001b[49m\u001b[43marr\u001b[49m\u001b[43m)\u001b[49m\n",
      "\u001b[0;31mTypeError\u001b[0m: only integer scalar arrays can be converted to a scalar index"
     ]
    }
   ],
   "source": [
    "arr.squeeze(arr)"
   ]
  },
  {
   "cell_type": "code",
   "execution_count": 20,
   "id": "4175e315-47db-4611-b6a5-ae3f698b756a",
   "metadata": {},
   "outputs": [],
   "source": [
    "data = np.array([[1],[2],[3]])"
   ]
  },
  {
   "cell_type": "code",
   "execution_count": 21,
   "id": "c9d9f4c6-fd6f-426e-bd55-e44a37f55bba",
   "metadata": {},
   "outputs": [
    {
     "data": {
      "text/plain": [
       "array([1, 2, 3])"
      ]
     },
     "execution_count": 21,
     "metadata": {},
     "output_type": "execute_result"
    }
   ],
   "source": [
    "np.squeeze(data)"
   ]
  },
  {
   "cell_type": "code",
   "execution_count": 22,
   "id": "73e63d15-c01c-4941-8983-093290a60eb0",
   "metadata": {},
   "outputs": [
    {
     "data": {
      "text/plain": [
       "array([1, 2, 3, 4])"
      ]
     },
     "execution_count": 22,
     "metadata": {},
     "output_type": "execute_result"
    }
   ],
   "source": [
    "arr1"
   ]
  },
  {
   "cell_type": "code",
   "execution_count": 24,
   "id": "d61fdc33-1722-4ab3-9991-d5d4b762fb82",
   "metadata": {},
   "outputs": [
    {
     "data": {
      "text/plain": [
       "array([1, 1, 1, 2, 2, 2, 3, 3, 3, 4, 4, 4])"
      ]
     },
     "execution_count": 24,
     "metadata": {},
     "output_type": "execute_result"
    }
   ],
   "source": [
    "np.repeat(arr1 ,3)"
   ]
  },
  {
   "cell_type": "code",
   "execution_count": 26,
   "id": "351730b0-88f5-45a7-b5d1-ffb951662ed4",
   "metadata": {},
   "outputs": [
    {
     "data": {
      "text/plain": [
       "array([3, 4, 1, 2])"
      ]
     },
     "execution_count": 26,
     "metadata": {},
     "output_type": "execute_result"
    }
   ],
   "source": [
    "np.roll(arr1 ,shift = 2)"
   ]
  },
  {
   "cell_type": "code",
   "execution_count": 27,
   "id": "94c10443-f30e-47a6-966f-f5d985269e21",
   "metadata": {},
   "outputs": [
    {
     "data": {
      "text/plain": [
       "array([1, 2, 3, 4])"
      ]
     },
     "execution_count": 27,
     "metadata": {},
     "output_type": "execute_result"
    }
   ],
   "source": [
    "arr1"
   ]
  },
  {
   "cell_type": "code",
   "execution_count": 28,
   "id": "05d20476-ae32-49c9-a657-9a4669c275ec",
   "metadata": {},
   "outputs": [
    {
     "data": {
      "text/plain": [
       "array([2, 3, 4, 1])"
      ]
     },
     "execution_count": 28,
     "metadata": {},
     "output_type": "execute_result"
    }
   ],
   "source": [
    "np.roll(arr1 ,3)"
   ]
  },
  {
   "cell_type": "code",
   "execution_count": 29,
   "id": "8c0bd9c6-defa-4371-8e64-34e501b31613",
   "metadata": {},
   "outputs": [
    {
     "data": {
      "text/plain": [
       "array([[1, 0, 0, 0],\n",
       "       [0, 2, 0, 0],\n",
       "       [0, 0, 3, 0],\n",
       "       [0, 0, 0, 4]])"
      ]
     },
     "execution_count": 29,
     "metadata": {},
     "output_type": "execute_result"
    }
   ],
   "source": [
    "np.diag(arr1)"
   ]
  },
  {
   "cell_type": "code",
   "execution_count": 30,
   "id": "9d2a847e-49b5-49c3-b0f2-e899c7f1e708",
   "metadata": {},
   "outputs": [],
   "source": [
    "#Numpy - Binary operation "
   ]
  },
  {
   "cell_type": "code",
   "execution_count": 33,
   "id": "da130782-6a0f-48aa-b4eb-d2cced1a28a8",
   "metadata": {},
   "outputs": [],
   "source": [
    "arr1 = np.random.randint(1,10,(3,4))"
   ]
  },
  {
   "cell_type": "code",
   "execution_count": 34,
   "id": "417b6c5f-55b2-430c-bddd-bd7b2d922e1a",
   "metadata": {},
   "outputs": [],
   "source": [
    "arr2 = np.random.randint(1,10,(3,4))"
   ]
  },
  {
   "cell_type": "code",
   "execution_count": 35,
   "id": "f84cbde1-38e9-4b11-b7b3-701b324ff9df",
   "metadata": {},
   "outputs": [
    {
     "data": {
      "text/plain": [
       "array([[5, 8, 4, 1],\n",
       "       [1, 2, 6, 4],\n",
       "       [9, 1, 9, 9]])"
      ]
     },
     "execution_count": 35,
     "metadata": {},
     "output_type": "execute_result"
    }
   ],
   "source": [
    "arr1"
   ]
  },
  {
   "cell_type": "code",
   "execution_count": 36,
   "id": "3ec18eca-25e6-4468-bf05-809d75ba7993",
   "metadata": {},
   "outputs": [
    {
     "data": {
      "text/plain": [
       "array([[9, 6, 5, 6],\n",
       "       [3, 7, 6, 8],\n",
       "       [6, 8, 2, 6]])"
      ]
     },
     "execution_count": 36,
     "metadata": {},
     "output_type": "execute_result"
    }
   ],
   "source": [
    "arr2"
   ]
  },
  {
   "cell_type": "code",
   "execution_count": 37,
   "id": "9cd3b50d-4304-4620-9f28-73ef00dcf97e",
   "metadata": {},
   "outputs": [
    {
     "data": {
      "text/plain": [
       "array([[14, 14,  9,  7],\n",
       "       [ 4,  9, 12, 12],\n",
       "       [15,  9, 11, 15]])"
      ]
     },
     "execution_count": 37,
     "metadata": {},
     "output_type": "execute_result"
    }
   ],
   "source": [
    "arr1 + arr2"
   ]
  },
  {
   "cell_type": "code",
   "execution_count": 38,
   "id": "652cba28-c0a8-4510-8ccc-264e2c52bb25",
   "metadata": {},
   "outputs": [
    {
     "data": {
      "text/plain": [
       "array([[45, 48, 20,  6],\n",
       "       [ 3, 14, 36, 32],\n",
       "       [54,  8, 18, 54]])"
      ]
     },
     "execution_count": 38,
     "metadata": {},
     "output_type": "execute_result"
    }
   ],
   "source": [
    "arr1 * arr2"
   ]
  },
  {
   "cell_type": "code",
   "execution_count": 39,
   "id": "597ef499-7589-44b1-8689-5c4c10a5438a",
   "metadata": {},
   "outputs": [
    {
     "data": {
      "text/plain": [
       "array([[0.55555556, 1.33333333, 0.8       , 0.16666667],\n",
       "       [0.33333333, 0.28571429, 1.        , 0.5       ],\n",
       "       [1.5       , 0.125     , 4.5       , 1.5       ]])"
      ]
     },
     "execution_count": 39,
     "metadata": {},
     "output_type": "execute_result"
    }
   ],
   "source": [
    "arr1/ arr2"
   ]
  },
  {
   "cell_type": "code",
   "execution_count": 40,
   "id": "93657f43-596c-49cc-845d-030d232247db",
   "metadata": {},
   "outputs": [
    {
     "data": {
      "text/plain": [
       "array([[-4,  2, -1, -5],\n",
       "       [-2, -5,  0, -4],\n",
       "       [ 3, -7,  7,  3]])"
      ]
     },
     "execution_count": 40,
     "metadata": {},
     "output_type": "execute_result"
    }
   ],
   "source": [
    "arr1 - arr2"
   ]
  },
  {
   "cell_type": "code",
   "execution_count": 43,
   "id": "39dbe0d9-dc76-49de-9e09-c940d4473841",
   "metadata": {},
   "outputs": [
    {
     "data": {
      "text/plain": [
       "array([[5, 2, 4, 1],\n",
       "       [1, 2, 0, 4],\n",
       "       [3, 1, 1, 3]])"
      ]
     },
     "execution_count": 43,
     "metadata": {},
     "output_type": "execute_result"
    }
   ],
   "source": [
    "arr1%arr2"
   ]
  },
  {
   "cell_type": "code",
   "execution_count": 44,
   "id": "e48db3d8-9c97-4ffe-82ca-ce374ff1b129",
   "metadata": {},
   "outputs": [
    {
     "data": {
      "text/plain": [
       "array([[1953125,  262144,    1024,       1],\n",
       "       [      1,     128,   46656,   65536],\n",
       "       [ 531441,       1,      81,  531441]])"
      ]
     },
     "execution_count": 44,
     "metadata": {},
     "output_type": "execute_result"
    }
   ],
   "source": [
    "arr1** arr2"
   ]
  },
  {
   "cell_type": "code",
   "execution_count": 45,
   "id": "8c76879c-dcbf-4426-be82-92762623be2f",
   "metadata": {},
   "outputs": [
    {
     "data": {
      "text/plain": [
       "array([[1, 0, 4, 0],\n",
       "       [1, 2, 6, 0],\n",
       "       [0, 0, 0, 0]])"
      ]
     },
     "execution_count": 45,
     "metadata": {},
     "output_type": "execute_result"
    }
   ],
   "source": [
    "arr1 & arr2"
   ]
  },
  {
   "cell_type": "code",
   "execution_count": 46,
   "id": "a7dabf4a-0eb6-4c2f-850a-472d2284b2d3",
   "metadata": {},
   "outputs": [
    {
     "data": {
      "text/plain": [
       "array([[ -6,  -9,  -5,  -2],\n",
       "       [ -2,  -3,  -7,  -5],\n",
       "       [-10,  -2, -10, -10]])"
      ]
     },
     "execution_count": 46,
     "metadata": {},
     "output_type": "execute_result"
    }
   ],
   "source": [
    "~arr1"
   ]
  },
  {
   "cell_type": "code",
   "execution_count": 47,
   "id": "3d39ba56-6b45-4d35-b0e7-8cd93e6293ce",
   "metadata": {},
   "outputs": [
    {
     "data": {
      "text/plain": [
       "array([[13, 14,  5,  7],\n",
       "       [ 3,  7,  6, 12],\n",
       "       [15,  9, 11, 15]])"
      ]
     },
     "execution_count": 47,
     "metadata": {},
     "output_type": "execute_result"
    }
   ],
   "source": [
    "arr1|arr2"
   ]
  },
  {
   "cell_type": "code",
   "execution_count": 48,
   "id": "0884c87d-04b6-4327-8e4d-17aac0192bda",
   "metadata": {},
   "outputs": [
    {
     "data": {
      "text/plain": [
       "array([[False,  True, False, False],\n",
       "       [False, False, False, False],\n",
       "       [ True, False,  True,  True]])"
      ]
     },
     "execution_count": 48,
     "metadata": {},
     "output_type": "execute_result"
    }
   ],
   "source": [
    "arr1>arr2"
   ]
  },
  {
   "cell_type": "code",
   "execution_count": 49,
   "id": "46c54205-6bbf-4352-98c1-da2df731694c",
   "metadata": {},
   "outputs": [],
   "source": [
    "#Numpy - String Function "
   ]
  },
  {
   "cell_type": "code",
   "execution_count": 51,
   "id": "1de3aeaa-cda9-4a83-8da2-abd28b32c9dc",
   "metadata": {},
   "outputs": [],
   "source": [
    "arr   =np.array(['aditya' ,'kumar'])"
   ]
  },
  {
   "cell_type": "code",
   "execution_count": 52,
   "id": "7ebc39d8-e514-4ead-bc78-69f3ca35b36a",
   "metadata": {},
   "outputs": [
    {
     "data": {
      "text/plain": [
       "array(['aditya', 'kumar'], dtype='<U6')"
      ]
     },
     "execution_count": 52,
     "metadata": {},
     "output_type": "execute_result"
    }
   ],
   "source": [
    "arr"
   ]
  },
  {
   "cell_type": "code",
   "execution_count": 53,
   "id": "90176965-dab3-4889-9ec8-c9e5be6e8fa1",
   "metadata": {},
   "outputs": [
    {
     "data": {
      "text/plain": [
       "array(['ADITYA', 'KUMAR'], dtype='<U6')"
      ]
     },
     "execution_count": 53,
     "metadata": {},
     "output_type": "execute_result"
    }
   ],
   "source": [
    "np.char.upper(arr)"
   ]
  },
  {
   "cell_type": "code",
   "execution_count": 54,
   "id": "d5c227c7-2655-4003-835e-5e67979e9ab2",
   "metadata": {},
   "outputs": [
    {
     "data": {
      "text/plain": [
       "array(['Aditya', 'Kumar'], dtype='<U6')"
      ]
     },
     "execution_count": 54,
     "metadata": {},
     "output_type": "execute_result"
    }
   ],
   "source": [
    "np.char.title(arr)"
   ]
  },
  {
   "cell_type": "code",
   "execution_count": 55,
   "id": "fb374ff1-ee2b-44f6-b04a-67c0b86a6c86",
   "metadata": {},
   "outputs": [
    {
     "data": {
      "text/plain": [
       "array(['Aditya', 'Kumar'], dtype='<U6')"
      ]
     },
     "execution_count": 55,
     "metadata": {},
     "output_type": "execute_result"
    }
   ],
   "source": [
    "np.char.capitalize(arr)"
   ]
  },
  {
   "cell_type": "code",
   "execution_count": 56,
   "id": "06f12207-c4fd-45e3-a553-64a068795e43",
   "metadata": {},
   "outputs": [],
   "source": [
    "# Numpay - Mathematical Function "
   ]
  },
  {
   "cell_type": "code",
   "execution_count": 57,
   "id": "e316c353-c975-4b4f-be8f-f99b62e5e393",
   "metadata": {},
   "outputs": [
    {
     "data": {
      "text/plain": [
       "array([[-0.95892427,  0.98935825, -0.7568025 ,  0.84147098],\n",
       "       [ 0.84147098,  0.90929743, -0.2794155 , -0.7568025 ],\n",
       "       [ 0.41211849,  0.84147098,  0.41211849,  0.41211849]])"
      ]
     },
     "execution_count": 57,
     "metadata": {},
     "output_type": "execute_result"
    }
   ],
   "source": [
    "np.sin(arr1)"
   ]
  },
  {
   "cell_type": "code",
   "execution_count": 58,
   "id": "ce5639df-618c-4958-8129-59c9af2cb276",
   "metadata": {},
   "outputs": [
    {
     "data": {
      "text/plain": [
       "array([[-0.95892427,  0.98935825, -0.7568025 ,  0.84147098],\n",
       "       [ 0.84147098,  0.90929743, -0.2794155 , -0.7568025 ],\n",
       "       [ 0.41211849,  0.84147098,  0.41211849,  0.41211849]])"
      ]
     },
     "execution_count": 58,
     "metadata": {},
     "output_type": "execute_result"
    }
   ],
   "source": [
    "np.sin(arr1)"
   ]
  },
  {
   "cell_type": "code",
   "execution_count": 59,
   "id": "7f5fdc9d-8b70-4008-aee7-8bf7f79ac4c5",
   "metadata": {},
   "outputs": [
    {
     "data": {
      "text/plain": [
       "array([[-3.38051501, -6.79971146,  1.15782128,  1.55740772],\n",
       "       [ 1.55740772, -2.18503986, -0.29100619,  1.15782128],\n",
       "       [-0.45231566,  1.55740772, -0.45231566, -0.45231566]])"
      ]
     },
     "execution_count": 59,
     "metadata": {},
     "output_type": "execute_result"
    }
   ],
   "source": [
    "np.tan(arr1)"
   ]
  },
  {
   "cell_type": "code",
   "execution_count": 60,
   "id": "adb3454f-9fb6-4e58-93c9-5e8cc4feef75",
   "metadata": {},
   "outputs": [
    {
     "data": {
      "text/plain": [
       "array([[0.69897   , 0.90308999, 0.60205999, 0.        ],\n",
       "       [0.        , 0.30103   , 0.77815125, 0.60205999],\n",
       "       [0.95424251, 0.        , 0.95424251, 0.95424251]])"
      ]
     },
     "execution_count": 60,
     "metadata": {},
     "output_type": "execute_result"
    }
   ],
   "source": [
    "np.log10(arr1)"
   ]
  },
  {
   "cell_type": "code",
   "execution_count": 62,
   "id": "607b805b-c01c-44c3-8d53-4f2bcefd7aea",
   "metadata": {},
   "outputs": [
    {
     "data": {
      "text/plain": [
       "array([[1.48413159e+02, 2.98095799e+03, 5.45981500e+01, 2.71828183e+00],\n",
       "       [2.71828183e+00, 7.38905610e+00, 4.03428793e+02, 5.45981500e+01],\n",
       "       [8.10308393e+03, 2.71828183e+00, 8.10308393e+03, 8.10308393e+03]])"
      ]
     },
     "execution_count": 62,
     "metadata": {},
     "output_type": "execute_result"
    }
   ],
   "source": [
    "np.exp(arr1)"
   ]
  },
  {
   "cell_type": "code",
   "execution_count": 63,
   "id": "f06ca3fb-cd0b-4941-9234-83959ef320c1",
   "metadata": {},
   "outputs": [
    {
     "data": {
      "text/plain": [
       "array([[2.23606798, 2.82842712, 2.        , 1.        ],\n",
       "       [1.        , 1.41421356, 2.44948974, 2.        ],\n",
       "       [3.        , 1.        , 3.        , 3.        ]])"
      ]
     },
     "execution_count": 63,
     "metadata": {},
     "output_type": "execute_result"
    }
   ],
   "source": [
    "np.sqrt(arr1)"
   ]
  },
  {
   "cell_type": "code",
   "execution_count": 64,
   "id": "0eed45e4-8f06-42b3-902d-e44c08684d16",
   "metadata": {},
   "outputs": [
    {
     "data": {
      "text/plain": [
       "array([[25, 64, 16,  1],\n",
       "       [ 1,  4, 36, 16],\n",
       "       [81,  1, 81, 81]])"
      ]
     },
     "execution_count": 64,
     "metadata": {},
     "output_type": "execute_result"
    }
   ],
   "source": [
    "np.power(arr1 ,2)"
   ]
  },
  {
   "cell_type": "code",
   "execution_count": 65,
   "id": "d8e50f72-aa97-489e-9fc8-bc8c6f40b3be",
   "metadata": {},
   "outputs": [
    {
     "data": {
      "text/plain": [
       "4.916666666666667"
      ]
     },
     "execution_count": 65,
     "metadata": {},
     "output_type": "execute_result"
    }
   ],
   "source": [
    "np.mean(arr1)"
   ]
  },
  {
   "cell_type": "code",
   "execution_count": 67,
   "id": "b2ddcd35-96f8-4783-b7c8-459e6945c0cf",
   "metadata": {},
   "outputs": [
    {
     "data": {
      "text/plain": [
       "4.5"
      ]
     },
     "execution_count": 67,
     "metadata": {},
     "output_type": "execute_result"
    }
   ],
   "source": [
    "np.median(arr1)"
   ]
  },
  {
   "cell_type": "code",
   "execution_count": 68,
   "id": "9c3cdcc0-40de-49cf-808c-a6c53b4e0a86",
   "metadata": {},
   "outputs": [
    {
     "data": {
      "text/plain": [
       "3.121386800054674"
      ]
     },
     "execution_count": 68,
     "metadata": {},
     "output_type": "execute_result"
    }
   ],
   "source": [
    "np.std(arr1)"
   ]
  },
  {
   "cell_type": "code",
   "execution_count": 69,
   "id": "02a2cb79-c6c0-42ab-bc4b-0ffc62f14556",
   "metadata": {},
   "outputs": [
    {
     "data": {
      "text/plain": [
       "9.743055555555555"
      ]
     },
     "execution_count": 69,
     "metadata": {},
     "output_type": "execute_result"
    }
   ],
   "source": [
    "np.var(arr1)"
   ]
  },
  {
   "cell_type": "code",
   "execution_count": 70,
   "id": "55679e17-6787-4d3a-8635-adef4d11c92d",
   "metadata": {},
   "outputs": [
    {
     "data": {
      "text/plain": [
       "1"
      ]
     },
     "execution_count": 70,
     "metadata": {},
     "output_type": "execute_result"
    }
   ],
   "source": [
    "np.min(arr1)"
   ]
  },
  {
   "cell_type": "code",
   "execution_count": 71,
   "id": "a3be4401-44f6-49e2-a281-208d903cadb1",
   "metadata": {},
   "outputs": [
    {
     "data": {
      "text/plain": [
       "9"
      ]
     },
     "execution_count": 71,
     "metadata": {},
     "output_type": "execute_result"
    }
   ],
   "source": [
    "np.max(arr1)"
   ]
  },
  {
   "cell_type": "code",
   "execution_count": null,
   "id": "f6e06c8d-bfc7-442b-91b9-d952c32fc625",
   "metadata": {},
   "outputs": [],
   "source": []
  }
 ],
 "metadata": {
  "kernelspec": {
   "display_name": "Python 3 (ipykernel)",
   "language": "python",
   "name": "python3"
  },
  "language_info": {
   "codemirror_mode": {
    "name": "ipython",
    "version": 3
   },
   "file_extension": ".py",
   "mimetype": "text/x-python",
   "name": "python",
   "nbconvert_exporter": "python",
   "pygments_lexer": "ipython3",
   "version": "3.10.8"
  }
 },
 "nbformat": 4,
 "nbformat_minor": 5
}
