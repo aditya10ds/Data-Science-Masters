{
 "cells": [
  {
   "cell_type": "code",
   "execution_count": 1,
   "id": "c9142616-0620-4307-9164-a6b88516a8d9",
   "metadata": {},
   "outputs": [],
   "source": [
    "a = 10"
   ]
  },
  {
   "cell_type": "code",
   "execution_count": 3,
   "id": "3201084e-eeed-407a-badd-e00ae3586b39",
   "metadata": {},
   "outputs": [],
   "source": [
    "a = 'a'"
   ]
  },
  {
   "cell_type": "code",
   "execution_count": 4,
   "id": "fae58188-769b-4d2d-a880-43917e5af662",
   "metadata": {},
   "outputs": [
    {
     "data": {
      "text/plain": [
       "str"
      ]
     },
     "execution_count": 4,
     "metadata": {},
     "output_type": "execute_result"
    }
   ],
   "source": [
    "type (a)"
   ]
  },
  {
   "cell_type": "code",
   "execution_count": 7,
   "id": "9d9acef5-57c9-4110-acf2-47a633948677",
   "metadata": {},
   "outputs": [
    {
     "data": {
      "text/plain": [
       "122"
      ]
     },
     "execution_count": 7,
     "metadata": {},
     "output_type": "execute_result"
    }
   ],
   "source": [
    "int(\"122\")"
   ]
  },
  {
   "cell_type": "code",
   "execution_count": 8,
   "id": "d493d79a-f8c1-4c72-8d23-46cd2c8355ff",
   "metadata": {},
   "outputs": [
    {
     "name": "stdout",
     "output_type": "stream",
     "text": [
      "Hello World\n"
     ]
    }
   ],
   "source": [
    "print(\"Hello World\")"
   ]
  },
  {
   "cell_type": "code",
   "execution_count": 9,
   "id": "3cb89c13-e7f7-48ce-b998-401815261a04",
   "metadata": {},
   "outputs": [
    {
     "name": "stdout",
     "output_type": "stream",
     "text": [
      "123\n"
     ]
    }
   ],
   "source": [
    "print(123)"
   ]
  },
  {
   "cell_type": "code",
   "execution_count": 11,
   "id": "6bc89019-fdf0-465d-b77f-2bad6c6e1db9",
   "metadata": {},
   "outputs": [
    {
     "name": "stdout",
     "output_type": "stream",
     "text": [
      "My age is : 23\n"
     ]
    }
   ],
   "source": [
    "age = 23\n",
    "print(\"My age is :\" ,age)"
   ]
  },
  {
   "cell_type": "code",
   "execution_count": 13,
   "id": "cbce1099-1153-4fc2-a79e-bc6f9b278ae3",
   "metadata": {},
   "outputs": [
    {
     "name": "stdout",
     "output_type": "stream",
     "text": [
      "My age is :23\n"
     ]
    }
   ],
   "source": [
    "## f string\n",
    "\n",
    "print(f\"My age is :{age}\")"
   ]
  },
  {
   "cell_type": "code",
   "execution_count": 15,
   "id": "bff7c169-3c4a-468f-ae7f-6647e9c60c2e",
   "metadata": {},
   "outputs": [
    {
     "name": "stdout",
     "output_type": "stream",
     "text": [
      "My name is Aditya and age is 23\n"
     ]
    }
   ],
   "source": [
    "##format()\n",
    "name = \"Aditya\"\n",
    "age = 23\n",
    "print(\"My name is {} and age is {}\".format(name,age))"
   ]
  },
  {
   "cell_type": "code",
   "execution_count": 16,
   "id": "f2064786-7c37-44d8-8604-6a9cd71bd955",
   "metadata": {},
   "outputs": [
    {
     "name": "stdout",
     "output_type": "stream",
     "text": [
      "My name is 23 and age is Aditya\n"
     ]
    }
   ],
   "source": [
    "print(\"My name is {} and age is {}\".format(age, name))"
   ]
  },
  {
   "cell_type": "code",
   "execution_count": 17,
   "id": "925b4911-b246-447b-9433-4cdd35b63f67",
   "metadata": {},
   "outputs": [
    {
     "name": "stdout",
     "output_type": "stream",
     "text": [
      "My name is Aditya and age is 23\n"
     ]
    }
   ],
   "source": [
    "## place holder --->(firstname),(firstages)\n",
    "print(\"My name is {firstname} and age is {firstage}\".format(firstname = name, firstage = age ))"
   ]
  },
  {
   "cell_type": "code",
   "execution_count": 27,
   "id": "d9f2540b-cd53-4fdc-918d-6a2a26d64011",
   "metadata": {},
   "outputs": [
    {
     "name": "stdout",
     "output_type": "stream",
     "text": [
      "My name is Aditya Kumar and age is 23 completed my degree with  BFA\n"
     ]
    }
   ],
   "source": [
    "name= \"Aditya Kumar\"\n",
    "age = 23\n",
    "degree = \"BFA\"\n",
    "\n",
    "\" My age is 23 and i have completed : my degree of BFA with the name of Aditya Kumar\"\n",
    "\n",
    "print (\"My name is {firstname} and age is {firstage} completed my degree with  {firstdegree}\".format(firstname= name , firstage = age, firstdegree= degree))"
   ]
  },
  {
   "cell_type": "code",
   "execution_count": 28,
   "id": "f91996cf-b733-4b0b-8615-54958a340365",
   "metadata": {},
   "outputs": [
    {
     "name": "stdout",
     "output_type": "stream",
     "text": [
      "My name is Aditya Kumar  and age is 23 completed my degree with BFA \n"
     ]
    }
   ],
   "source": [
    "print (\"My name is {}  and age is {} completed my degree with {} \".format(name,age,degree))"
   ]
  },
  {
   "cell_type": "code",
   "execution_count": 32,
   "id": "eae3ffa9-3d56-4c15-b17c-036d406e64c2",
   "metadata": {},
   "outputs": [
    {
     "name": "stdout",
     "output_type": "stream",
     "text": [
      "My name is : Aditya Kumar and age is :23 completed my degree with:  BFA\n"
     ]
    }
   ],
   "source": [
    "print (f\"My name is : {name} and age is :{age} completed my degree with:  {degree}\")"
   ]
  },
  {
   "cell_type": "markdown",
   "id": "32ac382f-a36a-4ec8-b01b-205d21df16b8",
   "metadata": {},
   "source": [
    "## Control Flow\n",
    "# Decision Making Statement\n",
    "   * It is kind of making decision during occurred situation of program execution and action can be taken according to specified conditions.\n",
    "   * Structure of decision making evaluate several expressions that provide True or False as a result.\n",
    "   * It is up to you to decide which type of action want to take and execute the statements based upon True and False.\n",
    "   \n",
    "**These are several topics of decision making which going to be discussed below:**\n",
    "   1. **if**\n",
    "   2. **if else** \n",
    "   3. **if elif else**\n",
    "   4. **Nested if**\n",
    "   5. **Single Statement Suites**"
   ]
  },
  {
   "cell_type": "code",
   "execution_count": 33,
   "id": "5a1c4746-2c5b-484d-aa78-974015d3c348",
   "metadata": {},
   "outputs": [
    {
     "name": "stdout",
     "output_type": "stream",
     "text": [
      "You are eligible to vote\n"
     ]
    }
   ],
   "source": [
    "## if Statements\n",
    "age=18\n",
    "if age>=18:\n",
    "    print(\"You are eligible to vote\")"
   ]
  },
  {
   "cell_type": "code",
   "execution_count": 36,
   "id": "c3cd0b9a-abab-42da-b0dd-62272df596e2",
   "metadata": {},
   "outputs": [
    {
     "name": "stdout",
     "output_type": "stream",
     "text": [
      "You are not eligible to vote\n"
     ]
    }
   ],
   "source": [
    "## if Statements\n",
    "age=17\n",
    "if age<18:\n",
    "    print(\"You are not eligible to vote\")"
   ]
  },
  {
   "cell_type": "code",
   "execution_count": 39,
   "id": "01ef9ea8-d687-4617-873a-89a7a49e2917",
   "metadata": {},
   "outputs": [
    {
     "name": "stdin",
     "output_type": "stream",
     "text": [
      "Enter the name Aditya kumar \n"
     ]
    }
   ],
   "source": [
    "name=input(\"Enter the name\")"
   ]
  },
  {
   "cell_type": "code",
   "execution_count": 41,
   "id": "e5d57091-9d13-42f6-950f-4b89cb630b75",
   "metadata": {},
   "outputs": [
    {
     "name": "stdin",
     "output_type": "stream",
     "text": [
      "Enter your age 23\n"
     ]
    }
   ],
   "source": [
    "age = int(input(\"Enter your age\"))"
   ]
  },
  {
   "cell_type": "code",
   "execution_count": 43,
   "id": "0b60b0c4-5313-4689-adcd-f6e081f52f38",
   "metadata": {},
   "outputs": [
    {
     "data": {
      "text/plain": [
       "int"
      ]
     },
     "execution_count": 43,
     "metadata": {},
     "output_type": "execute_result"
    }
   ],
   "source": [
    "type(age)"
   ]
  },
  {
   "cell_type": "code",
   "execution_count": 44,
   "id": "dc1f0d7d-4d0c-412c-b708-fa4c5328872a",
   "metadata": {},
   "outputs": [],
   "source": [
    "##Task\n",
    "## Take a imput of age \n",
    "## Check whether age>=18 and age<=45\n",
    "## Display a message you are young blood "
   ]
  },
  {
   "cell_type": "code",
   "execution_count": 45,
   "id": "6a0b6151-6898-4fef-8447-da19e08455b1",
   "metadata": {},
   "outputs": [
    {
     "ename": "SyntaxError",
     "evalue": "invalid syntax (897673882.py, line 3)",
     "output_type": "error",
     "traceback": [
      "\u001b[0;36m  Cell \u001b[0;32mIn[45], line 3\u001b[0;36m\u001b[0m\n\u001b[0;31m    else:\u001b[0m\n\u001b[0m    ^\u001b[0m\n\u001b[0;31mSyntaxError\u001b[0m\u001b[0;31m:\u001b[0m invalid syntax\n"
     ]
    }
   ],
   "source": [
    "## Mistake \n",
    "if age>=18 :\n",
    "    print(\"You are young blood\")\n",
    "    else:\n",
    "        print (\"You are not young blood\")\n",
    "    if age<=45 :\n",
    "    print(\"You are young blood\")\n",
    "    else:\n",
    "        print (\"You are not young blood\")\n",
    "    \n",
    "age = int(input(\"Enter your age\"))\n"
   ]
  },
  {
   "cell_type": "code",
   "execution_count": 57,
   "id": "9dfef6f3-21fb-4293-864c-13c947d8cdb1",
   "metadata": {},
   "outputs": [
    {
     "name": "stdin",
     "output_type": "stream",
     "text": [
      "Enter your age 25\n"
     ]
    },
    {
     "name": "stdout",
     "output_type": "stream",
     "text": [
      "You are young blood\n"
     ]
    }
   ],
   "source": [
    "age = int(input(\"Enter your age\"))\n",
    "if age>=18 and age<=45:\n",
    " print(\"You are young blood\")\n",
    "\n",
    "   "
   ]
  },
  {
   "cell_type": "code",
   "execution_count": 60,
   "id": "58c5bc84-acef-4560-b737-aef0587711da",
   "metadata": {},
   "outputs": [
    {
     "name": "stdin",
     "output_type": "stream",
     "text": [
      "Enter your age 14\n"
     ]
    },
    {
     "name": "stdout",
     "output_type": "stream",
     "text": [
      "Thank You! We will let you know.\n"
     ]
    }
   ],
   "source": [
    "age = int(input(\"Enter your age\"))\n",
    "if age>=18 and age<=45:\n",
    " print(\"You are young blood\")\n",
    "else:\n",
    "    print(\"Thank You! We will let you know.\")\n",
    "   "
   ]
  },
  {
   "cell_type": "code",
   "execution_count": null,
   "id": "22def8f9-f456-45a0-946a-93188f68f8e4",
   "metadata": {},
   "outputs": [],
   "source": [
    "## mall - input the product price\n",
    "##product >1000rs 20% off\n",
    "##print the product price after removing the discount\n",
    "## product <=1000rs 30% off\n",
    "## print the product price after removing the discount"
   ]
  },
  {
   "cell_type": "code",
   "execution_count": 64,
   "id": "46ecd41b-1496-4065-ae8f-27956ce6a17a",
   "metadata": {},
   "outputs": [
    {
     "name": "stdin",
     "output_type": "stream",
     "text": [
      "Enter the product price 5000\n"
     ]
    },
    {
     "name": "stdout",
     "output_type": "stream",
     "text": [
      "The price of the product is 4000.0\n"
     ]
    }
   ],
   "source": [
    "product_price = int(input(\"Enter the product price\"))\n",
    "if product_price>1000:\n",
    "    print(\"The price of the product is {}\".format(product_price*0.8)) \n",
    "else:\n",
    "    print(\"The price of the product is {}\".format(product_price*0.7))  \n",
    "        \n"
   ]
  },
  {
   "cell_type": "code",
   "execution_count": 67,
   "id": "c820fa56-94ff-465e-a082-069d7558b409",
   "metadata": {},
   "outputs": [
    {
     "name": "stdin",
     "output_type": "stream",
     "text": [
      "Enter the product price 2000\n"
     ]
    },
    {
     "name": "stdout",
     "output_type": "stream",
     "text": [
      "The price of the product is 1600.0\n"
     ]
    }
   ],
   "source": [
    "product_price = int(input(\"Enter the product price\"))\n",
    "if product_price>1000:\n",
    "    print(f\"The price of the product is {product_price*0.8}\") \n",
    "else:\n",
    "    print(f\"The price of the product is {product_price*0.7}\") \n",
    "        "
   ]
  },
  {
   "cell_type": "code",
   "execution_count": null,
   "id": "45070751-0730-44ac-982c-68231b17d69c",
   "metadata": {},
   "outputs": [],
   "source": [
    "## mall - input the product price\n",
    "##product >3000rs 20% off\n",
    "##print the product price after removing the discount\n",
    "\n",
    "##product >=2000rs and <=3000 30% off\n",
    "##print the product price after removing the discount\n",
    "\n",
    "## product <= 1000rs and <=2000 40%off\n",
    "## print the product price after removing the discount"
   ]
  },
  {
   "cell_type": "code",
   "execution_count": 15,
   "id": "9ed44572-719f-4e8f-afa1-33ac0e69da47",
   "metadata": {},
   "outputs": [
    {
     "name": "stdin",
     "output_type": "stream",
     "text": [
      "Enter the product price 500\n"
     ]
    },
    {
     "name": "stdout",
     "output_type": "stream",
     "text": [
      "The price of the product is 300.0\n"
     ]
    }
   ],
   "source": [
    "product_price = int(input(\"Enter the product price\"))\n",
    "if product_price>3000:\n",
    "    print(f\"The price of the product is {product_price*0.8}\") \n",
    "elif product_price>= 2000 and product_price<=3000:\n",
    "    print(f\"The price of the product is {product_price*0.7}\")\n",
    "else:\n",
    "     print(f\"The price of the product is {product_price*0.6}\")   \n"
   ]
  },
  {
   "cell_type": "code",
   "execution_count": 17,
   "id": "b727bd4e-cf9c-4926-aee3-08f6db65abe4",
   "metadata": {},
   "outputs": [
    {
     "name": "stdin",
     "output_type": "stream",
     "text": [
      "Enter the product price 45\n"
     ]
    },
    {
     "name": "stdout",
     "output_type": "stream",
     "text": [
      "Lets drink tea \n"
     ]
    }
   ],
   "source": [
    "product_price = int(input(\"Enter the product price\"))\n",
    "if product_price>3000:\n",
    "    print(f\"The price of the product is {product_price*0.8}\") \n",
    "elif product_price>= 2000 and product_price<=3000:\n",
    "    print(f\"The price of the product is {product_price*0.7}\")\n",
    "elif  product_price>= 100 and product_price<2000:\n",
    "     print(f\"The price of the product is {product_price*0.6}\")\n",
    "else:\n",
    "            print(\"Lets drink tea \")"
   ]
  },
  {
   "cell_type": "code",
   "execution_count": 18,
   "id": "379187f8-3726-473b-8a1a-07349e77d348",
   "metadata": {},
   "outputs": [],
   "source": [
    "## mall - input the product price\n",
    "##product >3000rs 20% off\n",
    "## price is == 4000 u get trip to Goa \n",
    "##print the product price after removing the discount\n",
    "\n",
    "##product >=2000rs and <=3000 30% off\n",
    "##print the product price after removing the discount\n",
    "## price ==2999 u will get aditional gift \n",
    "## product <= 1000rs and <=2000 40%off\n",
    "## print the product price after removing the discount"
   ]
  },
  {
   "cell_type": "code",
   "execution_count": 23,
   "id": "ff532fec-621b-450a-b927-1b06aa19b0ce",
   "metadata": {},
   "outputs": [
    {
     "name": "stdin",
     "output_type": "stream",
     "text": [
      "Enter the product price 4000\n"
     ]
    },
    {
     "name": "stdout",
     "output_type": "stream",
     "text": [
      "Congratulation!! U get trip of Goa\n",
      "The price of the product is 3200.0\n"
     ]
    }
   ],
   "source": [
    "product_price = int(input(\"Enter the product price\"))\n",
    "if product_price>3000:\n",
    "    if product_price==4000:\n",
    "        print(\"Congratulation!! U get trip of Goa\")\n",
    "    print(f\"The price of the product is {product_price*0.8}\")\n",
    "elif product_price>= 2000 and product_price<=3000:\n",
    "    if product_price == 2999:\n",
    "         print (\" Congratulation!! U will get aditional gift\")\n",
    "    print(f\"The price of the product is {product_price*0.7}\")\n",
    "elif  product_price>= 100 and product_price<2000:\n",
    "     print(f\"The price of the product is {product_price*0.6}\")\n",
    "else:\n",
    "            print(\"Lets drink tea \")"
   ]
  },
  {
   "cell_type": "code",
   "execution_count": null,
   "id": "21c75ca8-37e0-41c0-8453-d70dc493102e",
   "metadata": {},
   "outputs": [],
   "source": [
    "#Comprasion operators\n",
    "True == True "
   ]
  },
  {
   "cell_type": "code",
   "execution_count": 26,
   "id": "c4a81943-b62f-4290-9ac2-4f9a9269f7cd",
   "metadata": {},
   "outputs": [
    {
     "name": "stdin",
     "output_type": "stream",
     "text": [
      "Entre the number 1000\n"
     ]
    },
    {
     "name": "stdout",
     "output_type": "stream",
     "text": [
      "Go Home\n"
     ]
    }
   ],
   "source": [
    "## single statements Suites\n",
    "val=int(input(\"Entre the number\"))\n",
    "if(val<=999):print(\"Value is less than equal to 999\")\n",
    "else:\n",
    "    print(\"Go Home\")\n",
    "        "
   ]
  },
  {
   "cell_type": "code",
   "execution_count": null,
   "id": "50b8e3a0-d675-4a54-bb65-84bcf34fdece",
   "metadata": {},
   "outputs": [],
   "source": [
    "## Loops statements\n",
    "1. while loop\n",
    "2. for loop\n",
    "3. nested loops\n",
    "4. Loop control(break,continue,pass)"
   ]
  },
  {
   "cell_type": "code",
   "execution_count": null,
   "id": "7e317b07-210d-48ef-9d27-d95375913fb4",
   "metadata": {},
   "outputs": [],
   "source": []
  },
  {
   "cell_type": "code",
   "execution_count": null,
   "id": "f2164190-16cd-41ab-b8ca-6013b00cb668",
   "metadata": {},
   "outputs": [],
   "source": []
  },
  {
   "cell_type": "code",
   "execution_count": null,
   "id": "295376cb-e024-4a9a-8d03-acccd547594b",
   "metadata": {},
   "outputs": [],
   "source": []
  },
  {
   "cell_type": "code",
   "execution_count": null,
   "id": "8513a957-4f1f-47ba-b5fc-4afde2f1bf1d",
   "metadata": {},
   "outputs": [],
   "source": []
  }
 ],
 "metadata": {
  "kernelspec": {
   "display_name": "Python 3 (ipykernel)",
   "language": "python",
   "name": "python3"
  },
  "language_info": {
   "codemirror_mode": {
    "name": "ipython",
    "version": 3
   },
   "file_extension": ".py",
   "mimetype": "text/x-python",
   "name": "python",
   "nbconvert_exporter": "python",
   "pygments_lexer": "ipython3",
   "version": "3.10.8"
  }
 },
 "nbformat": 4,
 "nbformat_minor": 5
}
