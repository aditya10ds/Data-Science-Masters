{
 "cells": [
  {
   "cell_type": "code",
   "execution_count": 41,
   "id": "af645b60-7856-472d-b065-8bb35a5aa7b9",
   "metadata": {},
   "outputs": [],
   "source": [
    "class  pwskills:\n",
    "    def __init__(self, course_price, course_name):\n",
    "        \n",
    "        self.__course_price = course_price\n",
    "        self.course_name = course_name\n",
    "        \n",
    "    @property \n",
    "    def course_price_access(self):\n",
    "        return self.__course_price\n",
    "    @course_price_access.setter\n",
    "    def course_price_access(self, price):\n",
    "        if price <= 3500:\n",
    "            pass\n",
    "        else:\n",
    "            self.__course_price = price \n",
    "            \n",
    "    @course_price_access.deleter\n",
    "    def delete_course_price(self):\n",
    "        del slef.__course_price"
   ]
  },
  {
   "cell_type": "code",
   "execution_count": 42,
   "id": "40be2af2-a34b-477b-9c44-d61e7b5e6840",
   "metadata": {},
   "outputs": [],
   "source": [
    "pw = pwskills (3500,\"Data science masters\")"
   ]
  },
  {
   "cell_type": "code",
   "execution_count": 43,
   "id": "cc2b2f3d-1218-404e-8a30-f00353a658ee",
   "metadata": {},
   "outputs": [
    {
     "data": {
      "text/plain": [
       "3500"
      ]
     },
     "execution_count": 43,
     "metadata": {},
     "output_type": "execute_result"
    }
   ],
   "source": [
    "pw._pwskills__course_price"
   ]
  },
  {
   "cell_type": "code",
   "execution_count": 44,
   "id": "5e73ef22-3aff-4d3f-9d6d-89ebb8bf4b18",
   "metadata": {},
   "outputs": [],
   "source": [
    "pw.course_price_access=4500"
   ]
  },
  {
   "cell_type": "code",
   "execution_count": 45,
   "id": "62cc5d4f-6ab1-4ec8-aa53-3a0b7b7cb205",
   "metadata": {},
   "outputs": [
    {
     "data": {
      "text/plain": [
       "4500"
      ]
     },
     "execution_count": 45,
     "metadata": {},
     "output_type": "execute_result"
    }
   ],
   "source": [
    "pw.course_price_access"
   ]
  },
  {
   "cell_type": "code",
   "execution_count": 46,
   "id": "a1472335-32ac-4de5-b1aa-891efed6d5ad",
   "metadata": {},
   "outputs": [
    {
     "data": {
      "text/plain": [
       "4500"
      ]
     },
     "execution_count": 46,
     "metadata": {},
     "output_type": "execute_result"
    }
   ],
   "source": [
    "pw.course_price_access"
   ]
  },
  {
   "cell_type": "code",
   "execution_count": 47,
   "id": "43934992-6be1-4458-b33c-a5118ff7069f",
   "metadata": {},
   "outputs": [
    {
     "ename": "NameError",
     "evalue": "name 'slef' is not defined",
     "output_type": "error",
     "traceback": [
      "\u001b[0;31m---------------------------------------------------------------------------\u001b[0m",
      "\u001b[0;31mNameError\u001b[0m                                 Traceback (most recent call last)",
      "Cell \u001b[0;32mIn[47], line 1\u001b[0m\n\u001b[0;32m----> 1\u001b[0m \u001b[38;5;28;01mdel\u001b[39;00m pw\u001b[38;5;241m.\u001b[39mdelete_course_price\n",
      "Cell \u001b[0;32mIn[41], line 19\u001b[0m, in \u001b[0;36mpwskills.delete_course_price\u001b[0;34m(self)\u001b[0m\n\u001b[1;32m     17\u001b[0m \u001b[38;5;129m@course_price_access\u001b[39m\u001b[38;5;241m.\u001b[39mdeleter\n\u001b[1;32m     18\u001b[0m \u001b[38;5;28;01mdef\u001b[39;00m \u001b[38;5;21mdelete_course_price\u001b[39m(\u001b[38;5;28mself\u001b[39m):\n\u001b[0;32m---> 19\u001b[0m     \u001b[38;5;28;01mdel\u001b[39;00m \u001b[43mslef\u001b[49m\u001b[38;5;241m.\u001b[39m__course_price\n",
      "\u001b[0;31mNameError\u001b[0m: name 'slef' is not defined"
     ]
    }
   ],
   "source": [
    "del pw.delete_course_price"
   ]
  },
  {
   "cell_type": "code",
   "execution_count": 49,
   "id": "764800bf-a8f5-4d18-83f4-bbd5afe6bfc2",
   "metadata": {},
   "outputs": [
    {
     "data": {
      "text/plain": [
       "4500"
      ]
     },
     "execution_count": 49,
     "metadata": {},
     "output_type": "execute_result"
    }
   ],
   "source": [
    "pw.course_price_access"
   ]
  },
  {
   "cell_type": "code",
   "execution_count": null,
   "id": "a7445810-53c3-4f81-a87f-e129a2ac44fd",
   "metadata": {},
   "outputs": [],
   "source": []
  }
 ],
 "metadata": {
  "kernelspec": {
   "display_name": "Python 3 (ipykernel)",
   "language": "python",
   "name": "python3"
  },
  "language_info": {
   "codemirror_mode": {
    "name": "ipython",
    "version": 3
   },
   "file_extension": ".py",
   "mimetype": "text/x-python",
   "name": "python",
   "nbconvert_exporter": "python",
   "pygments_lexer": "ipython3",
   "version": "3.10.8"
  }
 },
 "nbformat": 4,
 "nbformat_minor": 5
}
