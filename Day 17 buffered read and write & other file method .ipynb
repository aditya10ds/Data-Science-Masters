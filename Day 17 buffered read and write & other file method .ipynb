{
 "cells": [
  {
   "cell_type": "code",
   "execution_count": 1,
   "id": "8d00c057-201c-4d13-934f-fb88b0a59c5f",
   "metadata": {},
   "outputs": [],
   "source": [
    "import io "
   ]
  },
  {
   "cell_type": "code",
   "execution_count": 8,
   "id": "bf0f78d0-30e3-4a71-a3b2-fed01a265694",
   "metadata": {},
   "outputs": [],
   "source": [
    "with open (\"test4.txt\" ,\"wb\") as f :\n",
    "    file = io.BufferedWriter(f)\n",
    "    \n",
    "    file.write(b\"this is my first line\")\n",
    "    file.write(b\"this is my second line\")\n",
    "    file.flush"
   ]
  },
  {
   "cell_type": "code",
   "execution_count": 18,
   "id": "4ea2d8d6-8c52-473b-8bfc-2773f9015179",
   "metadata": {},
   "outputs": [
    {
     "name": "stdout",
     "output_type": "stream",
     "text": [
      "b''\n"
     ]
    }
   ],
   "source": [
    "with open (\"test4.txt\" , \"rb\") as f:\n",
    "    file = io.BufferedReader(f)\n",
    "    data = file.read()\n",
    "    print(data)"
   ]
  },
  {
   "cell_type": "code",
   "execution_count": null,
   "id": "8d8cbf5b-00e9-40e3-9ac1-97ec84682721",
   "metadata": {},
   "outputs": [],
   "source": []
  }
 ],
 "metadata": {
  "kernelspec": {
   "display_name": "Python 3 (ipykernel)",
   "language": "python",
   "name": "python3"
  },
  "language_info": {
   "codemirror_mode": {
    "name": "ipython",
    "version": 3
   },
   "file_extension": ".py",
   "mimetype": "text/x-python",
   "name": "python",
   "nbconvert_exporter": "python",
   "pygments_lexer": "ipython3",
   "version": "3.10.8"
  }
 },
 "nbformat": 4,
 "nbformat_minor": 5
}
