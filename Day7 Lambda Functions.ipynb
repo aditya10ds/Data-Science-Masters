{
 "cells": [
  {
   "cell_type": "markdown",
   "id": "1df15e07-4b21-45bd-9d80-12c9ffd13334",
   "metadata": {},
   "source": [
    "# Lambda Functions "
   ]
  },
  {
   "cell_type": "code",
   "execution_count": 3,
   "id": "3d9ffeac-4fe0-4ae5-8d01-037af21e760a",
   "metadata": {},
   "outputs": [],
   "source": [
    "n=3\n",
    "p=2"
   ]
  },
  {
   "cell_type": "code",
   "execution_count": 4,
   "id": "1d48fd76-d7d6-4909-9d94-33e56ddf0d76",
   "metadata": {},
   "outputs": [],
   "source": [
    "def test(n,p):\n",
    "    return n**p"
   ]
  },
  {
   "cell_type": "code",
   "execution_count": 5,
   "id": "3ee4ef77-12d7-4364-9045-713ba3916513",
   "metadata": {},
   "outputs": [
    {
     "data": {
      "text/plain": [
       "9"
      ]
     },
     "execution_count": 5,
     "metadata": {},
     "output_type": "execute_result"
    }
   ],
   "source": [
    "test(3,2)"
   ]
  },
  {
   "cell_type": "code",
   "execution_count": 6,
   "id": "2639e805-3f55-430a-bee2-06922f2483c8",
   "metadata": {},
   "outputs": [
    {
     "data": {
      "text/plain": [
       "6561"
      ]
     },
     "execution_count": 6,
     "metadata": {},
     "output_type": "execute_result"
    }
   ],
   "source": [
    "test(9,4)"
   ]
  },
  {
   "cell_type": "code",
   "execution_count": 8,
   "id": "7576fdbc-c7c6-4fe8-afba-8d3e1a01d205",
   "metadata": {},
   "outputs": [
    {
     "data": {
      "text/plain": [
       "823543"
      ]
     },
     "execution_count": 8,
     "metadata": {},
     "output_type": "execute_result"
    }
   ],
   "source": [
    "test(7,7)"
   ]
  },
  {
   "cell_type": "code",
   "execution_count": 9,
   "id": "736a69c7-a31c-470c-93f0-87d8959a6c7a",
   "metadata": {},
   "outputs": [
    {
     "data": {
      "text/plain": [
       "<function __main__.<lambda>(n, p)>"
      ]
     },
     "execution_count": 9,
     "metadata": {},
     "output_type": "execute_result"
    }
   ],
   "source": [
    "lambda n,p: n**p"
   ]
  },
  {
   "cell_type": "code",
   "execution_count": 10,
   "id": "3d98d038-12ec-493d-849e-b4f5e64899e0",
   "metadata": {},
   "outputs": [],
   "source": [
    "a=lambda n,p: n**p"
   ]
  },
  {
   "cell_type": "code",
   "execution_count": 11,
   "id": "09d019da-7c1f-42c7-9a0e-bd626c455452",
   "metadata": {},
   "outputs": [
    {
     "data": {
      "text/plain": [
       "9"
      ]
     },
     "execution_count": 11,
     "metadata": {},
     "output_type": "execute_result"
    }
   ],
   "source": [
    "a(3,2)"
   ]
  },
  {
   "cell_type": "code",
   "execution_count": 12,
   "id": "867cecca-2654-4770-8c3e-c6798799b069",
   "metadata": {},
   "outputs": [
    {
     "data": {
      "text/plain": [
       "6561"
      ]
     },
     "execution_count": 12,
     "metadata": {},
     "output_type": "execute_result"
    }
   ],
   "source": [
    "a(9,4)"
   ]
  },
  {
   "cell_type": "code",
   "execution_count": 13,
   "id": "92336bca-698a-4a2c-a390-948c0baccc5c",
   "metadata": {},
   "outputs": [],
   "source": [
    "add = lambda x,y : x+y"
   ]
  },
  {
   "cell_type": "code",
   "execution_count": 14,
   "id": "705b456d-dfe0-400f-9ebd-d1a739e5bfa0",
   "metadata": {},
   "outputs": [
    {
     "data": {
      "text/plain": [
       "5"
      ]
     },
     "execution_count": 14,
     "metadata": {},
     "output_type": "execute_result"
    }
   ],
   "source": [
    "add(2,3)"
   ]
  },
  {
   "cell_type": "code",
   "execution_count": 15,
   "id": "e47c258b-ad3d-4704-8b87-7f97b638946a",
   "metadata": {},
   "outputs": [],
   "source": [
    "c_to_f = lambda c : (9/5)*c+32"
   ]
  },
  {
   "cell_type": "code",
   "execution_count": 16,
   "id": "f15367eb-3d9b-4829-a35f-519ca026df3d",
   "metadata": {},
   "outputs": [
    {
     "data": {
      "text/plain": [
       "93.2"
      ]
     },
     "execution_count": 16,
     "metadata": {},
     "output_type": "execute_result"
    }
   ],
   "source": [
    "c_to_f(34)"
   ]
  },
  {
   "cell_type": "code",
   "execution_count": 21,
   "id": "ccafd890-a918-4e66-b256-0f01280d3749",
   "metadata": {},
   "outputs": [],
   "source": [
    "max_two = lambda x,y : x if x>y else y"
   ]
  },
  {
   "cell_type": "code",
   "execution_count": 22,
   "id": "368b0cee-59ec-4640-a6d2-0e7b574ab5fb",
   "metadata": {},
   "outputs": [
    {
     "data": {
      "text/plain": [
       "56"
      ]
     },
     "execution_count": 22,
     "metadata": {},
     "output_type": "execute_result"
    }
   ],
   "source": [
    "max_two(4,56)"
   ]
  },
  {
   "cell_type": "code",
   "execution_count": 23,
   "id": "0f2d046c-8f18-4f20-a295-6a867f15dcea",
   "metadata": {},
   "outputs": [],
   "source": [
    "s= \"pwskills\""
   ]
  },
  {
   "cell_type": "code",
   "execution_count": 25,
   "id": "341c878b-8be9-4afc-a439-e3a88a43aeca",
   "metadata": {},
   "outputs": [],
   "source": [
    "len_st = lambda s : len(s)"
   ]
  },
  {
   "cell_type": "code",
   "execution_count": 26,
   "id": "67f21128-7261-4287-9abb-d41e4b4e32c8",
   "metadata": {},
   "outputs": [
    {
     "data": {
      "text/plain": [
       "8"
      ]
     },
     "execution_count": 26,
     "metadata": {},
     "output_type": "execute_result"
    }
   ],
   "source": [
    "len_st(s)"
   ]
  },
  {
   "cell_type": "code",
   "execution_count": null,
   "id": "7b8694d7-0716-4d98-988d-f484f0b624f3",
   "metadata": {},
   "outputs": [],
   "source": []
  }
 ],
 "metadata": {
  "kernelspec": {
   "display_name": "Python 3 (ipykernel)",
   "language": "python",
   "name": "python3"
  },
  "language_info": {
   "codemirror_mode": {
    "name": "ipython",
    "version": 3
   },
   "file_extension": ".py",
   "mimetype": "text/x-python",
   "name": "python",
   "nbconvert_exporter": "python",
   "pygments_lexer": "ipython3",
   "version": "3.10.8"
  }
 },
 "nbformat": 4,
 "nbformat_minor": 5
}
