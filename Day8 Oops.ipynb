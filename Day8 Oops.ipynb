{
 "cells": [
  {
   "cell_type": "markdown",
   "id": "24ef1335-d8dd-4c9b-b6b1-457a3d129562",
   "metadata": {},
   "source": [
    "#### \"Opps\" stands for Object-Oriented Programming Systems"
   ]
  },
  {
   "cell_type": "code",
   "execution_count": 1,
   "id": "460e86fc-faff-45f6-ac5c-8c28af9bbd41",
   "metadata": {},
   "outputs": [],
   "source": [
    "a=1"
   ]
  },
  {
   "cell_type": "code",
   "execution_count": 2,
   "id": "b082b30e-434e-429b-9d22-7fcd5c4f3eef",
   "metadata": {},
   "outputs": [
    {
     "name": "stdout",
     "output_type": "stream",
     "text": [
      "<class 'int'>\n"
     ]
    }
   ],
   "source": [
    "print(type(a))"
   ]
  },
  {
   "cell_type": "code",
   "execution_count": 3,
   "id": "dd82e199-638f-4aaa-ba85-61f652cf2381",
   "metadata": {},
   "outputs": [
    {
     "name": "stdout",
     "output_type": "stream",
     "text": [
      "<class 'str'>\n"
     ]
    }
   ],
   "source": [
    "print(type(\"pwskills\"))"
   ]
  },
  {
   "cell_type": "code",
   "execution_count": 4,
   "id": "ba5cb246-d3b8-438e-b84f-5f6e2b87ee94",
   "metadata": {},
   "outputs": [],
   "source": [
    "class test:\n",
    "    pass"
   ]
  },
  {
   "cell_type": "code",
   "execution_count": 5,
   "id": "67cb56d7-86dc-4680-b80e-e2bc49f05c5a",
   "metadata": {},
   "outputs": [],
   "source": [
    "a=test()"
   ]
  },
  {
   "cell_type": "code",
   "execution_count": 6,
   "id": "a7652bdc-355f-4da2-89ac-966fd8ef93f4",
   "metadata": {},
   "outputs": [
    {
     "name": "stdout",
     "output_type": "stream",
     "text": [
      "<class '__main__.test'>\n"
     ]
    }
   ],
   "source": [
    "print(type(a))"
   ]
  },
  {
   "cell_type": "code",
   "execution_count": 7,
   "id": "1bec9ce8-4729-4c6d-a4de-76104e99e202",
   "metadata": {},
   "outputs": [],
   "source": [
    "class pwskills:\n",
    "    def welcome_msg(self):\n",
    "        print (\"Welcome to pwskills\")"
   ]
  },
  {
   "cell_type": "code",
   "execution_count": 8,
   "id": "7a325310-a473-4579-8417-f38f77e1a8e4",
   "metadata": {},
   "outputs": [],
   "source": [
    "rohan=pwskills()"
   ]
  },
  {
   "cell_type": "code",
   "execution_count": 9,
   "id": "92ea6e01-6a80-4c2c-8149-6d670ddc37bc",
   "metadata": {},
   "outputs": [
    {
     "name": "stdout",
     "output_type": "stream",
     "text": [
      "Welcome to pwskills\n"
     ]
    }
   ],
   "source": [
    "rohan.welcome_msg()"
   ]
  },
  {
   "cell_type": "code",
   "execution_count": 10,
   "id": "f6c60029-d104-425f-a5f2-977bd4f6f470",
   "metadata": {},
   "outputs": [],
   "source": [
    "sohan= pwskills()"
   ]
  },
  {
   "cell_type": "code",
   "execution_count": 11,
   "id": "eee901e8-3f29-49b2-9e25-eac12831527a",
   "metadata": {},
   "outputs": [
    {
     "name": "stdout",
     "output_type": "stream",
     "text": [
      "Welcome to pwskills\n"
     ]
    }
   ],
   "source": [
    "sohan.welcome_msg()"
   ]
  },
  {
   "cell_type": "code",
   "execution_count": 12,
   "id": "dcd1ea5f-7299-4d9c-8d3f-61c6c57c6112",
   "metadata": {},
   "outputs": [],
   "source": [
    "a=1\n",
    "b=2"
   ]
  },
  {
   "cell_type": "code",
   "execution_count": 13,
   "id": "b3216f49-99a6-4137-b200-cc11ec35eb49",
   "metadata": {},
   "outputs": [
    {
     "data": {
      "text/plain": [
       "1"
      ]
     },
     "execution_count": 13,
     "metadata": {},
     "output_type": "execute_result"
    }
   ],
   "source": [
    "a"
   ]
  },
  {
   "cell_type": "code",
   "execution_count": 14,
   "id": "72beb841-d472-433d-8acd-d71bb7ce3c34",
   "metadata": {},
   "outputs": [
    {
     "data": {
      "text/plain": [
       "2"
      ]
     },
     "execution_count": 14,
     "metadata": {},
     "output_type": "execute_result"
    }
   ],
   "source": [
    "b"
   ]
  },
  {
   "cell_type": "code",
   "execution_count": 26,
   "id": "73afabe0-04ff-4fdf-b651-a57bd301832f",
   "metadata": {},
   "outputs": [],
   "source": [
    "class pwskills1:\n",
    "    \n",
    "    def __init__(self ,phone_number , email_id, student_id ):\n",
    "        \n",
    "        self.phone_number = phone_number\n",
    "        self.email_id = email_id\n",
    "        self.student_id = student_id\n",
    "        \n",
    "    \n",
    "    def return_student_detials(self):\n",
    "        return self.phone_number, self.email_id , self.student_id\n",
    "        \n",
    "        "
   ]
  },
  {
   "cell_type": "code",
   "execution_count": 27,
   "id": "5997c1f1-f9a8-47af-87ad-2d066a2bf77c",
   "metadata": {},
   "outputs": [],
   "source": [
    "sohan = pwskills1(987654323,\"sohan@gmail.com\", 888)"
   ]
  },
  {
   "cell_type": "code",
   "execution_count": 28,
   "id": "c719f7eb-fd5e-427d-a87d-f8ba8d678d00",
   "metadata": {},
   "outputs": [
    {
     "data": {
      "text/plain": [
       "987654323"
      ]
     },
     "execution_count": 28,
     "metadata": {},
     "output_type": "execute_result"
    }
   ],
   "source": [
    "sohan.phone_number"
   ]
  },
  {
   "cell_type": "code",
   "execution_count": 29,
   "id": "58f0e11d-7b86-4e88-b5ab-81cb51603055",
   "metadata": {},
   "outputs": [
    {
     "data": {
      "text/plain": [
       "(987654323, 'sohan@gmail.com', 888)"
      ]
     },
     "execution_count": 29,
     "metadata": {},
     "output_type": "execute_result"
    }
   ],
   "source": [
    "sohan.return_student_detials()"
   ]
  },
  {
   "cell_type": "code",
   "execution_count": 30,
   "id": "23e5430f-dbb8-4f9f-a5b6-0d7940afa33f",
   "metadata": {},
   "outputs": [
    {
     "ename": "TypeError",
     "evalue": "pwskills1.__init__() missing 3 required positional arguments: 'phone_number', 'email_id', and 'student_id'",
     "output_type": "error",
     "traceback": [
      "\u001b[0;31m---------------------------------------------------------------------------\u001b[0m",
      "\u001b[0;31mTypeError\u001b[0m                                 Traceback (most recent call last)",
      "Cell \u001b[0;32mIn[30], line 1\u001b[0m\n\u001b[0;32m----> 1\u001b[0m rohan \u001b[38;5;241m=\u001b[39m \u001b[43mpwskills1\u001b[49m\u001b[43m(\u001b[49m\u001b[43m)\u001b[49m\n",
      "\u001b[0;31mTypeError\u001b[0m: pwskills1.__init__() missing 3 required positional arguments: 'phone_number', 'email_id', and 'student_id'"
     ]
    }
   ],
   "source": [
    "rohan = pwskills1()"
   ]
  },
  {
   "cell_type": "code",
   "execution_count": 31,
   "id": "bcc9b695-5a6c-4fa1-97de-202e3ad159a2",
   "metadata": {},
   "outputs": [],
   "source": [
    "rohan = pwskills1(987654320, \"rohan@gmail.com\",101)"
   ]
  },
  {
   "cell_type": "code",
   "execution_count": 32,
   "id": "f0d8f04e-ddcc-4e41-8603-89ee5d3212d0",
   "metadata": {},
   "outputs": [
    {
     "data": {
      "text/plain": [
       "987654320"
      ]
     },
     "execution_count": 32,
     "metadata": {},
     "output_type": "execute_result"
    }
   ],
   "source": [
    "rohan.phone_number"
   ]
  },
  {
   "cell_type": "code",
   "execution_count": 33,
   "id": "31c2916e-d26f-4fbe-8251-9bed89be990b",
   "metadata": {},
   "outputs": [
    {
     "data": {
      "text/plain": [
       "'rohan@gmail.com'"
      ]
     },
     "execution_count": 33,
     "metadata": {},
     "output_type": "execute_result"
    }
   ],
   "source": [
    "rohan.email_id"
   ]
  },
  {
   "cell_type": "code",
   "execution_count": 34,
   "id": "e00b9314-fbce-486a-a1f8-700512586fb0",
   "metadata": {},
   "outputs": [
    {
     "data": {
      "text/plain": [
       "101"
      ]
     },
     "execution_count": 34,
     "metadata": {},
     "output_type": "execute_result"
    }
   ],
   "source": [
    "rohan.student_id"
   ]
  },
  {
   "cell_type": "code",
   "execution_count": 35,
   "id": "e99e6d79-1cee-4213-ae08-30509872f737",
   "metadata": {},
   "outputs": [
    {
     "data": {
      "text/plain": [
       "(987654320, 'rohan@gmail.com', 101)"
      ]
     },
     "execution_count": 35,
     "metadata": {},
     "output_type": "execute_result"
    }
   ],
   "source": [
    "rohan.return_student_detials()"
   ]
  },
  {
   "cell_type": "code",
   "execution_count": 39,
   "id": "7222e17b-67ae-4423-8225-baa768df18ac",
   "metadata": {},
   "outputs": [],
   "source": [
    "class pwskills2:\n",
    "    \n",
    "    def __init__(sudh ,phone_number , email_id, student_id ):\n",
    "        \n",
    "        sudh.phone_number = phone_number\n",
    "        sudh.email_id = email_id\n",
    "        sudh.student_id = student_id\n",
    "        \n",
    "    \n",
    "    def return_student_detials(sudh):\n",
    "        return sudh.phone_number, sudh.email_id , sudh.student_id\n",
    "        \n",
    "        "
   ]
  },
  {
   "cell_type": "code",
   "execution_count": 40,
   "id": "cef9747b-3229-4f7a-9951-051e67ae1c9b",
   "metadata": {},
   "outputs": [],
   "source": [
    "mohan = pwskills2(883832893, \"mohan@gmail.com\",90)"
   ]
  },
  {
   "cell_type": "code",
   "execution_count": 41,
   "id": "fa46a304-7c04-48b3-9375-3474062a955b",
   "metadata": {},
   "outputs": [
    {
     "data": {
      "text/plain": [
       "883832893"
      ]
     },
     "execution_count": 41,
     "metadata": {},
     "output_type": "execute_result"
    }
   ],
   "source": [
    "mohan.phone_number"
   ]
  },
  {
   "cell_type": "code",
   "execution_count": 43,
   "id": "4047d316-c07c-4480-80d3-52b0434dbe85",
   "metadata": {},
   "outputs": [
    {
     "data": {
      "text/plain": [
       "(883832893, 'mohan@gmail.com', 90)"
      ]
     },
     "execution_count": 43,
     "metadata": {},
     "output_type": "execute_result"
    }
   ],
   "source": [
    "mohan.return_student_detials()"
   ]
  },
  {
   "cell_type": "code",
   "execution_count": 49,
   "id": "1d8725e7-8c5e-44f7-8143-d2fcd5264983",
   "metadata": {},
   "outputs": [],
   "source": [
    "class pwskills3:\n",
    "    \n",
    "    def __init__(sudh ,phone_number , email_id, student_id ):\n",
    "        \n",
    "        sudh.phone_number1 = phone_number\n",
    "        sudh.email_id = email_id\n",
    "        sudh.student_id = student_id\n",
    "        \n",
    "    \n",
    "    def return_student_detials(sudh):\n",
    "        return sudh.phone_number, sudh.email_id , sudh.student_id"
   ]
  },
  {
   "cell_type": "code",
   "execution_count": 50,
   "id": "1211f3b4-3b67-41e7-9eae-c7aa86c1e1c4",
   "metadata": {},
   "outputs": [],
   "source": [
    "rohan= pwskills3(6987987, \"rohan@gmail.com\", 344)"
   ]
  },
  {
   "cell_type": "code",
   "execution_count": 52,
   "id": "3fd24200-2cec-49de-b222-d36fb309b04f",
   "metadata": {},
   "outputs": [
    {
     "data": {
      "text/plain": [
       "6987987"
      ]
     },
     "execution_count": 52,
     "metadata": {},
     "output_type": "execute_result"
    }
   ],
   "source": [
    "rohan.phone_number1"
   ]
  },
  {
   "cell_type": "code",
   "execution_count": null,
   "id": "38f4e0e9-3521-4809-b7c0-59a58effe719",
   "metadata": {},
   "outputs": [],
   "source": [
    "rohan.return_student_detials"
   ]
  }
 ],
 "metadata": {
  "kernelspec": {
   "display_name": "Python 3 (ipykernel)",
   "language": "python",
   "name": "python3"
  },
  "language_info": {
   "codemirror_mode": {
    "name": "ipython",
    "version": 3
   },
   "file_extension": ".py",
   "mimetype": "text/x-python",
   "name": "python",
   "nbconvert_exporter": "python",
   "pygments_lexer": "ipython3",
   "version": "3.10.8"
  }
 },
 "nbformat": 4,
 "nbformat_minor": 5
}
