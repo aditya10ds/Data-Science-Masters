{
 "cells": [
  {
   "cell_type": "code",
   "execution_count": 2,
   "id": "3d16e661-e2fb-4d63-b0f7-78b3a38c09a7",
   "metadata": {},
   "outputs": [],
   "source": [
    "class test:\n",
    "    def __init__(self,a,b):\n",
    "        self.a=a\n",
    "        self.b=b"
   ]
  },
  {
   "cell_type": "code",
   "execution_count": 3,
   "id": "cde29b12-779f-4ee9-b2e1-509ca5e3eff5",
   "metadata": {},
   "outputs": [],
   "source": [
    "t = test(45,56)"
   ]
  },
  {
   "cell_type": "code",
   "execution_count": 4,
   "id": "8a11f08b-921c-4510-880d-760c1925e7b6",
   "metadata": {},
   "outputs": [
    {
     "data": {
      "text/plain": [
       "45"
      ]
     },
     "execution_count": 4,
     "metadata": {},
     "output_type": "execute_result"
    }
   ],
   "source": [
    "t.a"
   ]
  },
  {
   "cell_type": "code",
   "execution_count": 5,
   "id": "92e3a2e9-e54f-48c0-b388-70157bf53905",
   "metadata": {},
   "outputs": [
    {
     "data": {
      "text/plain": [
       "56"
      ]
     },
     "execution_count": 5,
     "metadata": {},
     "output_type": "execute_result"
    }
   ],
   "source": [
    "t.b"
   ]
  },
  {
   "cell_type": "code",
   "execution_count": 6,
   "id": "f76f30f6-07af-4193-8c59-7eb173aceaef",
   "metadata": {},
   "outputs": [],
   "source": [
    "t.a = 3243"
   ]
  },
  {
   "cell_type": "code",
   "execution_count": 7,
   "id": "271922f6-253a-4e73-a2bf-1c17d2c7550c",
   "metadata": {},
   "outputs": [
    {
     "data": {
      "text/plain": [
       "3243"
      ]
     },
     "execution_count": 7,
     "metadata": {},
     "output_type": "execute_result"
    }
   ],
   "source": [
    "t.a"
   ]
  },
  {
   "cell_type": "code",
   "execution_count": 20,
   "id": "aa1e1802-c633-4504-bec4-83d5686e5d25",
   "metadata": {},
   "outputs": [],
   "source": [
    "class car :\n",
    "    def __init__(self,year,make,model,speed):\n",
    "        self.__year=year\n",
    "        self.__model=model\n",
    "        self.__speed= 0\n",
    "        \n",
    "    def set_speed(self,speed):\n",
    "        self.speed=0 if speed < 0 else speed\n",
    "        \n",
    "    def get_speed(sef):\n",
    "        return self._speed\n",
    "        "
   ]
  },
  {
   "cell_type": "code",
   "execution_count": 21,
   "id": "5626103a-e4d7-414a-beb7-01daf86c2c88",
   "metadata": {},
   "outputs": [],
   "source": [
    "obj_car.set_speed(-1234)"
   ]
  },
  {
   "cell_type": "code",
   "execution_count": 22,
   "id": "7d2c21e6-c2d9-44b6-9a0b-e53955536099",
   "metadata": {},
   "outputs": [],
   "source": [
    "obj_car.set_speed(-3453)"
   ]
  },
  {
   "cell_type": "code",
   "execution_count": 23,
   "id": "1da9d1b1-ecf5-4227-9056-ccc314049da5",
   "metadata": {},
   "outputs": [],
   "source": [
    "obj_car = car(2021,\"toyota\",\"innova\",12)"
   ]
  },
  {
   "cell_type": "code",
   "execution_count": 24,
   "id": "3cefe049-5022-4a89-a260-a470d788cd6f",
   "metadata": {},
   "outputs": [],
   "source": [
    "obj_car._car__year= 2023"
   ]
  },
  {
   "cell_type": "code",
   "execution_count": 25,
   "id": "908cd37a-d3c2-460b-82fc-fcee1acfbbe8",
   "metadata": {},
   "outputs": [
    {
     "data": {
      "text/plain": [
       "2023"
      ]
     },
     "execution_count": 25,
     "metadata": {},
     "output_type": "execute_result"
    }
   ],
   "source": [
    "obj_car._car__year"
   ]
  },
  {
   "cell_type": "code",
   "execution_count": 26,
   "id": "cbb77097-42b1-4003-8c9d-3d2612f36432",
   "metadata": {},
   "outputs": [
    {
     "data": {
      "text/plain": [
       "0"
      ]
     },
     "execution_count": 26,
     "metadata": {},
     "output_type": "execute_result"
    }
   ],
   "source": [
    "obj_car._car__speed"
   ]
  },
  {
   "cell_type": "code",
   "execution_count": 46,
   "id": "f4acc10a-4d10-4faa-b737-5a0aae6318c7",
   "metadata": {},
   "outputs": [],
   "source": [
    "class bank_acount:\n",
    "    \n",
    "    def __init__(self, balance):\n",
    "        self.__balance = balance\n",
    "        \n",
    "    def deposit(self, amount):\n",
    "        self.__balance = self.__balance + amount\n",
    "        \n",
    "    def  withdraw (self, amount):\n",
    "        if self.__balance >= amount :\n",
    "            self.__balance = self.__balance - amount\n",
    "            return True\n",
    "        else:\n",
    "            return False \n",
    "    def get_balance(self):\n",
    "        return self.__balance"
   ]
  },
  {
   "cell_type": "code",
   "execution_count": 47,
   "id": "f608352b-014c-476b-b2cf-243a20511843",
   "metadata": {},
   "outputs": [],
   "source": [
    "obj_bank_account = bank_acount(1000)"
   ]
  },
  {
   "cell_type": "code",
   "execution_count": 48,
   "id": "9559b716-a90c-4407-bdde-a532455f194e",
   "metadata": {},
   "outputs": [
    {
     "data": {
      "text/plain": [
       "1000"
      ]
     },
     "execution_count": 48,
     "metadata": {},
     "output_type": "execute_result"
    }
   ],
   "source": [
    "obj_bank_account.get_balance()"
   ]
  },
  {
   "cell_type": "code",
   "execution_count": 49,
   "id": "4a283a68-980b-4621-83d4-b84603acd2fa",
   "metadata": {},
   "outputs": [],
   "source": [
    "obj_bank_account.deposit(6000)"
   ]
  },
  {
   "cell_type": "code",
   "execution_count": 50,
   "id": "17235120-b13b-4b00-89ee-321279fc3613",
   "metadata": {},
   "outputs": [
    {
     "data": {
      "text/plain": [
       "7000"
      ]
     },
     "execution_count": 50,
     "metadata": {},
     "output_type": "execute_result"
    }
   ],
   "source": [
    "obj_bank_account.get_balance()"
   ]
  },
  {
   "cell_type": "code",
   "execution_count": 51,
   "id": "a2b6a47f-5efc-428f-8b34-9c86e688d022",
   "metadata": {},
   "outputs": [
    {
     "data": {
      "text/plain": [
       "False"
      ]
     },
     "execution_count": 51,
     "metadata": {},
     "output_type": "execute_result"
    }
   ],
   "source": [
    "obj_bank_account.withdraw(10000)"
   ]
  },
  {
   "cell_type": "code",
   "execution_count": 52,
   "id": "5503de78-86df-4021-b00d-e787af32561e",
   "metadata": {},
   "outputs": [
    {
     "data": {
      "text/plain": [
       "True"
      ]
     },
     "execution_count": 52,
     "metadata": {},
     "output_type": "execute_result"
    }
   ],
   "source": [
    "obj_bank_account.withdraw(2000)"
   ]
  },
  {
   "cell_type": "code",
   "execution_count": 53,
   "id": "12533eb2-fce9-4a54-a7a5-408c4db67fd7",
   "metadata": {},
   "outputs": [
    {
     "data": {
      "text/plain": [
       "5000"
      ]
     },
     "execution_count": 53,
     "metadata": {},
     "output_type": "execute_result"
    }
   ],
   "source": [
    "obj_bank_account.get_balance()"
   ]
  },
  {
   "cell_type": "code",
   "execution_count": null,
   "id": "39df0499-62c0-48e6-8a30-6270b41767e2",
   "metadata": {},
   "outputs": [],
   "source": []
  }
 ],
 "metadata": {
  "kernelspec": {
   "display_name": "Python 3 (ipykernel)",
   "language": "python",
   "name": "python3"
  },
  "language_info": {
   "codemirror_mode": {
    "name": "ipython",
    "version": 3
   },
   "file_extension": ".py",
   "mimetype": "text/x-python",
   "name": "python",
   "nbconvert_exporter": "python",
   "pygments_lexer": "ipython3",
   "version": "3.10.8"
  }
 },
 "nbformat": 4,
 "nbformat_minor": 5
}
