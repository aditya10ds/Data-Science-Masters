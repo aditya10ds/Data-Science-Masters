{
 "cells": [
  {
   "cell_type": "markdown",
   "id": "79438ff0-7e30-4054-86af-4e822798ae31",
   "metadata": {},
   "source": [
    "## Tuples"
   ]
  },
  {
   "cell_type": "code",
   "execution_count": 1,
   "id": "17d8e885-8801-40ae-a4df-349fa6a459a3",
   "metadata": {},
   "outputs": [],
   "source": [
    "t=()"
   ]
  },
  {
   "cell_type": "code",
   "execution_count": 2,
   "id": "136e6811-1b6a-4183-b84f-63647dffcb14",
   "metadata": {},
   "outputs": [
    {
     "data": {
      "text/plain": [
       "tuple"
      ]
     },
     "execution_count": 2,
     "metadata": {},
     "output_type": "execute_result"
    }
   ],
   "source": [
    "type(t)"
   ]
  },
  {
   "cell_type": "code",
   "execution_count": 6,
   "id": "8ece9ad1-e5b2-43ba-af12-ec149e0853ff",
   "metadata": {},
   "outputs": [
    {
     "data": {
      "text/plain": [
       "tuple"
      ]
     },
     "execution_count": 6,
     "metadata": {},
     "output_type": "execute_result"
    }
   ],
   "source": [
    "t1= (1,2,3,4,45,45.45,45+7j,\"sudh\",True)\n",
    "type(t1)"
   ]
  },
  {
   "cell_type": "code",
   "execution_count": 7,
   "id": "a4ef0631-72c7-4d29-94e1-4f2741faa811",
   "metadata": {},
   "outputs": [],
   "source": [
    "l=[1,2,3,4]"
   ]
  },
  {
   "cell_type": "code",
   "execution_count": 8,
   "id": "7c9f7e7a-1605-414c-b664-5dead225e90e",
   "metadata": {},
   "outputs": [
    {
     "data": {
      "text/plain": [
       "list"
      ]
     },
     "execution_count": 8,
     "metadata": {},
     "output_type": "execute_result"
    }
   ],
   "source": [
    "type(l)"
   ]
  },
  {
   "cell_type": "code",
   "execution_count": 9,
   "id": "89cf78bc-787f-4256-a9a9-8587a7cc7a9b",
   "metadata": {},
   "outputs": [
    {
     "data": {
      "text/plain": [
       "(1, 2, 3, 4, 45, 45.45, (45+7j), 'sudh', True)"
      ]
     },
     "execution_count": 9,
     "metadata": {},
     "output_type": "execute_result"
    }
   ],
   "source": [
    "t1"
   ]
  },
  {
   "cell_type": "code",
   "execution_count": 10,
   "id": "88a876ae-a048-4eeb-868c-3f80bd2d7e6e",
   "metadata": {},
   "outputs": [
    {
     "data": {
      "text/plain": [
       "1"
      ]
     },
     "execution_count": 10,
     "metadata": {},
     "output_type": "execute_result"
    }
   ],
   "source": [
    "t1[0]"
   ]
  },
  {
   "cell_type": "code",
   "execution_count": 11,
   "id": "2dfed98e-5854-4c01-a189-7ac3eadf44b7",
   "metadata": {},
   "outputs": [
    {
     "data": {
      "text/plain": [
       "'sudh'"
      ]
     },
     "execution_count": 11,
     "metadata": {},
     "output_type": "execute_result"
    }
   ],
   "source": [
    "t1[7]"
   ]
  },
  {
   "cell_type": "code",
   "execution_count": 15,
   "id": "ffc155c7-9624-4529-a0fb-2d70b2a78ec4",
   "metadata": {},
   "outputs": [
    {
     "data": {
      "text/plain": [
       "(True, 'sudh', (45+7j), 45.45, 45, 4, 3, 2, 1)"
      ]
     },
     "execution_count": 15,
     "metadata": {},
     "output_type": "execute_result"
    }
   ],
   "source": [
    "t1[::-1]"
   ]
  },
  {
   "cell_type": "code",
   "execution_count": 16,
   "id": "8c906e6d-ae56-44fb-a768-312e57af3f7b",
   "metadata": {},
   "outputs": [
    {
     "data": {
      "text/plain": [
       "(True, 'sudh', (45+7j), 45.45, 45, 4, 3, 2, 1)"
      ]
     },
     "execution_count": 16,
     "metadata": {},
     "output_type": "execute_result"
    }
   ],
   "source": [
    "t1=t1[::-1]\n",
    "t1"
   ]
  },
  {
   "cell_type": "code",
   "execution_count": 17,
   "id": "bd7fa958-0ba5-4205-ba20-3d1441859d71",
   "metadata": {},
   "outputs": [
    {
     "data": {
      "text/plain": [
       "(True, 'sudh', (45+7j))"
      ]
     },
     "execution_count": 17,
     "metadata": {},
     "output_type": "execute_result"
    }
   ],
   "source": [
    "t1[0:3]"
   ]
  },
  {
   "cell_type": "code",
   "execution_count": 18,
   "id": "508f1afc-dc62-476b-9449-8a9e8d0c07a4",
   "metadata": {},
   "outputs": [
    {
     "data": {
      "text/plain": [
       "(True, 'sudh', (45+7j), 45.45, 45, 4, 3, 2, 1)"
      ]
     },
     "execution_count": 18,
     "metadata": {},
     "output_type": "execute_result"
    }
   ],
   "source": [
    "t1"
   ]
  },
  {
   "cell_type": "code",
   "execution_count": 19,
   "id": "53ba7101-a3e6-4476-b58d-a3da7fdf2b9b",
   "metadata": {},
   "outputs": [
    {
     "data": {
      "text/plain": [
       "1"
      ]
     },
     "execution_count": 19,
     "metadata": {},
     "output_type": "execute_result"
    }
   ],
   "source": [
    "t1.count(4)"
   ]
  },
  {
   "cell_type": "code",
   "execution_count": 20,
   "id": "237d938b-910a-430f-8532-ff5b6928a0cc",
   "metadata": {},
   "outputs": [
    {
     "data": {
      "text/plain": [
       "0"
      ]
     },
     "execution_count": 20,
     "metadata": {},
     "output_type": "execute_result"
    }
   ],
   "source": [
    "t1.count(\"abc\")"
   ]
  },
  {
   "cell_type": "code",
   "execution_count": 21,
   "id": "02a5e263-5d72-4651-a081-14f5e1485827",
   "metadata": {},
   "outputs": [
    {
     "data": {
      "text/plain": [
       "0"
      ]
     },
     "execution_count": 21,
     "metadata": {},
     "output_type": "execute_result"
    }
   ],
   "source": [
    "t1.index(1)"
   ]
  },
  {
   "cell_type": "code",
   "execution_count": 22,
   "id": "9a6aa5da-6eba-442a-8497-b78e7db220d3",
   "metadata": {},
   "outputs": [
    {
     "data": {
      "text/plain": [
       "1"
      ]
     },
     "execution_count": 22,
     "metadata": {},
     "output_type": "execute_result"
    }
   ],
   "source": [
    "t1.index(\"sudh\")"
   ]
  },
  {
   "cell_type": "code",
   "execution_count": 23,
   "id": "f9fdc207-e467-4898-a801-2bd2ecb7688d",
   "metadata": {},
   "outputs": [
    {
     "data": {
      "text/plain": [
       "(True, 'sudh', (45+7j), 45.45, 45, 4, 3, 2, 1)"
      ]
     },
     "execution_count": 23,
     "metadata": {},
     "output_type": "execute_result"
    }
   ],
   "source": [
    "t1"
   ]
  },
  {
   "cell_type": "code",
   "execution_count": 26,
   "id": "d2b00daf-1c81-4442-b5b0-3dd3873511d3",
   "metadata": {},
   "outputs": [
    {
     "data": {
      "text/plain": [
       "2"
      ]
     },
     "execution_count": 26,
     "metadata": {},
     "output_type": "execute_result"
    }
   ],
   "source": [
    "t1.count(True)"
   ]
  },
  {
   "cell_type": "code",
   "execution_count": 27,
   "id": "355683e3-8cc5-4d38-af99-8e1f31841bbc",
   "metadata": {},
   "outputs": [
    {
     "data": {
      "text/plain": [
       "2"
      ]
     },
     "execution_count": 27,
     "metadata": {},
     "output_type": "execute_result"
    }
   ],
   "source": [
    "t1.count(1)"
   ]
  },
  {
   "cell_type": "code",
   "execution_count": 28,
   "id": "8e043a74-0443-43f5-a994-4383077b03d7",
   "metadata": {},
   "outputs": [
    {
     "data": {
      "text/plain": [
       "(True, 'sudh', (45+7j), 45.45, 45, 4, 3, 2, 1)"
      ]
     },
     "execution_count": 28,
     "metadata": {},
     "output_type": "execute_result"
    }
   ],
   "source": [
    "t1"
   ]
  },
  {
   "cell_type": "code",
   "execution_count": 30,
   "id": "5b17644b-3594-435c-a251-3a185675cf01",
   "metadata": {},
   "outputs": [
    {
     "data": {
      "text/plain": [
       "[1, 2, 3, 4]"
      ]
     },
     "execution_count": 30,
     "metadata": {},
     "output_type": "execute_result"
    }
   ],
   "source": [
    "l #list"
   ]
  },
  {
   "cell_type": "code",
   "execution_count": 31,
   "id": "c0ae8074-45c3-40c9-999f-0bc24044dc87",
   "metadata": {},
   "outputs": [
    {
     "data": {
      "text/plain": [
       "True"
      ]
     },
     "execution_count": 31,
     "metadata": {},
     "output_type": "execute_result"
    }
   ],
   "source": [
    "t1[0]"
   ]
  },
  {
   "cell_type": "markdown",
   "id": "4e5bbc0a-27f7-4f7b-bdcc-0f735bd4cb21",
   "metadata": {},
   "source": [
    "\"\"\"Tuple are basically follows  Immutability concepts where it is not going to allow to change any element at a perticular index\"\"\""
   ]
  },
  {
   "cell_type": "code",
   "execution_count": 32,
   "id": "684be6e2-057f-4d76-b540-a7096ea0d3c5",
   "metadata": {},
   "outputs": [
    {
     "ename": "TypeError",
     "evalue": "'tuple' object does not support item assignment",
     "output_type": "error",
     "traceback": [
      "\u001b[0;31m---------------------------------------------------------------------------\u001b[0m",
      "\u001b[0;31mTypeError\u001b[0m                                 Traceback (most recent call last)",
      "Cell \u001b[0;32mIn[32], line 1\u001b[0m\n\u001b[0;32m----> 1\u001b[0m \u001b[43mt1\u001b[49m\u001b[43m[\u001b[49m\u001b[38;5;241;43m0\u001b[39;49m\u001b[43m]\u001b[49m\u001b[38;5;241m=\u001b[39m \u001b[38;5;241m345\u001b[39m\n",
      "\u001b[0;31mTypeError\u001b[0m: 'tuple' object does not support item assignment"
     ]
    }
   ],
   "source": [
    "t1[0]= 345"
   ]
  },
  {
   "cell_type": "code",
   "execution_count": 35,
   "id": "fda18011-b62d-43cf-9034-857b9e3f188a",
   "metadata": {},
   "outputs": [
    {
     "data": {
      "text/plain": [
       "[1, 2, 3, 4]"
      ]
     },
     "execution_count": 35,
     "metadata": {},
     "output_type": "execute_result"
    }
   ],
   "source": [
    "l"
   ]
  },
  {
   "cell_type": "code",
   "execution_count": 37,
   "id": "f0f69b41-fdbd-4df1-a100-f3c12dce7807",
   "metadata": {},
   "outputs": [
    {
     "data": {
      "text/plain": [
       "1"
      ]
     },
     "execution_count": 37,
     "metadata": {},
     "output_type": "execute_result"
    }
   ],
   "source": [
    "l[0]"
   ]
  },
  {
   "cell_type": "code",
   "execution_count": 38,
   "id": "053674ee-0fe4-498f-9f42-77b694c27fe0",
   "metadata": {},
   "outputs": [],
   "source": [
    "l[0] = 100"
   ]
  },
  {
   "cell_type": "code",
   "execution_count": 39,
   "id": "a53c52ce-fe20-4fd7-a35d-4334ecae9ea8",
   "metadata": {},
   "outputs": [
    {
     "data": {
      "text/plain": [
       "[100, 2, 3, 4]"
      ]
     },
     "execution_count": 39,
     "metadata": {},
     "output_type": "execute_result"
    }
   ],
   "source": [
    "l"
   ]
  },
  {
   "cell_type": "code",
   "execution_count": 40,
   "id": "4e3750dc-c8a5-4516-b1c7-f2c9c691d7ac",
   "metadata": {},
   "outputs": [
    {
     "data": {
      "text/plain": [
       "(True, 'sudh', (45+7j), 45.45, 45, 4, 3, 2, 1)"
      ]
     },
     "execution_count": 40,
     "metadata": {},
     "output_type": "execute_result"
    }
   ],
   "source": [
    "t1"
   ]
  },
  {
   "cell_type": "code",
   "execution_count": 42,
   "id": "631a600a-37a1-4b5a-aa54-da3ca0d05529",
   "metadata": {},
   "outputs": [
    {
     "name": "stdout",
     "output_type": "stream",
     "text": [
      "True <class 'bool'>\n",
      "sudh <class 'str'>\n",
      "(45+7j) <class 'complex'>\n",
      "45.45 <class 'float'>\n",
      "45 <class 'int'>\n",
      "4 <class 'int'>\n",
      "3 <class 'int'>\n",
      "2 <class 'int'>\n",
      "1 <class 'int'>\n"
     ]
    }
   ],
   "source": [
    "for i in t1:\n",
    "    print(i, type(i))"
   ]
  },
  {
   "cell_type": "code",
   "execution_count": 43,
   "id": "dbb8d625-4253-4414-8806-2447397169fd",
   "metadata": {},
   "outputs": [],
   "source": [
    "t2 =(1,2,3,4)"
   ]
  },
  {
   "cell_type": "code",
   "execution_count": 44,
   "id": "bca406b0-825c-4ea2-9dda-4d82bc0bde2a",
   "metadata": {},
   "outputs": [
    {
     "data": {
      "text/plain": [
       "(1, 2, 3, 4)"
      ]
     },
     "execution_count": 44,
     "metadata": {},
     "output_type": "execute_result"
    }
   ],
   "source": [
    "t2"
   ]
  },
  {
   "cell_type": "code",
   "execution_count": 45,
   "id": "b3e6af31-37f9-4ec2-80c9-81e856c925b8",
   "metadata": {},
   "outputs": [
    {
     "data": {
      "text/plain": [
       "(1, 2, 3, 4, 1, 2, 3, 4, 1, 2, 3, 4)"
      ]
     },
     "execution_count": 45,
     "metadata": {},
     "output_type": "execute_result"
    }
   ],
   "source": [
    "t2*3"
   ]
  },
  {
   "cell_type": "code",
   "execution_count": 46,
   "id": "89cd4b63-5d67-4a84-9bde-6f1a156e9c09",
   "metadata": {},
   "outputs": [
    {
     "data": {
      "text/plain": [
       "4"
      ]
     },
     "execution_count": 46,
     "metadata": {},
     "output_type": "execute_result"
    }
   ],
   "source": [
    "max(t2)"
   ]
  },
  {
   "cell_type": "code",
   "execution_count": 55,
   "id": "adca20c8-3492-45f0-841b-4a68507fff84",
   "metadata": {},
   "outputs": [
    {
     "data": {
      "text/plain": [
       "1"
      ]
     },
     "execution_count": 55,
     "metadata": {},
     "output_type": "execute_result"
    }
   ],
   "source": [
    "min(t2)"
   ]
  },
  {
   "cell_type": "code",
   "execution_count": 70,
   "id": "8399e457-36a4-4afc-9038-bc20f1a30feb",
   "metadata": {},
   "outputs": [],
   "source": [
    "t1 = (1,2,32,4)\n",
    "t2 = (4,5,6,7,8)"
   ]
  },
  {
   "cell_type": "code",
   "execution_count": 71,
   "id": "01523c5e-79d0-46c0-962c-a5ac0a42d917",
   "metadata": {},
   "outputs": [],
   "source": [
    "t3=(t1,t2)"
   ]
  },
  {
   "cell_type": "code",
   "execution_count": 72,
   "id": "6a3f3ca2-215d-42b4-a1b6-ac75a604d230",
   "metadata": {},
   "outputs": [
    {
     "data": {
      "text/plain": [
       "((1, 2, 32, 4), (4, 5, 6, 7, 8))"
      ]
     },
     "execution_count": 72,
     "metadata": {},
     "output_type": "execute_result"
    }
   ],
   "source": [
    "t3"
   ]
  },
  {
   "cell_type": "code",
   "execution_count": 74,
   "id": "1cdf713f-a4f9-4f09-aeb7-e4fadd7f6344",
   "metadata": {},
   "outputs": [],
   "source": [
    "t4 = ((1,2,3,4,5),[4,5,6,7,8])"
   ]
  },
  {
   "cell_type": "code",
   "execution_count": 75,
   "id": "df5b59db-ed73-4585-80bd-4848f7d1c86e",
   "metadata": {},
   "outputs": [
    {
     "data": {
      "text/plain": [
       "((1, 2, 3, 4, 5), [4, 5, 6, 7, 8])"
      ]
     },
     "execution_count": 75,
     "metadata": {},
     "output_type": "execute_result"
    }
   ],
   "source": [
    "t4"
   ]
  },
  {
   "cell_type": "code",
   "execution_count": 76,
   "id": "71267efb-0f08-4abc-9558-423407c6f6f0",
   "metadata": {},
   "outputs": [],
   "source": [
    "del t4"
   ]
  },
  {
   "cell_type": "code",
   "execution_count": 77,
   "id": "1a819bde-3c60-4c51-aee2-37f879195894",
   "metadata": {},
   "outputs": [
    {
     "ename": "NameError",
     "evalue": "name 't4' is not defined",
     "output_type": "error",
     "traceback": [
      "\u001b[0;31m---------------------------------------------------------------------------\u001b[0m",
      "\u001b[0;31mNameError\u001b[0m                                 Traceback (most recent call last)",
      "Cell \u001b[0;32mIn[77], line 1\u001b[0m\n\u001b[0;32m----> 1\u001b[0m \u001b[43mt4\u001b[49m\n",
      "\u001b[0;31mNameError\u001b[0m: name 't4' is not defined"
     ]
    }
   ],
   "source": [
    "t4"
   ]
  },
  {
   "cell_type": "code",
   "execution_count": 78,
   "id": "46278376-1125-4173-a248-59f67e69307c",
   "metadata": {},
   "outputs": [
    {
     "data": {
      "text/plain": [
       "(1, 2, 32, 4)"
      ]
     },
     "execution_count": 78,
     "metadata": {},
     "output_type": "execute_result"
    }
   ],
   "source": [
    "t1"
   ]
  },
  {
   "cell_type": "code",
   "execution_count": 79,
   "id": "4ba07736-a9ec-494c-86d8-e0ddadb580b0",
   "metadata": {},
   "outputs": [
    {
     "data": {
      "text/plain": [
       "4"
      ]
     },
     "execution_count": 79,
     "metadata": {},
     "output_type": "execute_result"
    }
   ],
   "source": [
    "len(t1)"
   ]
  },
  {
   "cell_type": "code",
   "execution_count": 80,
   "id": "4e57c896-c974-48ba-ad8f-c07f10207c11",
   "metadata": {},
   "outputs": [
    {
     "data": {
      "text/plain": [
       "(1, 2, 32, 4)"
      ]
     },
     "execution_count": 80,
     "metadata": {},
     "output_type": "execute_result"
    }
   ],
   "source": [
    "t1"
   ]
  },
  {
   "cell_type": "code",
   "execution_count": 81,
   "id": "00012343-4435-4149-b02b-6fcb19db5be2",
   "metadata": {},
   "outputs": [
    {
     "data": {
      "text/plain": [
       "False"
      ]
     },
     "execution_count": 81,
     "metadata": {},
     "output_type": "execute_result"
    }
   ],
   "source": [
    "\"sudh\" in t1"
   ]
  },
  {
   "cell_type": "code",
   "execution_count": 82,
   "id": "fb48f5e7-42e1-4297-af3b-0fe52ef0085a",
   "metadata": {},
   "outputs": [
    {
     "data": {
      "text/plain": [
       "True"
      ]
     },
     "execution_count": 82,
     "metadata": {},
     "output_type": "execute_result"
    }
   ],
   "source": [
    "2 in t1"
   ]
  },
  {
   "cell_type": "markdown",
   "id": "42a6713f-bd21-4044-b4b5-1348189c1de6",
   "metadata": {},
   "source": [
    "##### Thankyou"
   ]
  },
  {
   "cell_type": "code",
   "execution_count": null,
   "id": "3f961e33-32a9-4c0a-bc20-195dfefd04d4",
   "metadata": {},
   "outputs": [],
   "source": []
  }
 ],
 "metadata": {
  "kernelspec": {
   "display_name": "Python 3 (ipykernel)",
   "language": "python",
   "name": "python3"
  },
  "language_info": {
   "codemirror_mode": {
    "name": "ipython",
    "version": 3
   },
   "file_extension": ".py",
   "mimetype": "text/x-python",
   "name": "python",
   "nbconvert_exporter": "python",
   "pygments_lexer": "ipython3",
   "version": "3.10.8"
  }
 },
 "nbformat": 4,
 "nbformat_minor": 5
}
