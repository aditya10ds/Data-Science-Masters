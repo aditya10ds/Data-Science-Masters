{
 "cells": [
  {
   "cell_type": "code",
   "execution_count": 1,
   "id": "951a6ad5-5c49-40b6-b38f-562d58f24e3b",
   "metadata": {},
   "outputs": [],
   "source": [
    "class parent :\n",
    "    \n",
    "    def test_parent(self):\n",
    "        print(\"This is my parent class\")    "
   ]
  },
  {
   "cell_type": "code",
   "execution_count": 2,
   "id": "3dbecfb8-4b76-4124-bffe-de2540de1d5c",
   "metadata": {},
   "outputs": [],
   "source": [
    "class child (parent):\n",
    "    pass"
   ]
  },
  {
   "cell_type": "code",
   "execution_count": 3,
   "id": "38413626-5430-4db4-b779-8344c2ac6024",
   "metadata": {},
   "outputs": [],
   "source": [
    "child_obj = child()"
   ]
  },
  {
   "cell_type": "code",
   "execution_count": 4,
   "id": "762ad3bf-8b91-4cd3-8587-ed23464a0b6d",
   "metadata": {},
   "outputs": [
    {
     "name": "stdout",
     "output_type": "stream",
     "text": [
      "This is my parent class\n"
     ]
    }
   ],
   "source": [
    "child_obj.test_parent()"
   ]
  },
  {
   "cell_type": "code",
   "execution_count": 16,
   "id": "a8c02d69-57b1-4ace-adf0-dea96f2ed3e6",
   "metadata": {},
   "outputs": [],
   "source": [
    "class class1:\n",
    "    def test_class1(self):\n",
    "        print(\"this is my class1\")"
   ]
  },
  {
   "cell_type": "code",
   "execution_count": 20,
   "id": "44f0b232-d752-4b78-9e77-b1be12b52f4f",
   "metadata": {},
   "outputs": [],
   "source": [
    "class class2(class1):\n",
    "    def test_class2(self):\n",
    "        print(\"this is my class2\")"
   ]
  },
  {
   "cell_type": "code",
   "execution_count": 21,
   "id": "6607a1f6-f79d-47e4-91e2-2dd0d95c0d18",
   "metadata": {},
   "outputs": [],
   "source": [
    "class class3(class2):\n",
    "    def test_class3(self):\n",
    "        print(\"this is my class3\")"
   ]
  },
  {
   "cell_type": "code",
   "execution_count": 22,
   "id": "efd838b6-3480-46e3-8b3e-c4ed8b824532",
   "metadata": {},
   "outputs": [],
   "source": [
    "obj_class3 = class3()"
   ]
  },
  {
   "cell_type": "code",
   "execution_count": 23,
   "id": "c3a2fbbc-fdf8-41d5-a4cf-7e4a359e51e0",
   "metadata": {},
   "outputs": [
    {
     "name": "stdout",
     "output_type": "stream",
     "text": [
      "this is my class1\n"
     ]
    }
   ],
   "source": [
    "obj_class3.test_class1()"
   ]
  },
  {
   "cell_type": "code",
   "execution_count": 24,
   "id": "e6a5421f-97c4-4564-b63e-9a757a1581c8",
   "metadata": {},
   "outputs": [
    {
     "name": "stdout",
     "output_type": "stream",
     "text": [
      "this is my class2\n"
     ]
    }
   ],
   "source": [
    "obj_class3.test_class2()"
   ]
  },
  {
   "cell_type": "code",
   "execution_count": 25,
   "id": "bacc2b99-fc7c-4167-a78c-f4055bfa911b",
   "metadata": {},
   "outputs": [
    {
     "name": "stdout",
     "output_type": "stream",
     "text": [
      "this is my class3\n"
     ]
    }
   ],
   "source": [
    "obj_class3.test_class3()"
   ]
  },
  {
   "cell_type": "code",
   "execution_count": 46,
   "id": "ce7a05c0-ee4d-4a9b-9d24-5ec2dc748a95",
   "metadata": {},
   "outputs": [],
   "source": [
    "class class1 :\n",
    "    def test_class1(self):\n",
    "        print(\"this is my class 1\") "
   ]
  },
  {
   "cell_type": "code",
   "execution_count": 47,
   "id": "442bab7a-0401-4329-bdd2-45a3ca0296dd",
   "metadata": {},
   "outputs": [],
   "source": [
    "class class2:\n",
    "    def test_clss2(self):\n",
    "        print(\"this is my class 2\")"
   ]
  },
  {
   "cell_type": "code",
   "execution_count": 48,
   "id": "2121fd91-1962-4903-bf8d-60c689fcc99d",
   "metadata": {},
   "outputs": [],
   "source": [
    "class class3 (class1, class2):\n",
    "    pass"
   ]
  },
  {
   "cell_type": "code",
   "execution_count": 49,
   "id": "26369cea-8b88-4f34-8e05-bae3592aec30",
   "metadata": {},
   "outputs": [],
   "source": [
    "obj_class3 = class3()"
   ]
  },
  {
   "cell_type": "code",
   "execution_count": 50,
   "id": "49e48497-155c-4d3c-9db2-6d9e462a71b2",
   "metadata": {},
   "outputs": [
    {
     "name": "stdout",
     "output_type": "stream",
     "text": [
      "this is my class 1\n"
     ]
    }
   ],
   "source": [
    "obj_class3.test_class1()"
   ]
  },
  {
   "cell_type": "code",
   "execution_count": 51,
   "id": "926b5805-9cdd-490a-b642-a0aa74bed3ca",
   "metadata": {},
   "outputs": [
    {
     "ename": "AttributeError",
     "evalue": "'class3' object has no attribute 'test_class2'",
     "output_type": "error",
     "traceback": [
      "\u001b[0;31m---------------------------------------------------------------------------\u001b[0m",
      "\u001b[0;31mAttributeError\u001b[0m                            Traceback (most recent call last)",
      "Cell \u001b[0;32mIn[51], line 1\u001b[0m\n\u001b[0;32m----> 1\u001b[0m \u001b[43mobj_class3\u001b[49m\u001b[38;5;241;43m.\u001b[39;49m\u001b[43mtest_class2\u001b[49m()\n",
      "\u001b[0;31mAttributeError\u001b[0m: 'class3' object has no attribute 'test_class2'"
     ]
    }
   ],
   "source": [
    "obj_class3.test_class2()"
   ]
  },
  {
   "cell_type": "code",
   "execution_count": null,
   "id": "cd77d9c8-6515-41b8-9746-5c51ee4a6d51",
   "metadata": {},
   "outputs": [],
   "source": []
  }
 ],
 "metadata": {
  "kernelspec": {
   "display_name": "Python 3 (ipykernel)",
   "language": "python",
   "name": "python3"
  },
  "language_info": {
   "codemirror_mode": {
    "name": "ipython",
    "version": 3
   },
   "file_extension": ".py",
   "mimetype": "text/x-python",
   "name": "python",
   "nbconvert_exporter": "python",
   "pygments_lexer": "ipython3",
   "version": "3.10.8"
  }
 },
 "nbformat": 4,
 "nbformat_minor": 5
}
