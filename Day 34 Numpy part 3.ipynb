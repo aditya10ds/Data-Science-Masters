{
 "cells": [
  {
   "cell_type": "code",
   "execution_count": 1,
   "id": "9de943a5-65cf-4467-8a15-e1ceca4a9ce0",
   "metadata": {},
   "outputs": [],
   "source": [
    "# Sort ,Search & Counting Function "
   ]
  },
  {
   "cell_type": "code",
   "execution_count": 3,
   "id": "27a8f325-4bb1-4f37-b4f2-8b8f439d09cf",
   "metadata": {},
   "outputs": [],
   "source": [
    "import numpy as np "
   ]
  },
  {
   "cell_type": "code",
   "execution_count": 5,
   "id": "d46f1a14-7768-46fd-bc90-a36d680e183f",
   "metadata": {},
   "outputs": [],
   "source": [
    "arr = np.array([4,5,6,7,82,34,5,5,67,4])"
   ]
  },
  {
   "cell_type": "code",
   "execution_count": 6,
   "id": "c2fd4217-42cf-4c9a-a668-4af7d622ad8e",
   "metadata": {},
   "outputs": [
    {
     "data": {
      "text/plain": [
       "array([ 4,  5,  6,  7, 82, 34,  5,  5, 67,  4])"
      ]
     },
     "execution_count": 6,
     "metadata": {},
     "output_type": "execute_result"
    }
   ],
   "source": [
    "arr"
   ]
  },
  {
   "cell_type": "code",
   "execution_count": 7,
   "id": "7286640e-7cfb-4543-9ae8-d767e5431caf",
   "metadata": {},
   "outputs": [
    {
     "data": {
      "text/plain": [
       "array([ 4,  4,  5,  5,  5,  6,  7, 34, 67, 82])"
      ]
     },
     "execution_count": 7,
     "metadata": {},
     "output_type": "execute_result"
    }
   ],
   "source": [
    "np.sort(arr)"
   ]
  },
  {
   "cell_type": "code",
   "execution_count": 8,
   "id": "15978440-3bd4-4e8f-bc26-9a9e58990752",
   "metadata": {},
   "outputs": [
    {
     "data": {
      "text/plain": [
       "8"
      ]
     },
     "execution_count": 8,
     "metadata": {},
     "output_type": "execute_result"
    }
   ],
   "source": [
    "np.searchsorted(arr,45)"
   ]
  },
  {
   "cell_type": "code",
   "execution_count": 9,
   "id": "b39317e6-0fa9-4969-bb7c-9a85c85a863c",
   "metadata": {},
   "outputs": [],
   "source": [
    "arr1 = np.array([0,3435,45,0,0,0,0,0,0])"
   ]
  },
  {
   "cell_type": "code",
   "execution_count": 10,
   "id": "9fdf34cc-1024-4937-9113-0460396cc664",
   "metadata": {},
   "outputs": [
    {
     "data": {
      "text/plain": [
       "2"
      ]
     },
     "execution_count": 10,
     "metadata": {},
     "output_type": "execute_result"
    }
   ],
   "source": [
    "np.count_nonzero(arr1)"
   ]
  },
  {
   "cell_type": "code",
   "execution_count": 11,
   "id": "93418a44-545c-49e3-84df-67607ea004ed",
   "metadata": {},
   "outputs": [
    {
     "data": {
      "text/plain": [
       "array([ 4,  5,  6,  7, 82, 34,  5,  5, 67,  4])"
      ]
     },
     "execution_count": 11,
     "metadata": {},
     "output_type": "execute_result"
    }
   ],
   "source": [
    "arr"
   ]
  },
  {
   "cell_type": "code",
   "execution_count": 12,
   "id": "83605969-855f-4b99-b70f-bf1f34f8bfd2",
   "metadata": {},
   "outputs": [
    {
     "data": {
      "text/plain": [
       "(array([3, 4, 5, 8]),)"
      ]
     },
     "execution_count": 12,
     "metadata": {},
     "output_type": "execute_result"
    }
   ],
   "source": [
    "np.where(arr>6)"
   ]
  },
  {
   "cell_type": "code",
   "execution_count": 13,
   "id": "11375808-00c5-4cc0-9db9-4904fd748d52",
   "metadata": {},
   "outputs": [
    {
     "data": {
      "text/plain": [
       "array([ 5,  6,  7, 82, 34,  5,  5, 67])"
      ]
     },
     "execution_count": 13,
     "metadata": {},
     "output_type": "execute_result"
    }
   ],
   "source": [
    "np.extract(arr>4 , arr)"
   ]
  },
  {
   "cell_type": "code",
   "execution_count": 14,
   "id": "f4846150-437a-4728-af8a-a0c18c5d3092",
   "metadata": {},
   "outputs": [],
   "source": [
    "# Numpy - Byte Swapping."
   ]
  },
  {
   "cell_type": "code",
   "execution_count": 15,
   "id": "d3d0af86-f3f7-46a8-89d9-a71663ecb20d",
   "metadata": {},
   "outputs": [
    {
     "data": {
      "text/plain": [
       "array([ 4,  5,  6,  7, 82, 34,  5,  5, 67,  4])"
      ]
     },
     "execution_count": 15,
     "metadata": {},
     "output_type": "execute_result"
    }
   ],
   "source": [
    "arr"
   ]
  },
  {
   "cell_type": "code",
   "execution_count": 16,
   "id": "aaed8326-ac80-4a11-b88c-637cefd3376f",
   "metadata": {},
   "outputs": [
    {
     "data": {
      "text/plain": [
       "array([ 288230376151711744,  360287970189639680,  432345564227567616,\n",
       "        504403158265495552, 5908722711110090752, 2449958197289549824,\n",
       "        360287970189639680,  360287970189639680, 4827858800541171712,\n",
       "        288230376151711744])"
      ]
     },
     "execution_count": 16,
     "metadata": {},
     "output_type": "execute_result"
    }
   ],
   "source": [
    "arr.byteswap()"
   ]
  },
  {
   "cell_type": "code",
   "execution_count": 17,
   "id": "33729217-4263-43fa-9443-04db0edd162a",
   "metadata": {},
   "outputs": [],
   "source": [
    "# Numpy - copies & views."
   ]
  },
  {
   "cell_type": "code",
   "execution_count": 18,
   "id": "0d1413b2-204b-4972-99f3-d78776f2a191",
   "metadata": {},
   "outputs": [
    {
     "data": {
      "text/plain": [
       "array([ 4,  5,  6,  7, 82, 34,  5,  5, 67,  4])"
      ]
     },
     "execution_count": 18,
     "metadata": {},
     "output_type": "execute_result"
    }
   ],
   "source": [
    "arr"
   ]
  },
  {
   "cell_type": "code",
   "execution_count": 21,
   "id": "9749c44f-b486-4f19-a05b-4ec08df67774",
   "metadata": {},
   "outputs": [],
   "source": [
    "a = np.copy(arr)"
   ]
  },
  {
   "cell_type": "code",
   "execution_count": 22,
   "id": "d2dca572-381d-431f-89d4-4e2a71a757b8",
   "metadata": {},
   "outputs": [],
   "source": [
    "b = arr.view()"
   ]
  },
  {
   "cell_type": "code",
   "execution_count": null,
   "id": "4bf53d5d-cf73-4d6a-adb8-20ca43d555fc",
   "metadata": {},
   "outputs": [],
   "source": [
    "b= arr"
   ]
  },
  {
   "cell_type": "code",
   "execution_count": 23,
   "id": "b7f75aeb-62e4-4889-8804-c8afc7196e52",
   "metadata": {},
   "outputs": [
    {
     "data": {
      "text/plain": [
       "array([ 4,  5,  6,  7, 82, 34,  5,  5, 67,  4])"
      ]
     },
     "execution_count": 23,
     "metadata": {},
     "output_type": "execute_result"
    }
   ],
   "source": [
    "b"
   ]
  },
  {
   "cell_type": "code",
   "execution_count": 24,
   "id": "c65b15df-19b6-41b7-865b-07927ffbcff7",
   "metadata": {},
   "outputs": [
    {
     "data": {
      "text/plain": [
       "array([ 4,  5,  6,  7, 82, 34,  5,  5, 67,  4])"
      ]
     },
     "execution_count": 24,
     "metadata": {},
     "output_type": "execute_result"
    }
   ],
   "source": [
    "arr"
   ]
  },
  {
   "cell_type": "code",
   "execution_count": 25,
   "id": "aca1dc0c-99e5-4d82-86f7-125a058252d9",
   "metadata": {},
   "outputs": [],
   "source": [
    "# Nummpy - Matrix library"
   ]
  },
  {
   "cell_type": "code",
   "execution_count": 27,
   "id": "5e223f3a-6275-4aea-b609-ab32950a0394",
   "metadata": {},
   "outputs": [],
   "source": [
    "import numpy.matlib as nm"
   ]
  },
  {
   "cell_type": "code",
   "execution_count": 28,
   "id": "52568aef-794c-447d-a1d3-fe97f73a133f",
   "metadata": {},
   "outputs": [
    {
     "data": {
      "text/plain": [
       "matrix([[0., 0., 0., 0., 0.]])"
      ]
     },
     "execution_count": 28,
     "metadata": {},
     "output_type": "execute_result"
    }
   ],
   "source": [
    "nm.zeros(5)"
   ]
  },
  {
   "cell_type": "code",
   "execution_count": 29,
   "id": "b1aa50f3-7abb-43c6-bf23-2e62d6057541",
   "metadata": {},
   "outputs": [
    {
     "data": {
      "text/plain": [
       "matrix([[1., 1., 1., 1.],\n",
       "        [1., 1., 1., 1.],\n",
       "        [1., 1., 1., 1.]])"
      ]
     },
     "execution_count": 29,
     "metadata": {},
     "output_type": "execute_result"
    }
   ],
   "source": [
    "nm.ones((3,4))"
   ]
  },
  {
   "cell_type": "code",
   "execution_count": 30,
   "id": "ea531308-5452-4c5d-98b2-f089251c1c13",
   "metadata": {},
   "outputs": [
    {
     "data": {
      "text/plain": [
       "matrix([[1., 0., 0., 0., 0.],\n",
       "        [0., 1., 0., 0., 0.],\n",
       "        [0., 0., 1., 0., 0.],\n",
       "        [0., 0., 0., 1., 0.],\n",
       "        [0., 0., 0., 0., 1.]])"
      ]
     },
     "execution_count": 30,
     "metadata": {},
     "output_type": "execute_result"
    }
   ],
   "source": [
    "nm.eye(5)"
   ]
  },
  {
   "cell_type": "code",
   "execution_count": 31,
   "id": "47b2ce76-c886-4016-bf80-1b60bfcf6f13",
   "metadata": {},
   "outputs": [],
   "source": [
    "# Numpy - Linear Algebra"
   ]
  },
  {
   "cell_type": "code",
   "execution_count": 41,
   "id": "e76bc7ad-948d-43b7-bbbe-cc651a255d33",
   "metadata": {},
   "outputs": [],
   "source": [
    "arr1 = np.random.randint([[2,3],[4,5]])"
   ]
  },
  {
   "cell_type": "code",
   "execution_count": 42,
   "id": "9d1d9df2-111b-40d8-be71-36366249f041",
   "metadata": {},
   "outputs": [],
   "source": [
    "arr2 = np.random.randint([[5,3],[2,5]])"
   ]
  },
  {
   "cell_type": "code",
   "execution_count": 43,
   "id": "53ef3f83-3572-493d-8d2e-2bc6cb479009",
   "metadata": {},
   "outputs": [
    {
     "data": {
      "text/plain": [
       "array([[1, 2],\n",
       "       [6, 8]])"
      ]
     },
     "execution_count": 43,
     "metadata": {},
     "output_type": "execute_result"
    }
   ],
   "source": [
    "np.dot(arr1,arr2)"
   ]
  },
  {
   "cell_type": "code",
   "execution_count": 44,
   "id": "391be99f-7be8-4da4-bcb4-cb1371891e20",
   "metadata": {},
   "outputs": [
    {
     "data": {
      "text/plain": [
       "array([[1, 2],\n",
       "       [6, 8]])"
      ]
     },
     "execution_count": 44,
     "metadata": {},
     "output_type": "execute_result"
    }
   ],
   "source": [
    "arr1@arr2"
   ]
  },
  {
   "cell_type": "code",
   "execution_count": null,
   "id": "9fd40e3e-5214-4c0a-8103-61adc8095998",
   "metadata": {},
   "outputs": [],
   "source": []
  }
 ],
 "metadata": {
  "kernelspec": {
   "display_name": "Python 3 (ipykernel)",
   "language": "python",
   "name": "python3"
  },
  "language_info": {
   "codemirror_mode": {
    "name": "ipython",
    "version": 3
   },
   "file_extension": ".py",
   "mimetype": "text/x-python",
   "name": "python",
   "nbconvert_exporter": "python",
   "pygments_lexer": "ipython3",
   "version": "3.10.8"
  }
 },
 "nbformat": 4,
 "nbformat_minor": 5
}
