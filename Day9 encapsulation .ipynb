{
 "cells": [
  {
   "cell_type": "code",
   "execution_count": 2,
   "id": "3d16e661-e2fb-4d63-b0f7-78b3a38c09a7",
   "metadata": {},
   "outputs": [],
   "source": [
    "class test:\n",
    "    def __init__(self,a,b):\n",
    "        self.a=a\n",
    "        self.b=b"
   ]
  },
  {
   "cell_type": "code",
   "execution_count": 3,
   "id": "cde29b12-779f-4ee9-b2e1-509ca5e3eff5",
   "metadata": {},
   "outputs": [],
   "source": [
    "t = test(45,56)"
   ]
  },
  {
   "cell_type": "code",
   "execution_count": 4,
   "id": "8a11f08b-921c-4510-880d-760c1925e7b6",
   "metadata": {},
   "outputs": [
    {
     "data": {
      "text/plain": [
       "45"
      ]
     },
     "execution_count": 4,
     "metadata": {},
     "output_type": "execute_result"
    }
   ],
   "source": [
    "t.a"
   ]
  },
  {
   "cell_type": "code",
   "execution_count": 5,
   "id": "92e3a2e9-e54f-48c0-b388-70157bf53905",
   "metadata": {},
   "outputs": [
    {
     "data": {
      "text/plain": [
       "56"
      ]
     },
     "execution_count": 5,
     "metadata": {},
     "output_type": "execute_result"
    }
   ],
   "source": [
    "t.b"
   ]
  },
  {
   "cell_type": "code",
   "execution_count": 6,
   "id": "f76f30f6-07af-4193-8c59-7eb173aceaef",
   "metadata": {},
   "outputs": [],
   "source": [
    "t.a = 3243"
   ]
  },
  {
   "cell_type": "code",
   "execution_count": 7,
   "id": "271922f6-253a-4e73-a2bf-1c17d2c7550c",
   "metadata": {},
   "outputs": [
    {
     "data": {
      "text/plain": [
       "3243"
      ]
     },
     "execution_count": 7,
     "metadata": {},
     "output_type": "execute_result"
    }
   ],
   "source": [
    "t.a"
   ]
  },
  {
   "cell_type": "code",
   "execution_count": null,
   "id": "aa1e1802-c633-4504-bec4-83d5686e5d25",
   "metadata": {},
   "outputs": [],
   "source": []
  }
 ],
 "metadata": {
  "kernelspec": {
   "display_name": "Python 3 (ipykernel)",
   "language": "python",
   "name": "python3"
  },
  "language_info": {
   "codemirror_mode": {
    "name": "ipython",
    "version": 3
   },
   "file_extension": ".py",
   "mimetype": "text/x-python",
   "name": "python",
   "nbconvert_exporter": "python",
   "pygments_lexer": "ipython3",
   "version": "3.10.8"
  }
 },
 "nbformat": 4,
 "nbformat_minor": 5
}
