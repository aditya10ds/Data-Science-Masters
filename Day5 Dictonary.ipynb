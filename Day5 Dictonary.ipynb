{
 "cells": [
  {
   "cell_type": "markdown",
   "id": "5af8275d-664e-48a6-bb3d-8a99966307e5",
   "metadata": {},
   "source": [
    "## Dictonary"
   ]
  },
  {
   "cell_type": "code",
   "execution_count": 1,
   "id": "47af6c19-25a3-4ed2-8380-1b30a72dac9b",
   "metadata": {},
   "outputs": [],
   "source": [
    "d={}"
   ]
  },
  {
   "cell_type": "code",
   "execution_count": 3,
   "id": "1ef5aa9f-b937-4d02-9711-ec50b24f5b9e",
   "metadata": {},
   "outputs": [
    {
     "data": {
      "text/plain": [
       "dict"
      ]
     },
     "execution_count": 3,
     "metadata": {},
     "output_type": "execute_result"
    }
   ],
   "source": [
    "type(d)"
   ]
  },
  {
   "cell_type": "code",
   "execution_count": 4,
   "id": "2252e3a1-7c9d-452b-a419-cac29e98f01b",
   "metadata": {},
   "outputs": [],
   "source": [
    "d1={\"name\" : \"sudh\",\"email_id\": \"aditya@gmail.com\", \"numbe\" : 2344444 }\n"
   ]
  },
  {
   "cell_type": "code",
   "execution_count": 5,
   "id": "98305a78-ee96-4481-9a76-65226e0065ca",
   "metadata": {},
   "outputs": [
    {
     "data": {
      "text/plain": [
       "dict"
      ]
     },
     "execution_count": 5,
     "metadata": {},
     "output_type": "execute_result"
    }
   ],
   "source": [
    "type(d1)"
   ]
  },
  {
   "cell_type": "code",
   "execution_count": 7,
   "id": "d3ce7f18-762e-498a-9de5-565fb46145bd",
   "metadata": {},
   "outputs": [
    {
     "data": {
      "text/plain": [
       "{'name': 'sudh', 'email_id': 'aditya@gmail.com', 'numbe': 2344444}"
      ]
     },
     "execution_count": 7,
     "metadata": {},
     "output_type": "execute_result"
    }
   ],
   "source": [
    "d1"
   ]
  },
  {
   "cell_type": "code",
   "execution_count": 8,
   "id": "57d8a018-fc82-4ec1-b3a5-eb1064ae45bb",
   "metadata": {},
   "outputs": [],
   "source": [
    "d2 = {\"name\": \"sudh\", \"name\":\"aditya\"}"
   ]
  },
  {
   "cell_type": "code",
   "execution_count": 9,
   "id": "19e4d60d-1b56-48aa-9ce5-7d9141d2b5d3",
   "metadata": {},
   "outputs": [
    {
     "data": {
      "text/plain": [
       "{'name': 'aditya'}"
      ]
     },
     "execution_count": 9,
     "metadata": {},
     "output_type": "execute_result"
    }
   ],
   "source": [
    "d2"
   ]
  },
  {
   "cell_type": "code",
   "execution_count": 13,
   "id": "cae62f63-677f-4b44-a0a2-cebe85b25c27",
   "metadata": {},
   "outputs": [],
   "source": [
    "d3 = {234444: \"abc\"}"
   ]
  },
  {
   "cell_type": "code",
   "execution_count": 14,
   "id": "35336752-4f17-4a59-8650-b95c828726b5",
   "metadata": {},
   "outputs": [
    {
     "data": {
      "text/plain": [
       "{234444: 'abc'}"
      ]
     },
     "execution_count": 14,
     "metadata": {},
     "output_type": "execute_result"
    }
   ],
   "source": [
    "d3"
   ]
  },
  {
   "cell_type": "code",
   "execution_count": 15,
   "id": "84522f8c-41bb-4d3c-818b-707ecad590dc",
   "metadata": {},
   "outputs": [],
   "source": [
    "d4 = {234.45 : \"abc\"}"
   ]
  },
  {
   "cell_type": "code",
   "execution_count": 16,
   "id": "0a13fc26-6f35-48f4-bbab-f759fe207811",
   "metadata": {},
   "outputs": [
    {
     "data": {
      "text/plain": [
       "{234.45: 'abc'}"
      ]
     },
     "execution_count": 16,
     "metadata": {},
     "output_type": "execute_result"
    }
   ],
   "source": [
    "d4"
   ]
  },
  {
   "cell_type": "code",
   "execution_count": 17,
   "id": "50e8afa8-bed3-4304-91a7-fc2c6798bd04",
   "metadata": {},
   "outputs": [],
   "source": [
    "d5 = { True :\"abc\"}"
   ]
  },
  {
   "cell_type": "code",
   "execution_count": 18,
   "id": "b81a6b20-51db-4364-a04a-fe3b47f560b9",
   "metadata": {},
   "outputs": [
    {
     "data": {
      "text/plain": [
       "{True: 'abc'}"
      ]
     },
     "execution_count": 18,
     "metadata": {},
     "output_type": "execute_result"
    }
   ],
   "source": [
    "d5\n"
   ]
  },
  {
   "cell_type": "code",
   "execution_count": 19,
   "id": "83675a2a-ad83-44e5-833e-5388f27a9c50",
   "metadata": {},
   "outputs": [
    {
     "ename": "SyntaxError",
     "evalue": "incomplete input (36680248.py, line 1)",
     "output_type": "error",
     "traceback": [
      "\u001b[0;36m  Cell \u001b[0;32mIn[19], line 1\u001b[0;36m\u001b[0m\n\u001b[0;31m    d6 = {# : \"abc\"}\u001b[0m\n\u001b[0m                    ^\u001b[0m\n\u001b[0;31mSyntaxError\u001b[0m\u001b[0;31m:\u001b[0m incomplete input\n"
     ]
    }
   ],
   "source": [
    "d6 = {# : \"abc\"}"
   ]
  },
  {
   "cell_type": "code",
   "execution_count": 20,
   "id": "480385e2-c2ed-4201-8aa3-6f728dd56564",
   "metadata": {},
   "outputs": [
    {
     "ename": "SyntaxError",
     "evalue": "invalid syntax (406242393.py, line 1)",
     "output_type": "error",
     "traceback": [
      "\u001b[0;36m  Cell \u001b[0;32mIn[20], line 1\u001b[0;36m\u001b[0m\n\u001b[0;31m    d7 ={@:\"abc\"}\u001b[0m\n\u001b[0m         ^\u001b[0m\n\u001b[0;31mSyntaxError\u001b[0m\u001b[0;31m:\u001b[0m invalid syntax\n"
     ]
    }
   ],
   "source": [
    "d7 ={@:\"abc\"}"
   ]
  },
  {
   "cell_type": "code",
   "execution_count": 21,
   "id": "c930cb70-922a-4a54-8116-5e22819dd61f",
   "metadata": {},
   "outputs": [
    {
     "ename": "SyntaxError",
     "evalue": "invalid syntax (1994464921.py, line 1)",
     "output_type": "error",
     "traceback": [
      "\u001b[0;36m  Cell \u001b[0;32mIn[21], line 1\u001b[0;36m\u001b[0m\n\u001b[0;31m    d8 = {[1,,2,3]:\"abc\"}\u001b[0m\n\u001b[0m             ^\u001b[0m\n\u001b[0;31mSyntaxError\u001b[0m\u001b[0;31m:\u001b[0m invalid syntax\n"
     ]
    }
   ],
   "source": [
    "d8 = {[1,,2,3]:\"abc\"}"
   ]
  },
  {
   "cell_type": "code",
   "execution_count": 22,
   "id": "770481c3-7333-4316-9ef5-29cfb0b937c3",
   "metadata": {},
   "outputs": [],
   "source": [
    "d9= {(1,2,3) : \"abc\"}"
   ]
  },
  {
   "cell_type": "code",
   "execution_count": 23,
   "id": "2380b159-5d88-4d1a-ab60-e7094f894246",
   "metadata": {},
   "outputs": [
    {
     "data": {
      "text/plain": [
       "{(1, 2, 3): 'abc'}"
      ]
     },
     "execution_count": 23,
     "metadata": {},
     "output_type": "execute_result"
    }
   ],
   "source": [
    "d9"
   ]
  },
  {
   "cell_type": "code",
   "execution_count": 24,
   "id": "0960089c-bf28-497d-a4cf-c1c9e0c19bbd",
   "metadata": {},
   "outputs": [
    {
     "ename": "TypeError",
     "evalue": "unhashable type: 'set'",
     "output_type": "error",
     "traceback": [
      "\u001b[0;31m---------------------------------------------------------------------------\u001b[0m",
      "\u001b[0;31mTypeError\u001b[0m                                 Traceback (most recent call last)",
      "Cell \u001b[0;32mIn[24], line 1\u001b[0m\n\u001b[0;32m----> 1\u001b[0m d10 \u001b[38;5;241m=\u001b[39m {{\u001b[38;5;241m1\u001b[39m,\u001b[38;5;241m2\u001b[39m,\u001b[38;5;241m3\u001b[39m,} : \u001b[38;5;124m\"\u001b[39m\u001b[38;5;124mabc\u001b[39m\u001b[38;5;124m\"\u001b[39m}\n",
      "\u001b[0;31mTypeError\u001b[0m: unhashable type: 'set'"
     ]
    }
   ],
   "source": [
    "d10 = {{1,2,3,} : \"abc\"}"
   ]
  },
  {
   "cell_type": "code",
   "execution_count": 25,
   "id": "cc574e76-31dc-4d26-bd8b-50d1b2a84096",
   "metadata": {},
   "outputs": [
    {
     "ename": "TypeError",
     "evalue": "unhashable type: 'dict'",
     "output_type": "error",
     "traceback": [
      "\u001b[0;31m---------------------------------------------------------------------------\u001b[0m",
      "\u001b[0;31mTypeError\u001b[0m                                 Traceback (most recent call last)",
      "Cell \u001b[0;32mIn[25], line 1\u001b[0m\n\u001b[0;32m----> 1\u001b[0m d11 \u001b[38;5;241m=\u001b[39m {{\u001b[38;5;124m\"\u001b[39m\u001b[38;5;124mkry\u001b[39m\u001b[38;5;124m\"\u001b[39m:\u001b[38;5;241m234\u001b[39m} : \u001b[38;5;124m\"\u001b[39m\u001b[38;5;124mabd\u001b[39m\u001b[38;5;124m\"\u001b[39m}\n",
      "\u001b[0;31mTypeError\u001b[0m: unhashable type: 'dict'"
     ]
    }
   ],
   "source": [
    "d11 = {{\"kry\":234} : \"abd\"}"
   ]
  },
  {
   "cell_type": "code",
   "execution_count": 27,
   "id": "39da9f6e-fd37-4f5d-b6a2-edf8055edba6",
   "metadata": {},
   "outputs": [],
   "source": [
    "d12 = {\"course_name\" : [ \"data science master \", \"web dev\" ,\"java with dsa and system Design\"]}"
   ]
  },
  {
   "cell_type": "code",
   "execution_count": 28,
   "id": "149699ab-0295-4d52-9242-da6f9944953d",
   "metadata": {},
   "outputs": [
    {
     "data": {
      "text/plain": [
       "{'course_name': ['data science master ',\n",
       "  'web dev',\n",
       "  'java with dsa and system Design']}"
      ]
     },
     "execution_count": 28,
     "metadata": {},
     "output_type": "execute_result"
    }
   ],
   "source": [
    "d12"
   ]
  },
  {
   "cell_type": "code",
   "execution_count": 29,
   "id": "61ea808a-61c0-4ba8-8389-9ee3554a4a82",
   "metadata": {},
   "outputs": [
    {
     "data": {
      "text/plain": [
       "dict"
      ]
     },
     "execution_count": 29,
     "metadata": {},
     "output_type": "execute_result"
    }
   ],
   "source": [
    "type(d12)"
   ]
  },
  {
   "cell_type": "code",
   "execution_count": 30,
   "id": "72c156f7-9a02-4bcc-8545-fe824a9ac6f5",
   "metadata": {},
   "outputs": [],
   "source": [
    "d13 ={\"key\" : (1,2,3,4,5)}"
   ]
  },
  {
   "cell_type": "code",
   "execution_count": 31,
   "id": "4b78defa-3698-4288-92a9-5ddcfd55b146",
   "metadata": {},
   "outputs": [],
   "source": [
    "d14 = {\"key\" : {1,2,3,4}}"
   ]
  },
  {
   "cell_type": "code",
   "execution_count": 32,
   "id": "3ec39bf1-54b7-4c38-b3e6-d9e4ed0f1634",
   "metadata": {},
   "outputs": [],
   "source": [
    "d15 = {\"key\" : {\"name\": \"Aditya\",\"class\" : \"DSM\"}} "
   ]
  },
  {
   "cell_type": "code",
   "execution_count": 33,
   "id": "4a38b627-5afc-4272-8c56-06ddd19d892c",
   "metadata": {},
   "outputs": [
    {
     "data": {
      "text/plain": [
       "{'key': {'name': 'Aditya', 'class': 'DSM'}}"
      ]
     },
     "execution_count": 33,
     "metadata": {},
     "output_type": "execute_result"
    }
   ],
   "source": [
    "d15"
   ]
  },
  {
   "cell_type": "code",
   "execution_count": 36,
   "id": "88519628-df44-4aa0-8df8-5b3823623c42",
   "metadata": {},
   "outputs": [],
   "source": [
    "d16 = {\"batch_name\" :[\"data science master\" , \"web dev\", \"jsd\"] , \"start_date\": (28,14,21) , \"mentor_name\" : {\"krish naik\", \"shudhanshu\" }}"
   ]
  },
  {
   "cell_type": "code",
   "execution_count": 37,
   "id": "b32e05be-6b79-457d-9d37-ae0162aef998",
   "metadata": {},
   "outputs": [
    {
     "data": {
      "text/plain": [
       "{'batch_name': ['data science master', 'web dev', 'jsd'],\n",
       " 'start_date': (28, 14, 21),\n",
       " 'mentor_name': {'krish naik', 'shudhanshu'}}"
      ]
     },
     "execution_count": 37,
     "metadata": {},
     "output_type": "execute_result"
    }
   ],
   "source": [
    "d16"
   ]
  },
  {
   "cell_type": "code",
   "execution_count": 38,
   "id": "10dc6b1f-6639-4e50-97a3-26784491ddd9",
   "metadata": {},
   "outputs": [],
   "source": [
    "d16[\"timing\"] = (8,8,8)"
   ]
  },
  {
   "cell_type": "code",
   "execution_count": 39,
   "id": "275d650d-922a-4e7f-9c91-b2a986ed128e",
   "metadata": {},
   "outputs": [
    {
     "data": {
      "text/plain": [
       "{'batch_name': ['data science master', 'web dev', 'jsd'],\n",
       " 'start_date': (28, 14, 21),\n",
       " 'mentor_name': {'krish naik', 'shudhanshu'},\n",
       " 'timing': (8, 8, 8)}"
      ]
     },
     "execution_count": 39,
     "metadata": {},
     "output_type": "execute_result"
    }
   ],
   "source": [
    "d16"
   ]
  },
  {
   "cell_type": "code",
   "execution_count": 41,
   "id": "d2620a2b-f7e2-4853-9488-9b4d1c1977d9",
   "metadata": {},
   "outputs": [
    {
     "data": {
      "text/plain": [
       "['data science master', 'web dev', 'jsd']"
      ]
     },
     "execution_count": 41,
     "metadata": {},
     "output_type": "execute_result"
    }
   ],
   "source": [
    "d16[\"batch_name\"]"
   ]
  },
  {
   "cell_type": "code",
   "execution_count": 42,
   "id": "d4f6c0b5-8ca3-4c3d-9c95-e64e808e57ef",
   "metadata": {},
   "outputs": [
    {
     "data": {
      "text/plain": [
       "{'krish naik', 'shudhanshu'}"
      ]
     },
     "execution_count": 42,
     "metadata": {},
     "output_type": "execute_result"
    }
   ],
   "source": [
    "d16[\"mentor_name\"]"
   ]
  },
  {
   "cell_type": "code",
   "execution_count": 43,
   "id": "f2917b12-e4a9-4816-8bd6-6029aa840f53",
   "metadata": {},
   "outputs": [
    {
     "ename": "KeyError",
     "evalue": "'key'",
     "output_type": "error",
     "traceback": [
      "\u001b[0;31m---------------------------------------------------------------------------\u001b[0m",
      "\u001b[0;31mKeyError\u001b[0m                                  Traceback (most recent call last)",
      "Cell \u001b[0;32mIn[43], line 1\u001b[0m\n\u001b[0;32m----> 1\u001b[0m \u001b[43md16\u001b[49m\u001b[43m[\u001b[49m\u001b[38;5;124;43m\"\u001b[39;49m\u001b[38;5;124;43mkey\u001b[39;49m\u001b[38;5;124;43m\"\u001b[39;49m\u001b[43m]\u001b[49m\n",
      "\u001b[0;31mKeyError\u001b[0m: 'key'"
     ]
    }
   ],
   "source": [
    "d16[\"key\"]"
   ]
  },
  {
   "cell_type": "code",
   "execution_count": 44,
   "id": "eff2576e-f5b6-4278-a432-37da66059c08",
   "metadata": {},
   "outputs": [],
   "source": [
    "d16[\"name\"]= \"Aditya\""
   ]
  },
  {
   "cell_type": "code",
   "execution_count": 45,
   "id": "6b3187cc-11ff-4237-a0dc-14e5a1e4536f",
   "metadata": {},
   "outputs": [
    {
     "data": {
      "text/plain": [
       "{'batch_name': ['data science master', 'web dev', 'jsd'],\n",
       " 'start_date': (28, 14, 21),\n",
       " 'mentor_name': {'krish naik', 'shudhanshu'},\n",
       " 'timing': (8, 8, 8),\n",
       " 'name': 'Aditya'}"
      ]
     },
     "execution_count": 45,
     "metadata": {},
     "output_type": "execute_result"
    }
   ],
   "source": [
    "d16"
   ]
  },
  {
   "cell_type": "code",
   "execution_count": 47,
   "id": "364e228a-fa1c-4a29-9d3b-1a17170af722",
   "metadata": {},
   "outputs": [
    {
     "data": {
      "text/plain": [
       "'ADITYA'"
      ]
     },
     "execution_count": 47,
     "metadata": {},
     "output_type": "execute_result"
    }
   ],
   "source": [
    "d16[\"name\"].upper()"
   ]
  },
  {
   "cell_type": "code",
   "execution_count": 48,
   "id": "16dea25f-7a83-438b-b815-9741f26d5977",
   "metadata": {},
   "outputs": [
    {
     "data": {
      "text/plain": [
       "{'key': {'name': 'Aditya', 'class': 'DSM'}}"
      ]
     },
     "execution_count": 48,
     "metadata": {},
     "output_type": "execute_result"
    }
   ],
   "source": [
    "d15"
   ]
  },
  {
   "cell_type": "code",
   "execution_count": 49,
   "id": "bf8cec3c-95ec-49e9-bb4c-d3826187dc48",
   "metadata": {},
   "outputs": [
    {
     "data": {
      "text/plain": [
       "{'name': 'Aditya', 'class': 'DSM'}"
      ]
     },
     "execution_count": 49,
     "metadata": {},
     "output_type": "execute_result"
    }
   ],
   "source": [
    "d15[\"key\"]"
   ]
  },
  {
   "cell_type": "code",
   "execution_count": 52,
   "id": "c7e1e319-f962-43d0-a8e2-88f6faf753e6",
   "metadata": {},
   "outputs": [
    {
     "data": {
      "text/plain": [
       "dict"
      ]
     },
     "execution_count": 52,
     "metadata": {},
     "output_type": "execute_result"
    }
   ],
   "source": [
    "type(d15 [\"key\"])"
   ]
  },
  {
   "cell_type": "code",
   "execution_count": 53,
   "id": "9ab49d70-ee3d-46df-93dc-1ca0e8f91a6f",
   "metadata": {},
   "outputs": [
    {
     "data": {
      "text/plain": [
       "'DSM'"
      ]
     },
     "execution_count": 53,
     "metadata": {},
     "output_type": "execute_result"
    }
   ],
   "source": [
    "d15 [\"key\"][\"class\"]"
   ]
  },
  {
   "cell_type": "code",
   "execution_count": 54,
   "id": "2f9c85ed-1334-4eb1-a806-3782d6241b2c",
   "metadata": {},
   "outputs": [
    {
     "data": {
      "text/plain": [
       "{'key': {'name': 'Aditya', 'class': 'DSM'}}"
      ]
     },
     "execution_count": 54,
     "metadata": {},
     "output_type": "execute_result"
    }
   ],
   "source": [
    "d15"
   ]
  },
  {
   "cell_type": "code",
   "execution_count": 55,
   "id": "d182c7eb-9421-45ea-acf1-abd6b434fcd1",
   "metadata": {},
   "outputs": [],
   "source": [
    "d15[\"key1\"] = \"abd\""
   ]
  },
  {
   "cell_type": "code",
   "execution_count": 56,
   "id": "8e58d175-9660-4351-944a-3d34869cc5cf",
   "metadata": {},
   "outputs": [
    {
     "data": {
      "text/plain": [
       "{'key': {'name': 'Aditya', 'class': 'DSM'}, 'key1': 'abd'}"
      ]
     },
     "execution_count": 56,
     "metadata": {},
     "output_type": "execute_result"
    }
   ],
   "source": [
    "d15"
   ]
  },
  {
   "cell_type": "code",
   "execution_count": 58,
   "id": "68c8d485-f268-4304-a03b-98487d00dc46",
   "metadata": {},
   "outputs": [],
   "source": [
    "del d15[\"key1\"]"
   ]
  },
  {
   "cell_type": "code",
   "execution_count": 59,
   "id": "89f48105-bd80-47c6-8d1e-b8f94c3eeaeb",
   "metadata": {},
   "outputs": [
    {
     "data": {
      "text/plain": [
       "{'key': {'name': 'Aditya', 'class': 'DSM'}}"
      ]
     },
     "execution_count": 59,
     "metadata": {},
     "output_type": "execute_result"
    }
   ],
   "source": [
    "d15"
   ]
  },
  {
   "cell_type": "code",
   "execution_count": 60,
   "id": "713d8a8a-5c38-41ae-aaca-af645fb34afb",
   "metadata": {},
   "outputs": [],
   "source": [
    "d15.clear()"
   ]
  },
  {
   "cell_type": "code",
   "execution_count": 61,
   "id": "06d12ca9-9103-4a89-b5b1-d1d20e135878",
   "metadata": {},
   "outputs": [
    {
     "data": {
      "text/plain": [
       "{}"
      ]
     },
     "execution_count": 61,
     "metadata": {},
     "output_type": "execute_result"
    }
   ],
   "source": [
    "d15"
   ]
  },
  {
   "cell_type": "code",
   "execution_count": 62,
   "id": "66f1e7e2-bc62-4576-9430-8386fc3f204e",
   "metadata": {},
   "outputs": [
    {
     "data": {
      "text/plain": [
       "5"
      ]
     },
     "execution_count": 62,
     "metadata": {},
     "output_type": "execute_result"
    }
   ],
   "source": [
    "len(d16)"
   ]
  },
  {
   "cell_type": "code",
   "execution_count": 63,
   "id": "8eb166af-2c10-44ba-9d7b-80c94b95e310",
   "metadata": {},
   "outputs": [
    {
     "data": {
      "text/plain": [
       "{'batch_name': ['data science master', 'web dev', 'jsd'],\n",
       " 'start_date': (28, 14, 21),\n",
       " 'mentor_name': {'krish naik', 'shudhanshu'},\n",
       " 'timing': (8, 8, 8),\n",
       " 'name': 'Aditya'}"
      ]
     },
     "execution_count": 63,
     "metadata": {},
     "output_type": "execute_result"
    }
   ],
   "source": [
    "d16"
   ]
  },
  {
   "cell_type": "code",
   "execution_count": 64,
   "id": "911d1af9-073c-42b6-ba0f-db9844696edf",
   "metadata": {},
   "outputs": [
    {
     "data": {
      "text/plain": [
       "dict_keys(['batch_name', 'start_date', 'mentor_name', 'timing', 'name'])"
      ]
     },
     "execution_count": 64,
     "metadata": {},
     "output_type": "execute_result"
    }
   ],
   "source": [
    "d16.keys()"
   ]
  },
  {
   "cell_type": "code",
   "execution_count": 65,
   "id": "23dd99ec-6b9e-4524-a51f-5201b56ca52d",
   "metadata": {},
   "outputs": [
    {
     "data": {
      "text/plain": [
       "dict_values([['data science master', 'web dev', 'jsd'], (28, 14, 21), {'shudhanshu', 'krish naik'}, (8, 8, 8), 'Aditya'])"
      ]
     },
     "execution_count": 65,
     "metadata": {},
     "output_type": "execute_result"
    }
   ],
   "source": [
    "d16.values()"
   ]
  },
  {
   "cell_type": "code",
   "execution_count": 66,
   "id": "2a377563-64c6-461b-a3d9-b1d39c39c082",
   "metadata": {},
   "outputs": [
    {
     "data": {
      "text/plain": [
       "[['data science master', 'web dev', 'jsd'],\n",
       " (28, 14, 21),\n",
       " {'krish naik', 'shudhanshu'},\n",
       " (8, 8, 8),\n",
       " 'Aditya']"
      ]
     },
     "execution_count": 66,
     "metadata": {},
     "output_type": "execute_result"
    }
   ],
   "source": [
    "list(d16.values())"
   ]
  },
  {
   "cell_type": "code",
   "execution_count": 67,
   "id": "1a1db04f-860f-4d14-aa0a-6360750e4f6c",
   "metadata": {},
   "outputs": [
    {
     "data": {
      "text/plain": [
       "['batch_name', 'start_date', 'mentor_name', 'timing', 'name']"
      ]
     },
     "execution_count": 67,
     "metadata": {},
     "output_type": "execute_result"
    }
   ],
   "source": [
    "list(d16.keys())"
   ]
  },
  {
   "cell_type": "code",
   "execution_count": 70,
   "id": "516f7dfd-0305-4b04-b48a-5ae02897da6d",
   "metadata": {},
   "outputs": [
    {
     "data": {
      "text/plain": [
       "[('batch_name', ['data science master', 'web dev', 'jsd']),\n",
       " ('start_date', (28, 14, 21)),\n",
       " ('mentor_name', {'krish naik', 'shudhanshu'}),\n",
       " ('timing', (8, 8, 8)),\n",
       " ('name', 'Aditya')]"
      ]
     },
     "execution_count": 70,
     "metadata": {},
     "output_type": "execute_result"
    }
   ],
   "source": [
    "list(d16.items())"
   ]
  },
  {
   "cell_type": "code",
   "execution_count": 71,
   "id": "53878216-c71b-40ed-a8ec-a78e217f0bc4",
   "metadata": {},
   "outputs": [
    {
     "data": {
      "text/plain": [
       "{'batch_name': ['data science master', 'web dev', 'jsd'],\n",
       " 'start_date': (28, 14, 21),\n",
       " 'mentor_name': {'krish naik', 'shudhanshu'},\n",
       " 'timing': (8, 8, 8),\n",
       " 'name': 'Aditya'}"
      ]
     },
     "execution_count": 71,
     "metadata": {},
     "output_type": "execute_result"
    }
   ],
   "source": [
    "d16"
   ]
  },
  {
   "cell_type": "code",
   "execution_count": 72,
   "id": "af27ab88-2495-4875-8508-0546a5bf07b6",
   "metadata": {},
   "outputs": [],
   "source": [
    "d17 = d16.copy()"
   ]
  },
  {
   "cell_type": "code",
   "execution_count": 73,
   "id": "f89bcb08-59ff-4078-b56f-6c87b7a73946",
   "metadata": {},
   "outputs": [
    {
     "data": {
      "text/plain": [
       "{'batch_name': ['data science master', 'web dev', 'jsd'],\n",
       " 'start_date': (28, 14, 21),\n",
       " 'mentor_name': {'krish naik', 'shudhanshu'},\n",
       " 'timing': (8, 8, 8),\n",
       " 'name': 'Aditya'}"
      ]
     },
     "execution_count": 73,
     "metadata": {},
     "output_type": "execute_result"
    }
   ],
   "source": [
    "d17"
   ]
  },
  {
   "cell_type": "code",
   "execution_count": 76,
   "id": "57354096-8ebd-4b30-b49a-da1ceb928781",
   "metadata": {},
   "outputs": [],
   "source": [
    "del d16[\"name\"]"
   ]
  },
  {
   "cell_type": "code",
   "execution_count": 80,
   "id": "dacd5948-42a7-48d5-b8e4-c9a6640b4ac6",
   "metadata": {},
   "outputs": [
    {
     "data": {
      "text/plain": [
       "{'batch_name': ['data science master', 'web dev', 'jsd'],\n",
       " 'start_date': (28, 14, 21),\n",
       " 'mentor_name': {'krish naik', 'shudhanshu'},\n",
       " 'timing': (8, 8, 8)}"
      ]
     },
     "execution_count": 80,
     "metadata": {},
     "output_type": "execute_result"
    }
   ],
   "source": [
    "d16"
   ]
  },
  {
   "cell_type": "code",
   "execution_count": 81,
   "id": "72f3739b-2c18-49dd-bdb8-f902488c7e5c",
   "metadata": {},
   "outputs": [
    {
     "data": {
      "text/plain": [
       "{'batch_name': ['data science master', 'web dev', 'jsd'],\n",
       " 'start_date': (28, 14, 21),\n",
       " 'mentor_name': {'krish naik', 'shudhanshu'},\n",
       " 'timing': (8, 8, 8),\n",
       " 'name': 'Aditya'}"
      ]
     },
     "execution_count": 81,
     "metadata": {},
     "output_type": "execute_result"
    }
   ],
   "source": [
    "d17"
   ]
  },
  {
   "cell_type": "code",
   "execution_count": 82,
   "id": "c6cadeab-0b18-4be5-a207-7af53984aa99",
   "metadata": {},
   "outputs": [],
   "source": [
    "d18 = d16 "
   ]
  },
  {
   "cell_type": "code",
   "execution_count": 83,
   "id": "7c864cb2-5743-4fbb-a7f2-4b6508409168",
   "metadata": {},
   "outputs": [
    {
     "data": {
      "text/plain": [
       "{'batch_name': ['data science master', 'web dev', 'jsd'],\n",
       " 'start_date': (28, 14, 21),\n",
       " 'mentor_name': {'krish naik', 'shudhanshu'},\n",
       " 'timing': (8, 8, 8)}"
      ]
     },
     "execution_count": 83,
     "metadata": {},
     "output_type": "execute_result"
    }
   ],
   "source": [
    "d18"
   ]
  },
  {
   "cell_type": "code",
   "execution_count": 84,
   "id": "ec87baee-b572-4594-93c5-c1da9a383c8d",
   "metadata": {},
   "outputs": [
    {
     "data": {
      "text/plain": [
       "{'batch_name': ['data science master', 'web dev', 'jsd'],\n",
       " 'start_date': (28, 14, 21),\n",
       " 'mentor_name': {'krish naik', 'shudhanshu'},\n",
       " 'timing': (8, 8, 8)}"
      ]
     },
     "execution_count": 84,
     "metadata": {},
     "output_type": "execute_result"
    }
   ],
   "source": [
    "d16 "
   ]
  },
  {
   "cell_type": "code",
   "execution_count": 85,
   "id": "2a637430-1e92-4666-8cf9-8369eb13ae2b",
   "metadata": {},
   "outputs": [
    {
     "ename": "TypeError",
     "evalue": "pop expected at least 1 argument, got 0",
     "output_type": "error",
     "traceback": [
      "\u001b[0;31m---------------------------------------------------------------------------\u001b[0m",
      "\u001b[0;31mTypeError\u001b[0m                                 Traceback (most recent call last)",
      "Cell \u001b[0;32mIn[85], line 1\u001b[0m\n\u001b[0;32m----> 1\u001b[0m \u001b[43md16\u001b[49m\u001b[38;5;241;43m.\u001b[39;49m\u001b[43mpop\u001b[49m\u001b[43m(\u001b[49m\u001b[43m)\u001b[49m\n",
      "\u001b[0;31mTypeError\u001b[0m: pop expected at least 1 argument, got 0"
     ]
    }
   ],
   "source": [
    "d16.pop()"
   ]
  },
  {
   "cell_type": "code",
   "execution_count": 86,
   "id": "040b7569-7019-4645-aa17-335e8b390c1b",
   "metadata": {},
   "outputs": [
    {
     "data": {
      "text/plain": [
       "(8, 8, 8)"
      ]
     },
     "execution_count": 86,
     "metadata": {},
     "output_type": "execute_result"
    }
   ],
   "source": [
    "d16.pop(\"timing\")"
   ]
  },
  {
   "cell_type": "code",
   "execution_count": 87,
   "id": "86d218f2-abca-4c83-8c16-3fb2ac7f8c4d",
   "metadata": {},
   "outputs": [
    {
     "data": {
      "text/plain": [
       "{'batch_name': ['data science master', 'web dev', 'jsd'],\n",
       " 'start_date': (28, 14, 21),\n",
       " 'mentor_name': {'krish naik', 'shudhanshu'}}"
      ]
     },
     "execution_count": 87,
     "metadata": {},
     "output_type": "execute_result"
    }
   ],
   "source": [
    "d16"
   ]
  },
  {
   "cell_type": "code",
   "execution_count": 88,
   "id": "00965f7c-a68e-423b-ba68-7d5b230106b1",
   "metadata": {},
   "outputs": [
    {
     "data": {
      "text/plain": [
       "{'krish naik', 'shudhanshu'}"
      ]
     },
     "execution_count": 88,
     "metadata": {},
     "output_type": "execute_result"
    }
   ],
   "source": [
    "d16.pop(\"mentor_name\")"
   ]
  },
  {
   "cell_type": "code",
   "execution_count": 89,
   "id": "5f2e6ce6-412f-4a0e-a56a-1b52bd944a91",
   "metadata": {},
   "outputs": [
    {
     "data": {
      "text/plain": [
       "{'batch_name': ['data science master', 'web dev', 'jsd'],\n",
       " 'start_date': (28, 14, 21)}"
      ]
     },
     "execution_count": 89,
     "metadata": {},
     "output_type": "execute_result"
    }
   ],
   "source": [
    "d16"
   ]
  },
  {
   "cell_type": "code",
   "execution_count": 90,
   "id": "ce028aa2-74fc-4c2b-a460-67d178325f83",
   "metadata": {},
   "outputs": [
    {
     "data": {
      "text/plain": [
       "{1: ('a', 'b', 'c'), 2: ('a', 'b', 'c'), 3: ('a', 'b', 'c')}"
      ]
     },
     "execution_count": 90,
     "metadata": {},
     "output_type": "execute_result"
    }
   ],
   "source": [
    "d.fromkeys((1,2,3),('a','b','c'))"
   ]
  },
  {
   "cell_type": "code",
   "execution_count": 91,
   "id": "aa0f444c-9a86-4609-80f5-2d31b13f3005",
   "metadata": {},
   "outputs": [],
   "source": [
    "d19 ={\"key1\" : \"value\",\"key2\" : \"value2\"}\n",
    "d20 ={\"key3\" : \"value3\",\"key4\" : \"value4\"}"
   ]
  },
  {
   "cell_type": "code",
   "execution_count": 92,
   "id": "412ddb0a-4121-4d75-b8a6-52a4156941db",
   "metadata": {},
   "outputs": [
    {
     "data": {
      "text/plain": [
       "({'key1': 'value', 'key2': 'value2'}, {'key3': 'value3', 'key4': 'value4'})"
      ]
     },
     "execution_count": 92,
     "metadata": {},
     "output_type": "execute_result"
    }
   ],
   "source": [
    "(d19,d20)"
   ]
  },
  {
   "cell_type": "code",
   "execution_count": 93,
   "id": "52e79383-4e97-4e74-87a2-42da92603b1b",
   "metadata": {},
   "outputs": [],
   "source": [
    "d19.update(d20)"
   ]
  },
  {
   "cell_type": "code",
   "execution_count": 94,
   "id": "3333dfaa-b0fd-498c-ba73-be5a68821120",
   "metadata": {},
   "outputs": [
    {
     "data": {
      "text/plain": [
       "{'key1': 'value', 'key2': 'value2', 'key3': 'value3', 'key4': 'value4'}"
      ]
     },
     "execution_count": 94,
     "metadata": {},
     "output_type": "execute_result"
    }
   ],
   "source": [
    "d19"
   ]
  },
  {
   "cell_type": "code",
   "execution_count": 95,
   "id": "abbc68b7-55d4-45ee-854d-5050d949fc55",
   "metadata": {},
   "outputs": [
    {
     "data": {
      "text/plain": [
       "{'key3': 'value3', 'key4': 'value4'}"
      ]
     },
     "execution_count": 95,
     "metadata": {},
     "output_type": "execute_result"
    }
   ],
   "source": [
    "d20"
   ]
  },
  {
   "cell_type": "code",
   "execution_count": 96,
   "id": "86cdc072-9ad4-444d-9dcd-d72a955b9789",
   "metadata": {},
   "outputs": [],
   "source": [
    "d20.update(d19)"
   ]
  },
  {
   "cell_type": "code",
   "execution_count": 97,
   "id": "73a53a26-133e-4f4a-9407-a72223937ac7",
   "metadata": {},
   "outputs": [
    {
     "data": {
      "text/plain": [
       "{'key3': 'value3', 'key4': 'value4', 'key1': 'value', 'key2': 'value2'}"
      ]
     },
     "execution_count": 97,
     "metadata": {},
     "output_type": "execute_result"
    }
   ],
   "source": [
    "d20"
   ]
  },
  {
   "cell_type": "code",
   "execution_count": 98,
   "id": "b76835c8-3958-42d3-9b68-bf8ae318ab21",
   "metadata": {},
   "outputs": [],
   "source": [
    "d20.get(\"sudh\")"
   ]
  },
  {
   "cell_type": "code",
   "execution_count": 100,
   "id": "2050550b-7733-4422-b616-ada6239aff50",
   "metadata": {},
   "outputs": [
    {
     "data": {
      "text/plain": [
       "'value3'"
      ]
     },
     "execution_count": 100,
     "metadata": {},
     "output_type": "execute_result"
    }
   ],
   "source": [
    "d20.get(\"key3\")"
   ]
  },
  {
   "cell_type": "code",
   "execution_count": 101,
   "id": "afcfc6a5-08e7-4356-918c-17ea69844f42",
   "metadata": {},
   "outputs": [
    {
     "ename": "KeyError",
     "evalue": "'sudh'",
     "output_type": "error",
     "traceback": [
      "\u001b[0;31m---------------------------------------------------------------------------\u001b[0m",
      "\u001b[0;31mKeyError\u001b[0m                                  Traceback (most recent call last)",
      "Cell \u001b[0;32mIn[101], line 1\u001b[0m\n\u001b[0;32m----> 1\u001b[0m \u001b[43md20\u001b[49m\u001b[43m[\u001b[49m\u001b[38;5;124;43m\"\u001b[39;49m\u001b[38;5;124;43msudh\u001b[39;49m\u001b[38;5;124;43m\"\u001b[39;49m\u001b[43m]\u001b[49m\n",
      "\u001b[0;31mKeyError\u001b[0m: 'sudh'"
     ]
    }
   ],
   "source": [
    "d20[\"sudh\"]"
   ]
  },
  {
   "cell_type": "markdown",
   "id": "a9749002-f8a4-4d7f-975a-1e590b4200be",
   "metadata": {},
   "source": [
    "##### Dictonary Comprehensions"
   ]
  },
  {
   "cell_type": "code",
   "execution_count": 102,
   "id": "2a8c858f-f057-46bd-a85d-23ef20a39d99",
   "metadata": {},
   "outputs": [
    {
     "data": {
      "text/plain": [
       "{1: 1, 2: 4, 3: 9, 4: 16, 5: 25, 6: 36, 7: 49, 8: 64, 9: 81, 10: 100}"
      ]
     },
     "execution_count": 102,
     "metadata": {},
     "output_type": "execute_result"
    }
   ],
   "source": [
    "{i : i**2 for i in range(1,11)}"
   ]
  },
  {
   "cell_type": "code",
   "execution_count": 103,
   "id": "12e5ed78-04e7-441a-a1d6-5a8901057a6f",
   "metadata": {},
   "outputs": [
    {
     "data": {
      "text/plain": [
       "[1, 2, 3, 4, 5, 6, 7, 8, 9, 10]"
      ]
     },
     "execution_count": 103,
     "metadata": {},
     "output_type": "execute_result"
    }
   ],
   "source": [
    "list(range (1,11))"
   ]
  },
  {
   "cell_type": "code",
   "execution_count": 104,
   "id": "18bb80e3-ae44-43b6-b756-bccba396380d",
   "metadata": {},
   "outputs": [
    {
     "data": {
      "text/plain": [
       "{1: 11, 2: 12, 3: 13, 4: 14, 5: 15, 6: 16, 7: 17, 8: 18, 9: 19, 10: 20}"
      ]
     },
     "execution_count": 104,
     "metadata": {},
     "output_type": "execute_result"
    }
   ],
   "source": [
    "{i : i+10 for i in range(1,11)}"
   ]
  },
  {
   "cell_type": "code",
   "execution_count": 111,
   "id": "33ce64e8-0cce-48b3-b8a3-94398ca2183d",
   "metadata": {},
   "outputs": [],
   "source": [
    "import math\n",
    "d21 ={i:math.log10(i)for i in range(1,11)}"
   ]
  },
  {
   "cell_type": "code",
   "execution_count": 108,
   "id": "cdd2b69d-e839-41a9-9577-d67276712c6e",
   "metadata": {},
   "outputs": [
    {
     "data": {
      "text/plain": [
       "{'batch_name': ['data science master', 'web dev', 'jsd'],\n",
       " 'start_date': (28, 14, 21)}"
      ]
     },
     "execution_count": 108,
     "metadata": {},
     "output_type": "execute_result"
    }
   ],
   "source": [
    "d16"
   ]
  },
  {
   "cell_type": "code",
   "execution_count": 109,
   "id": "c68ba4ed-0f47-407c-8392-54ee6c51af75",
   "metadata": {},
   "outputs": [
    {
     "data": {
      "text/plain": [
       "True"
      ]
     },
     "execution_count": 109,
     "metadata": {},
     "output_type": "execute_result"
    }
   ],
   "source": [
    "'batch_name' in d16"
   ]
  },
  {
   "cell_type": "code",
   "execution_count": 112,
   "id": "0200273b-169b-4dcf-93e5-2e6fe581631a",
   "metadata": {},
   "outputs": [
    {
     "data": {
      "text/plain": [
       "{1: 0.0,\n",
       " 2: 0.3010299956639812,\n",
       " 3: 0.47712125471966244,\n",
       " 4: 0.6020599913279624,\n",
       " 5: 0.6989700043360189,\n",
       " 6: 0.7781512503836436,\n",
       " 7: 0.8450980400142568,\n",
       " 8: 0.9030899869919435,\n",
       " 9: 0.9542425094393249,\n",
       " 10: 1.0}"
      ]
     },
     "execution_count": 112,
     "metadata": {},
     "output_type": "execute_result"
    }
   ],
   "source": [
    "d21"
   ]
  },
  {
   "cell_type": "code",
   "execution_count": 114,
   "id": "ee8fa2f3-78f4-43ad-9740-bf618d21677b",
   "metadata": {},
   "outputs": [
    {
     "data": {
      "text/plain": [
       "dict_keys([1, 2, 3, 4, 5, 6, 7, 8, 9, 10])"
      ]
     },
     "execution_count": 114,
     "metadata": {},
     "output_type": "execute_result"
    }
   ],
   "source": [
    "d21.keys()"
   ]
  },
  {
   "cell_type": "code",
   "execution_count": 115,
   "id": "5f550d76-d956-404e-8f39-2741f86edf75",
   "metadata": {},
   "outputs": [
    {
     "name": "stdout",
     "output_type": "stream",
     "text": [
      "0.3010299956639812\n",
      "0.6020599913279624\n",
      "0.7781512503836436\n",
      "0.9030899869919435\n",
      "1.0\n"
     ]
    }
   ],
   "source": [
    "for i in d21.keys():\n",
    "    if i%2==0 :\n",
    "        print(d21[i])"
   ]
  },
  {
   "cell_type": "code",
   "execution_count": null,
   "id": "57e96fbb-80e6-450a-9568-56c12eb81aea",
   "metadata": {},
   "outputs": [],
   "source": []
  }
 ],
 "metadata": {
  "kernelspec": {
   "display_name": "Python 3 (ipykernel)",
   "language": "python",
   "name": "python3"
  },
  "language_info": {
   "codemirror_mode": {
    "name": "ipython",
    "version": 3
   },
   "file_extension": ".py",
   "mimetype": "text/x-python",
   "name": "python",
   "nbconvert_exporter": "python",
   "pygments_lexer": "ipython3",
   "version": "3.10.8"
  }
 },
 "nbformat": 4,
 "nbformat_minor": 5
}
