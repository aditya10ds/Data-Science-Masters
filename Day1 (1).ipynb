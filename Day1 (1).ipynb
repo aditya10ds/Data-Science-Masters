{
 "cells": [
  {
   "cell_type": "code",
   "execution_count": 5,
   "id": "230d105f-306c-49d4-acaf-31cd7b54445a",
   "metadata": {},
   "outputs": [
    {
     "data": {
      "text/plain": [
       "2"
      ]
     },
     "execution_count": 5,
     "metadata": {},
     "output_type": "execute_result"
    }
   ],
   "source": [
    "1+1"
   ]
  },
  {
   "cell_type": "code",
   "execution_count": 6,
   "id": "74ba94f4-2ae9-4bd2-8b38-e9000a8a097a",
   "metadata": {},
   "outputs": [],
   "source": [
    "a=10"
   ]
  },
  {
   "cell_type": "code",
   "execution_count": 8,
   "id": "9ffa1678-2abe-4f33-b4a1-ed7ddd65b8b6",
   "metadata": {},
   "outputs": [
    {
     "data": {
      "text/plain": [
       "10"
      ]
     },
     "execution_count": 8,
     "metadata": {},
     "output_type": "execute_result"
    }
   ],
   "source": [
    "a"
   ]
  },
  {
   "cell_type": "code",
   "execution_count": 10,
   "id": "851005ea-78ef-42ca-bfe1-d7d0d768a350",
   "metadata": {},
   "outputs": [
    {
     "data": {
      "text/plain": [
       "10"
      ]
     },
     "execution_count": 10,
     "metadata": {},
     "output_type": "execute_result"
    }
   ],
   "source": [
    "##comments\n",
    "## for single we use ##\n",
    "## this is a function \n",
    "# this is a comment\n",
    "a=10\n",
    "a"
   ]
  },
  {
   "cell_type": "code",
   "execution_count": 12,
   "id": "e4539665-67eb-4eb0-9d31-b5ec582c3325",
   "metadata": {},
   "outputs": [
    {
     "data": {
      "text/plain": [
       "10"
      ]
     },
     "execution_count": 12,
     "metadata": {},
     "output_type": "execute_result"
    }
   ],
   "source": [
    "\"\"\" \n",
    "example of multiline comments \n",
    "hello this is example of python \n",
    "ddsgsagv\n",
    "vsahjsdjbd\n",
    "\"\"\"\n",
    "a=10\n",
    "a"
   ]
  },
  {
   "cell_type": "markdown",
   "id": "65dc57c1-991b-42f4-a3fe-06e879cb6e33",
   "metadata": {},
   "source": [
    "# hello \n",
    "## hello1\n",
    "### hello2\n",
    "\n",
    "1. hey how are you \n"
   ]
  },
  {
   "cell_type": "markdown",
   "id": "02f9996d-122e-41b8-8920-49727c6b40ef",
   "metadata": {},
   "source": [
    "## Numbers"
   ]
  },
  {
   "cell_type": "code",
   "execution_count": null,
   "id": "21cf3d08-a2e8-44e9-a1ef-29429e88c978",
   "metadata": {},
   "outputs": [],
   "source": [
    "#"
   ]
  },
  {
   "cell_type": "code",
   "execution_count": 1,
   "id": "2bc052a6-8d6e-4672-9f29-c34ab9c94fc2",
   "metadata": {
    "scrolled": true,
    "tags": []
   },
   "outputs": [
    {
     "data": {
      "text/plain": [
       "4"
      ]
     },
     "execution_count": 1,
     "metadata": {},
     "output_type": "execute_result"
    }
   ],
   "source": [
    "1+3"
   ]
  },
  {
   "cell_type": "code",
   "execution_count": 3,
   "id": "3f4c9934-6d84-4703-81fc-5bcf33d93506",
   "metadata": {},
   "outputs": [
    {
     "name": "stdout",
     "output_type": "stream",
     "text": [
      "4\n"
     ]
    }
   ],
   "source": [
    "print (1+3)"
   ]
  },
  {
   "cell_type": "code",
   "execution_count": 4,
   "id": "c8d2adbb-efe4-4ef7-b740-41961419f5db",
   "metadata": {},
   "outputs": [
    {
     "name": "stdout",
     "output_type": "stream",
     "text": [
      "5\n"
     ]
    }
   ],
   "source": [
    "a=5 \n",
    "print (a)"
   ]
  },
  {
   "cell_type": "code",
   "execution_count": 101,
   "id": "f61155ea-9773-43bc-9976-78e867b762cd",
   "metadata": {},
   "outputs": [
    {
     "name": "stdout",
     "output_type": "stream",
     "text": [
      "bhagat ji\n",
      "ki beti\n"
     ]
    }
   ],
   "source": [
    "print(\"bhagat ji\\nki beti\")"
   ]
  },
  {
   "cell_type": "code",
   "execution_count": 1,
   "id": "2e5805e2-3505-4bd9-8b80-7bf4e2585e01",
   "metadata": {},
   "outputs": [
    {
     "name": "stdout",
     "output_type": "stream",
     "text": [
      "hello world  \n",
      " my name is aditya kumar i am an Data Scientist\n"
     ]
    }
   ],
   "source": [
    "print(\"hello world  \\n my name is aditya kumar i am an Data Scientist\") "
   ]
  },
  {
   "cell_type": "markdown",
   "id": "3894d46c-5dba-496c-bbc7-3781f3f45c46",
   "metadata": {},
   "source": [
    "## Variables Assigments"
   ]
  },
  {
   "cell_type": "code",
   "execution_count": 13,
   "id": "3fd4d897-2a06-4b98-aec5-85ed225ba38f",
   "metadata": {},
   "outputs": [],
   "source": [
    "name= \"Aditya\"\n",
    "company=\"The Art Monks\""
   ]
  },
  {
   "cell_type": "code",
   "execution_count": 25,
   "id": "f6e2c30d-5a52-4341-a165-a2eb5b496f1c",
   "metadata": {},
   "outputs": [
    {
     "data": {
      "text/plain": [
       "str"
      ]
     },
     "execution_count": 25,
     "metadata": {},
     "output_type": "execute_result"
    }
   ],
   "source": [
    "type(\"\")"
   ]
  },
  {
   "cell_type": "code",
   "execution_count": 26,
   "id": "04a07894-8be1-4570-a452-573f0fbd0bf9",
   "metadata": {},
   "outputs": [
    {
     "data": {
      "text/plain": [
       "str"
      ]
     },
     "execution_count": 26,
     "metadata": {},
     "output_type": "execute_result"
    }
   ],
   "source": [
    "type(\"asdf\")"
   ]
  },
  {
   "cell_type": "code",
   "execution_count": 27,
   "id": "e00adec8-f9a7-49d8-92ac-bc447bc59139",
   "metadata": {},
   "outputs": [
    {
     "data": {
      "text/plain": [
       "str"
      ]
     },
     "execution_count": 27,
     "metadata": {},
     "output_type": "execute_result"
    }
   ],
   "source": [
    "type(name)"
   ]
  },
  {
   "cell_type": "code",
   "execution_count": 19,
   "id": "019d4b78-7980-491d-a19b-e786f2e1d5b4",
   "metadata": {},
   "outputs": [],
   "source": [
    "name=\"Eddy sly\""
   ]
  },
  {
   "cell_type": "code",
   "execution_count": 20,
   "id": "0780e766-37c0-4095-a569-d8ba2647e49a",
   "metadata": {},
   "outputs": [
    {
     "data": {
      "text/plain": [
       "'Eddy sly'"
      ]
     },
     "execution_count": 20,
     "metadata": {},
     "output_type": "execute_result"
    }
   ],
   "source": [
    "name "
   ]
  },
  {
   "cell_type": "code",
   "execution_count": 16,
   "id": "117655a5-7cd2-481f-9088-68dfe6ecb604",
   "metadata": {},
   "outputs": [
    {
     "data": {
      "text/plain": [
       "'The Art Monks'"
      ]
     },
     "execution_count": 16,
     "metadata": {},
     "output_type": "execute_result"
    }
   ],
   "source": [
    "company"
   ]
  },
  {
   "cell_type": "code",
   "execution_count": 17,
   "id": "8a4dedda-edc6-45e9-8949-ccfb31281389",
   "metadata": {},
   "outputs": [],
   "source": [
    "number=100\n"
   ]
  },
  {
   "cell_type": "code",
   "execution_count": 28,
   "id": "a8550036-bf19-4835-8c48-3514fa574d92",
   "metadata": {},
   "outputs": [
    {
     "data": {
      "text/plain": [
       "int"
      ]
     },
     "execution_count": 28,
     "metadata": {},
     "output_type": "execute_result"
    }
   ],
   "source": [
    "type(number)"
   ]
  },
  {
   "cell_type": "code",
   "execution_count": 21,
   "id": "57bf9369-1093-4f04-9e96-d9f530a89a0b",
   "metadata": {},
   "outputs": [],
   "source": [
    "number=30"
   ]
  },
  {
   "cell_type": "code",
   "execution_count": 22,
   "id": "b51495cd-c8ac-4b13-b8f9-e973a57d56b5",
   "metadata": {},
   "outputs": [
    {
     "data": {
      "text/plain": [
       "30"
      ]
     },
     "execution_count": 22,
     "metadata": {},
     "output_type": "execute_result"
    }
   ],
   "source": [
    "number "
   ]
  },
  {
   "cell_type": "code",
   "execution_count": 29,
   "id": "530ea7ad-fd5f-4956-9df2-b1d5cf886ef2",
   "metadata": {},
   "outputs": [],
   "source": [
    "decimal_num=2.5"
   ]
  },
  {
   "cell_type": "code",
   "execution_count": 30,
   "id": "9a2eb84f-a144-4d98-9298-bdca7df601b6",
   "metadata": {},
   "outputs": [
    {
     "data": {
      "text/plain": [
       "2.5"
      ]
     },
     "execution_count": 30,
     "metadata": {},
     "output_type": "execute_result"
    }
   ],
   "source": [
    "decimal_num"
   ]
  },
  {
   "cell_type": "code",
   "execution_count": 31,
   "id": "aa12f01b-75a8-4a39-a188-8d328faa6adc",
   "metadata": {},
   "outputs": [
    {
     "data": {
      "text/plain": [
       "float"
      ]
     },
     "execution_count": 31,
     "metadata": {},
     "output_type": "execute_result"
    }
   ],
   "source": [
    "type(decimal_num)"
   ]
  },
  {
   "cell_type": "code",
   "execution_count": 32,
   "id": "95e0a8f4-7323-4788-b9c1-75e0f2d98c68",
   "metadata": {},
   "outputs": [
    {
     "data": {
      "text/plain": [
       "str"
      ]
     },
     "execution_count": 32,
     "metadata": {},
     "output_type": "execute_result"
    }
   ],
   "source": [
    "type(\"hello\")"
   ]
  },
  {
   "cell_type": "code",
   "execution_count": 34,
   "id": "09f0b58c-ebbd-4940-b342-d8900c98eb43",
   "metadata": {},
   "outputs": [
    {
     "data": {
      "text/plain": [
       "(1+2j)"
      ]
     },
     "execution_count": 34,
     "metadata": {},
     "output_type": "execute_result"
    }
   ],
   "source": [
    "1+2j"
   ]
  },
  {
   "cell_type": "code",
   "execution_count": 35,
   "id": "77d29c3f-80cf-40f5-8e77-5ed274b66701",
   "metadata": {},
   "outputs": [
    {
     "data": {
      "text/plain": [
       "complex"
      ]
     },
     "execution_count": 35,
     "metadata": {},
     "output_type": "execute_result"
    }
   ],
   "source": [
    "type(1+2j)"
   ]
  },
  {
   "cell_type": "code",
   "execution_count": 36,
   "id": "b5fc4adf-7151-4c34-97f3-e8b93609c5be",
   "metadata": {},
   "outputs": [],
   "source": [
    "##bad way \n",
    "## dont start the variable name with numbers\n",
    "1a\n",
    "3answer "
   ]
  },
  {
   "cell_type": "code",
   "execution_count": 37,
   "id": "11c34dc0-09b9-42bc-94ba-b63b8a7e7f42",
   "metadata": {},
   "outputs": [],
   "source": [
    "number1=23"
   ]
  },
  {
   "cell_type": "code",
   "execution_count": 55,
   "id": "46ac8753-8f12-425a-8dba-4c7cedb92a39",
   "metadata": {},
   "outputs": [
    {
     "name": "stdout",
     "output_type": "stream",
     "text": [
      "ineuron\n",
      "PWSKILLS\n"
     ]
    }
   ],
   "source": [
    "## Variables are case sensstive \n",
    "company='ineuron'\n",
    "Company='PWSKILLS'\n",
    "print(company)\n",
    "print(Company)"
   ]
  },
  {
   "cell_type": "code",
   "execution_count": null,
   "id": "df60c56f-cae7-49b8-bc55-3f3e4dc75f56",
   "metadata": {},
   "outputs": [],
   "source": [
    "## Reserved keywords\n",
    "'''\n",
    "int, float, len, complex,bool,str,return,yield\n",
    "''''"
   ]
  },
  {
   "cell_type": "code",
   "execution_count": 53,
   "id": "2f44a50c-d82f-49e8-a2ac-89d8b0b128af",
   "metadata": {},
   "outputs": [],
   "source": [
    "float=32"
   ]
  },
  {
   "cell_type": "code",
   "execution_count": 56,
   "id": "dabea6e7-c187-4943-85d7-4c8e854faf78",
   "metadata": {},
   "outputs": [
    {
     "data": {
      "text/plain": [
       "True"
      ]
     },
     "execution_count": 56,
     "metadata": {},
     "output_type": "execute_result"
    }
   ],
   "source": [
    "##boolean\n",
    "True\n"
   ]
  },
  {
   "cell_type": "code",
   "execution_count": 57,
   "id": "380ce9b4-ee4a-40f7-9820-1ec6f799e647",
   "metadata": {},
   "outputs": [
    {
     "data": {
      "text/plain": [
       "False"
      ]
     },
     "execution_count": 57,
     "metadata": {},
     "output_type": "execute_result"
    }
   ],
   "source": [
    "False"
   ]
  },
  {
   "cell_type": "code",
   "execution_count": 58,
   "id": "b0efbe5c-1fdd-4d03-b413-0344ddf27e68",
   "metadata": {},
   "outputs": [
    {
     "data": {
      "text/plain": [
       "True"
      ]
     },
     "execution_count": 58,
     "metadata": {},
     "output_type": "execute_result"
    }
   ],
   "source": [
    "#or alwys takes 1st value \n",
    "\n",
    "True or False"
   ]
  },
  {
   "cell_type": "code",
   "execution_count": 59,
   "id": "ce35aca1-c1b1-4672-91dc-78a5d85524f3",
   "metadata": {},
   "outputs": [
    {
     "data": {
      "text/plain": [
       "False"
      ]
     },
     "execution_count": 59,
     "metadata": {},
     "output_type": "execute_result"
    }
   ],
   "source": [
    "#and alwys takes 2nd value\n",
    "True and False "
   ]
  },
  {
   "cell_type": "code",
   "execution_count": 60,
   "id": "b8806805-ebac-4ebb-a66c-d53b49a3d38a",
   "metadata": {},
   "outputs": [
    {
     "data": {
      "text/plain": [
       "False"
      ]
     },
     "execution_count": 60,
     "metadata": {},
     "output_type": "execute_result"
    }
   ],
   "source": [
    "not True "
   ]
  },
  {
   "cell_type": "code",
   "execution_count": 62,
   "id": "e1d873a6-7d3c-4624-b386-f72009b35fba",
   "metadata": {},
   "outputs": [
    {
     "data": {
      "text/plain": [
       "True"
      ]
     },
     "execution_count": 62,
     "metadata": {},
     "output_type": "execute_result"
    }
   ],
   "source": [
    "not False "
   ]
  },
  {
   "cell_type": "code",
   "execution_count": 63,
   "id": "03d1263d-6cc8-49d8-b4d1-3aa06f01e7e5",
   "metadata": {},
   "outputs": [
    {
     "data": {
      "text/plain": [
       "bool"
      ]
     },
     "execution_count": 63,
     "metadata": {},
     "output_type": "execute_result"
    }
   ],
   "source": [
    "type(not False)"
   ]
  },
  {
   "cell_type": "code",
   "execution_count": null,
   "id": "8bfddc2f-9cd7-441f-9e56-24fb001bf2ed",
   "metadata": {},
   "outputs": [],
   "source": []
  },
  {
   "cell_type": "code",
   "execution_count": null,
   "id": "2a02247c-8e78-4bb0-af82-754373332a55",
   "metadata": {},
   "outputs": [],
   "source": [
    "##Typecasting\n",
    "\n",
    "bool(0)"
   ]
  },
  {
   "cell_type": "code",
   "execution_count": 81,
   "id": "203506be-3c62-4e11-870d-dbd28b27bc5c",
   "metadata": {},
   "outputs": [
    {
     "data": {
      "text/plain": [
       "'23'"
      ]
     },
     "execution_count": 81,
     "metadata": {},
     "output_type": "execute_result"
    }
   ],
   "source": [
    "str(23)"
   ]
  },
  {
   "cell_type": "code",
   "execution_count": 82,
   "id": "c7b1652e-184a-4e3a-97f1-ab0ed8d4d701",
   "metadata": {},
   "outputs": [
    {
     "data": {
      "text/plain": [
       "23"
      ]
     },
     "execution_count": 82,
     "metadata": {},
     "output_type": "execute_result"
    }
   ],
   "source": [
    "int('23')"
   ]
  },
  {
   "cell_type": "code",
   "execution_count": 83,
   "id": "98e4350d-5740-491c-b587-87ede9b45a73",
   "metadata": {},
   "outputs": [
    {
     "data": {
      "text/plain": [
       "int"
      ]
     },
     "execution_count": 83,
     "metadata": {},
     "output_type": "execute_result"
    }
   ],
   "source": [
    "type(int('23'))"
   ]
  },
  {
   "cell_type": "code",
   "execution_count": 66,
   "id": "05e1dd69-e5e0-4a24-a2c7-e649a0bcab91",
   "metadata": {},
   "outputs": [
    {
     "data": {
      "text/plain": [
       "True"
      ]
     },
     "execution_count": 66,
     "metadata": {},
     "output_type": "execute_result"
    }
   ],
   "source": [
    "bool(1)"
   ]
  },
  {
   "cell_type": "code",
   "execution_count": 68,
   "id": "2697e902-46b5-43cd-8ab9-719872919a4f",
   "metadata": {},
   "outputs": [
    {
     "data": {
      "text/plain": [
       "True"
      ]
     },
     "execution_count": 68,
     "metadata": {},
     "output_type": "execute_result"
    }
   ],
   "source": [
    "bool(2)"
   ]
  },
  {
   "cell_type": "code",
   "execution_count": 109,
   "id": "9bdb4286-d530-4456-8b8e-9a7ab686e6a5",
   "metadata": {},
   "outputs": [],
   "source": [
    "a=1\n",
    "if bool(a)==True:\n",
    "    \n",
    "    print(\"True\")\n"
   ]
  },
  {
   "cell_type": "code",
   "execution_count": 74,
   "id": "40f83ee0-99fe-477d-8c67-b311ce62ac41",
   "metadata": {},
   "outputs": [
    {
     "data": {
      "text/plain": [
       "False"
      ]
     },
     "execution_count": 74,
     "metadata": {},
     "output_type": "execute_result"
    }
   ],
   "source": [
    "\n",
    " type(bool(a))==True"
   ]
  },
  {
   "cell_type": "code",
   "execution_count": 88,
   "id": "219ae44c-0f94-4f6b-906c-3194f81e1223",
   "metadata": {},
   "outputs": [
    {
     "data": {
      "text/plain": [
       "12133"
      ]
     },
     "execution_count": 88,
     "metadata": {},
     "output_type": "execute_result"
    }
   ],
   "source": [
    "int(\"12133\")"
   ]
  },
  {
   "cell_type": "markdown",
   "id": "c4598a56-1430-488d-8f5f-afa39820fb5b",
   "metadata": {},
   "source": [
    "### Dynamic Typing "
   ]
  },
  {
   "cell_type": "code",
   "execution_count": 110,
   "id": "e5c00ae8-0403-4362-a6e9-c2cec73cdc9e",
   "metadata": {},
   "outputs": [],
   "source": [
    "a=12\n",
    "str1=\"aditya\"\n",
    "a=\"Var\""
   ]
  },
  {
   "cell_type": "code",
   "execution_count": 87,
   "id": "4f135441-b46a-4c61-85b4-762ba333f1eb",
   "metadata": {},
   "outputs": [
    {
     "name": "stdout",
     "output_type": "stream",
     "text": [
      "<class 'str'>\n"
     ]
    }
   ],
   "source": [
    "print(type(a))"
   ]
  },
  {
   "cell_type": "code",
   "execution_count": 89,
   "id": "a5d59e74-ad40-447d-b841-6419a9012ea2",
   "metadata": {},
   "outputs": [
    {
     "data": {
      "text/plain": [
       "1"
      ]
     },
     "execution_count": 89,
     "metadata": {},
     "output_type": "execute_result"
    }
   ],
   "source": [
    "int(1.52)"
   ]
  },
  {
   "cell_type": "markdown",
   "id": "7c6ba395-6d4a-48c5-8a85-08aee9540c4f",
   "metadata": {},
   "source": [
    "## Concatenation between different types "
   ]
  },
  {
   "cell_type": "code",
   "execution_count": 90,
   "id": "ecf748c0-f05b-4bc9-b394-8e056fbc5efa",
   "metadata": {},
   "outputs": [
    {
     "data": {
      "text/plain": [
       "'11'"
      ]
     },
     "execution_count": 90,
     "metadata": {},
     "output_type": "execute_result"
    }
   ],
   "source": [
    "\"1\"+ \"1\""
   ]
  },
  {
   "cell_type": "code",
   "execution_count": 91,
   "id": "05d5a595-8e8d-4744-ad8e-39b6b5be18ee",
   "metadata": {},
   "outputs": [
    {
     "data": {
      "text/plain": [
       "2"
      ]
     },
     "execution_count": 91,
     "metadata": {},
     "output_type": "execute_result"
    }
   ],
   "source": [
    "int(\"1\")+int(\"1\")"
   ]
  },
  {
   "cell_type": "code",
   "execution_count": 92,
   "id": "b69bc5a9-e29e-4d7a-b6a0-6bf13d1fbce3",
   "metadata": {},
   "outputs": [
    {
     "ename": "TypeError",
     "evalue": "can't multiply sequence by non-int of type 'str'",
     "output_type": "error",
     "traceback": [
      "\u001b[0;31m---------------------------------------------------------------------------\u001b[0m",
      "\u001b[0;31mTypeError\u001b[0m                                 Traceback (most recent call last)",
      "Cell \u001b[0;32mIn[92], line 1\u001b[0m\n\u001b[0;32m----> 1\u001b[0m \u001b[38;5;124;43m\"\u001b[39;49m\u001b[38;5;124;43m1\u001b[39;49m\u001b[38;5;124;43m\"\u001b[39;49m\u001b[38;5;241;43m*\u001b[39;49m\u001b[38;5;124;43m\"\u001b[39;49m\u001b[38;5;124;43m1\u001b[39;49m\u001b[38;5;124;43m\"\u001b[39;49m\n",
      "\u001b[0;31mTypeError\u001b[0m: can't multiply sequence by non-int of type 'str'"
     ]
    }
   ],
   "source": [
    "\"1\"*\"1\""
   ]
  },
  {
   "cell_type": "code",
   "execution_count": 95,
   "id": "62e3a734-1b80-48ad-971f-0f0c9c949481",
   "metadata": {},
   "outputs": [
    {
     "data": {
      "text/plain": [
       "'1111111111111111111111111111111111111111111111111111111111111111111111111111111111111111111111111111111111111111111111111111111111111111111111111111111111111111111111111111111111111111111111111111111111111111111111111111111111111111111111111111111111111111111111111111111111111111111111111111111111111111111111111111111111111111111111111111111111111111111111111111111111111111111111111111111111111111111111111111111111111111111111111111111111111111111111111111111111111111111111111111111111111111111111111111111111111111111111111111111111111111111111111111111111111111111111111111111111111111111111111111111111111111111111111111111111111111111111111111111111111111111111111111111111111111111111111111111111111111111111111111111111111111111111111111111111111111111111111111111111111111111111111111111111111111111111111111111111111111111111111111111111111111111111111111111111111111111111111111111111111111111111111111111111111111111111111111111111111111111111111111111111111111111111111111111111111111'"
      ]
     },
     "execution_count": 95,
     "metadata": {},
     "output_type": "execute_result"
    }
   ],
   "source": [
    "\"1\"*1000"
   ]
  },
  {
   "cell_type": "code",
   "execution_count": null,
   "id": "91536484-e5f4-4aec-8034-37562c86a0c6",
   "metadata": {},
   "outputs": [],
   "source": []
  }
 ],
 "metadata": {
  "kernelspec": {
   "display_name": "Python 3 (ipykernel)",
   "language": "python",
   "name": "python3"
  },
  "language_info": {
   "codemirror_mode": {
    "name": "ipython",
    "version": 3
   },
   "file_extension": ".py",
   "mimetype": "text/x-python",
   "name": "python",
   "nbconvert_exporter": "python",
   "pygments_lexer": "ipython3",
   "version": "3.10.8"
  }
 },
 "nbformat": 4,
 "nbformat_minor": 5
}
