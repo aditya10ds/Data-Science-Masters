{
 "cells": [
  {
   "cell_type": "markdown",
   "id": "81644c85-2723-45f6-a2a0-41ceec69b15b",
   "metadata": {},
   "source": [
    "## Map, Reduce , Filter Function"
   ]
  },
  {
   "cell_type": "code",
   "execution_count": 1,
   "id": "5d0f1729-ad10-4d3c-bd6a-1628a7129c0f",
   "metadata": {},
   "outputs": [],
   "source": [
    "l = [1,2,3,4,5,6]"
   ]
  },
  {
   "cell_type": "code",
   "execution_count": 2,
   "id": "1387b9da-bcc6-4cef-8286-d1a102320913",
   "metadata": {},
   "outputs": [],
   "source": [
    "def test(l):\n",
    "    l1=[]\n",
    "    for i in l:\n",
    "        l1.append(i**2)\n",
    "    return l1  "
   ]
  },
  {
   "cell_type": "code",
   "execution_count": 3,
   "id": "e6e8b768-14e5-4576-b1fa-027f85cc9ff2",
   "metadata": {},
   "outputs": [
    {
     "data": {
      "text/plain": [
       "[1, 4, 9, 16, 25, 36]"
      ]
     },
     "execution_count": 3,
     "metadata": {},
     "output_type": "execute_result"
    }
   ],
   "source": [
    "test(l)"
   ]
  },
  {
   "cell_type": "code",
   "execution_count": 4,
   "id": "d116f9ac-8ea4-4463-984b-77abd1c1498b",
   "metadata": {},
   "outputs": [],
   "source": [
    "def sq(x):\n",
    "    return x**2"
   ]
  },
  {
   "cell_type": "code",
   "execution_count": 5,
   "id": "b2fa31b4-244d-4414-b30e-63f91afcda81",
   "metadata": {},
   "outputs": [
    {
     "data": {
      "text/plain": [
       "[1, 4, 9, 16, 25, 36]"
      ]
     },
     "execution_count": 5,
     "metadata": {},
     "output_type": "execute_result"
    }
   ],
   "source": [
    "list(map(sq,l))"
   ]
  },
  {
   "cell_type": "code",
   "execution_count": 9,
   "id": "dccbb381-1244-443e-a3f6-5aac7685ad05",
   "metadata": {},
   "outputs": [
    {
     "data": {
      "text/plain": [
       "[1, 4, 9, 16, 25, 36]"
      ]
     },
     "execution_count": 9,
     "metadata": {},
     "output_type": "execute_result"
    }
   ],
   "source": [
    "list(map(lambda x : x**2,l))"
   ]
  },
  {
   "cell_type": "code",
   "execution_count": 10,
   "id": "5af09de3-472f-4984-89b3-e77843cdb63b",
   "metadata": {},
   "outputs": [
    {
     "data": {
      "text/plain": [
       "[13, 14, 15, 16, 17, 18]"
      ]
     },
     "execution_count": 10,
     "metadata": {},
     "output_type": "execute_result"
    }
   ],
   "source": [
    "list(map(lambda x : x+12,l))"
   ]
  },
  {
   "cell_type": "code",
   "execution_count": 11,
   "id": "c82680e4-fae5-47d1-a16b-35fe141e2580",
   "metadata": {},
   "outputs": [
    {
     "data": {
      "text/plain": [
       "['1', '2', '3', '4', '5', '6']"
      ]
     },
     "execution_count": 11,
     "metadata": {},
     "output_type": "execute_result"
    }
   ],
   "source": [
    "list(map(lambda x : str(x),l))"
   ]
  },
  {
   "cell_type": "code",
   "execution_count": 12,
   "id": "65d671ad-6475-409a-832b-26dcfde2aeb7",
   "metadata": {},
   "outputs": [],
   "source": [
    "l1=[1,2,3,4,5]\n",
    "l2=[6,7,8,9,10]"
   ]
  },
  {
   "cell_type": "code",
   "execution_count": 13,
   "id": "3f5caec6-92d3-4073-bae8-0969cd9da747",
   "metadata": {},
   "outputs": [
    {
     "data": {
      "text/plain": [
       "[7, 9, 11, 13, 15]"
      ]
     },
     "execution_count": 13,
     "metadata": {},
     "output_type": "execute_result"
    }
   ],
   "source": [
    "list(map(lambda x,y : x+y, l1,l2))"
   ]
  },
  {
   "cell_type": "code",
   "execution_count": 16,
   "id": "5ff2ac0a-fd32-4fbf-af0e-9f7a73061441",
   "metadata": {},
   "outputs": [
    {
     "data": {
      "text/plain": [
       "[7, 9, 11, 13, 15]"
      ]
     },
     "execution_count": 16,
     "metadata": {},
     "output_type": "execute_result"
    }
   ],
   "source": [
    "list(map(f, l1,l2))"
   ]
  },
  {
   "cell_type": "code",
   "execution_count": 15,
   "id": "ccf41095-85b6-4684-810d-4e427aaa5ceb",
   "metadata": {},
   "outputs": [],
   "source": [
    "f= lambda x,y : x+y"
   ]
  },
  {
   "cell_type": "code",
   "execution_count": 17,
   "id": "d1131c4a-2cdb-4d08-8d81-70c75f9e1df5",
   "metadata": {},
   "outputs": [],
   "source": [
    "s=\"pwskills\""
   ]
  },
  {
   "cell_type": "code",
   "execution_count": 18,
   "id": "bfd87c78-8d4b-454e-8b1c-d52a3e3746f7",
   "metadata": {},
   "outputs": [
    {
     "data": {
      "text/plain": [
       "['P', 'W', 'S', 'K', 'I', 'L', 'L', 'S']"
      ]
     },
     "execution_count": 18,
     "metadata": {},
     "output_type": "execute_result"
    }
   ],
   "source": [
    "list(map(lambda x : x.upper(), s))"
   ]
  },
  {
   "cell_type": "code",
   "execution_count": 3,
   "id": "27133f12-e046-46f8-8829-ecaf86e63014",
   "metadata": {},
   "outputs": [],
   "source": [
    "from functools import reduce "
   ]
  },
  {
   "cell_type": "code",
   "execution_count": 4,
   "id": "db0a2b2e-b1fc-4e84-9161-dbb64975e180",
   "metadata": {},
   "outputs": [],
   "source": [
    "l= [1,2,3,4,4,5]"
   ]
  },
  {
   "cell_type": "code",
   "execution_count": 5,
   "id": "1aa36c2a-c0b6-4802-b2d5-514e0c1aebd0",
   "metadata": {},
   "outputs": [
    {
     "data": {
      "text/plain": [
       "19"
      ]
     },
     "execution_count": 5,
     "metadata": {},
     "output_type": "execute_result"
    }
   ],
   "source": [
    "reduce(lambda x,y :x+y , l)"
   ]
  },
  {
   "cell_type": "code",
   "execution_count": 6,
   "id": "6fb3732a-1d41-4e74-ad83-fc80ee87b20f",
   "metadata": {},
   "outputs": [],
   "source": [
    "def add(x,y):\n",
    "    return x+y"
   ]
  },
  {
   "cell_type": "code",
   "execution_count": 7,
   "id": "df367e71-d002-435b-ab84-c22b81402588",
   "metadata": {},
   "outputs": [
    {
     "data": {
      "text/plain": [
       "19"
      ]
     },
     "execution_count": 7,
     "metadata": {},
     "output_type": "execute_result"
    }
   ],
   "source": [
    "reduce(add,l)"
   ]
  },
  {
   "cell_type": "code",
   "execution_count": 9,
   "id": "8dbbf2b5-e6b9-423b-833d-15be1782e624",
   "metadata": {},
   "outputs": [
    {
     "ename": "NameError",
     "evalue": "name 'z' is not defined",
     "output_type": "error",
     "traceback": [
      "\u001b[0;31m---------------------------------------------------------------------------\u001b[0m",
      "\u001b[0;31mNameError\u001b[0m                                 Traceback (most recent call last)",
      "Cell \u001b[0;32mIn[9], line 1\u001b[0m\n\u001b[0;32m----> 1\u001b[0m \u001b[43mreduce\u001b[49m\u001b[43m(\u001b[49m\u001b[38;5;28;43;01mlambda\u001b[39;49;00m\u001b[43m \u001b[49m\u001b[43mx\u001b[49m\u001b[43m,\u001b[49m\u001b[43my\u001b[49m\u001b[43m \u001b[49m\u001b[43m:\u001b[49m\u001b[43mx\u001b[49m\u001b[38;5;241;43m+\u001b[39;49m\u001b[43my\u001b[49m\u001b[38;5;241;43m+\u001b[39;49m\u001b[43mz\u001b[49m\u001b[43m \u001b[49m\u001b[43m,\u001b[49m\u001b[43m \u001b[49m\u001b[43ml\u001b[49m\u001b[43m)\u001b[49m\n",
      "Cell \u001b[0;32mIn[9], line 1\u001b[0m, in \u001b[0;36m<lambda>\u001b[0;34m(x, y)\u001b[0m\n\u001b[0;32m----> 1\u001b[0m reduce(\u001b[38;5;28;01mlambda\u001b[39;00m x,y :x\u001b[38;5;241m+\u001b[39my\u001b[38;5;241m+\u001b[39m\u001b[43mz\u001b[49m , l)\n",
      "\u001b[0;31mNameError\u001b[0m: name 'z' is not defined"
     ]
    }
   ],
   "source": [
    "reduce(lambda x,y :x+y+z , l)"
   ]
  },
  {
   "cell_type": "code",
   "execution_count": 10,
   "id": "b37e510a-b77e-44b4-ae23-0486971aa996",
   "metadata": {},
   "outputs": [
    {
     "data": {
      "text/plain": [
       "[1, 2, 3, 4, 4, 5]"
      ]
     },
     "execution_count": 10,
     "metadata": {},
     "output_type": "execute_result"
    }
   ],
   "source": [
    "l"
   ]
  },
  {
   "cell_type": "code",
   "execution_count": 11,
   "id": "d45d1a24-6c71-482b-9207-6a4b9708428a",
   "metadata": {},
   "outputs": [
    {
     "ename": "TypeError",
     "evalue": "reduce() of empty iterable with no initial value",
     "output_type": "error",
     "traceback": [
      "\u001b[0;31m---------------------------------------------------------------------------\u001b[0m",
      "\u001b[0;31mTypeError\u001b[0m                                 Traceback (most recent call last)",
      "Cell \u001b[0;32mIn[11], line 1\u001b[0m\n\u001b[0;32m----> 1\u001b[0m \u001b[43mreduce\u001b[49m\u001b[43m(\u001b[49m\u001b[38;5;28;43;01mlambda\u001b[39;49;00m\u001b[43m \u001b[49m\u001b[43mx\u001b[49m\u001b[43m,\u001b[49m\u001b[43my\u001b[49m\u001b[43m \u001b[49m\u001b[43m:\u001b[49m\u001b[43mx\u001b[49m\u001b[38;5;241;43m+\u001b[39;49m\u001b[43my\u001b[49m\u001b[43m \u001b[49m\u001b[43m,\u001b[49m\u001b[43m \u001b[49m\u001b[43m[\u001b[49m\u001b[43m]\u001b[49m\u001b[43m)\u001b[49m\n",
      "\u001b[0;31mTypeError\u001b[0m: reduce() of empty iterable with no initial value"
     ]
    }
   ],
   "source": [
    "reduce(lambda x,y :x+y , [])"
   ]
  },
  {
   "cell_type": "code",
   "execution_count": 12,
   "id": "dd4cef58-5ce2-4666-92b3-f71715f91fec",
   "metadata": {},
   "outputs": [
    {
     "data": {
      "text/plain": [
       "1"
      ]
     },
     "execution_count": 12,
     "metadata": {},
     "output_type": "execute_result"
    }
   ],
   "source": [
    "reduce(lambda x,y :x+y , [1])"
   ]
  },
  {
   "cell_type": "code",
   "execution_count": 13,
   "id": "9a52142d-ec2c-4c2f-9e37-24a7d14348f4",
   "metadata": {},
   "outputs": [
    {
     "data": {
      "text/plain": [
       "1"
      ]
     },
     "execution_count": 13,
     "metadata": {},
     "output_type": "execute_result"
    }
   ],
   "source": [
    "reduce(lambda x,y :x*y ,[1])"
   ]
  },
  {
   "cell_type": "code",
   "execution_count": 14,
   "id": "f7c7722c-de22-49a2-a6e2-e067e3269929",
   "metadata": {},
   "outputs": [
    {
     "data": {
      "text/plain": [
       "[1, 2, 3, 4, 4, 5]"
      ]
     },
     "execution_count": 14,
     "metadata": {},
     "output_type": "execute_result"
    }
   ],
   "source": [
    "l"
   ]
  },
  {
   "cell_type": "code",
   "execution_count": 15,
   "id": "25b41bfd-794c-44c1-8f6e-005f0f3598a9",
   "metadata": {},
   "outputs": [
    {
     "data": {
      "text/plain": [
       "5"
      ]
     },
     "execution_count": 15,
     "metadata": {},
     "output_type": "execute_result"
    }
   ],
   "source": [
    "reduce(lambda x,y : x if x>y else y,l)"
   ]
  },
  {
   "cell_type": "code",
   "execution_count": 19,
   "id": "930e35be-0cd3-44d1-b020-0c54af06b75b",
   "metadata": {},
   "outputs": [
    {
     "data": {
      "text/plain": [
       "[1, 2, 3, 4, 4, 5]"
      ]
     },
     "execution_count": 19,
     "metadata": {},
     "output_type": "execute_result"
    }
   ],
   "source": [
    "l"
   ]
  },
  {
   "cell_type": "code",
   "execution_count": 21,
   "id": "aa92cd99-9dde-4680-8430-02382092dadf",
   "metadata": {},
   "outputs": [
    {
     "data": {
      "text/plain": [
       "[2, 4, 4]"
      ]
     },
     "execution_count": 21,
     "metadata": {},
     "output_type": "execute_result"
    }
   ],
   "source": [
    "list(filter(lambda x :x%2==0, l))"
   ]
  },
  {
   "cell_type": "code",
   "execution_count": 22,
   "id": "ab789660-4909-439a-b34f-08e5f70f140f",
   "metadata": {},
   "outputs": [
    {
     "data": {
      "text/plain": [
       "[1, 3, 5]"
      ]
     },
     "execution_count": 22,
     "metadata": {},
     "output_type": "execute_result"
    }
   ],
   "source": [
    "list(filter(lambda x :x%2!=0, l))"
   ]
  },
  {
   "cell_type": "code",
   "execution_count": 23,
   "id": "14ec14c3-cf2d-4cb8-bad0-ba5178be735f",
   "metadata": {},
   "outputs": [],
   "source": [
    "l1= [-2,3,4,5,6,-3,-6,-7]"
   ]
  },
  {
   "cell_type": "code",
   "execution_count": 25,
   "id": "c8c18580-7fd1-4c0d-b79b-e62d21cfd50f",
   "metadata": {},
   "outputs": [
    {
     "data": {
      "text/plain": [
       "[-2, -3, -6, -7]"
      ]
     },
     "execution_count": 25,
     "metadata": {},
     "output_type": "execute_result"
    }
   ],
   "source": [
    "list(filter(lambda x :x<0, l1))"
   ]
  },
  {
   "cell_type": "code",
   "execution_count": 26,
   "id": "32113562-282b-434a-bcd1-a1f4701c3c40",
   "metadata": {},
   "outputs": [
    {
     "data": {
      "text/plain": [
       "[3, 4, 5, 6]"
      ]
     },
     "execution_count": 26,
     "metadata": {},
     "output_type": "execute_result"
    }
   ],
   "source": [
    "list(filter(lambda x :x>0, l1))"
   ]
  },
  {
   "cell_type": "code",
   "execution_count": 27,
   "id": "d58ee776-3a63-4097-aeb0-532f87c28ae8",
   "metadata": {},
   "outputs": [],
   "source": [
    "l2= [\"sudh\", \"pwskills\", \"kumar\", \"bengalore\",\"krish\"]"
   ]
  },
  {
   "cell_type": "code",
   "execution_count": 28,
   "id": "65e104da-1825-452e-b504-376cdb81bc8f",
   "metadata": {},
   "outputs": [
    {
     "data": {
      "text/plain": [
       "['sudh', 'kumar', 'krish']"
      ]
     },
     "execution_count": 28,
     "metadata": {},
     "output_type": "execute_result"
    }
   ],
   "source": [
    "list(filter(lambda x: len(x)<6,l2))"
   ]
  },
  {
   "cell_type": "code",
   "execution_count": null,
   "id": "d79b4827-4a56-435b-9094-ff9ee00868d6",
   "metadata": {},
   "outputs": [],
   "source": []
  }
 ],
 "metadata": {
  "kernelspec": {
   "display_name": "Python 3 (ipykernel)",
   "language": "python",
   "name": "python3"
  },
  "language_info": {
   "codemirror_mode": {
    "name": "ipython",
    "version": 3
   },
   "file_extension": ".py",
   "mimetype": "text/x-python",
   "name": "python",
   "nbconvert_exporter": "python",
   "pygments_lexer": "ipython3",
   "version": "3.10.8"
  }
 },
 "nbformat": 4,
 "nbformat_minor": 5
}
